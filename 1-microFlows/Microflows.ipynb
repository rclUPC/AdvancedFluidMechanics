{
  "cells": [
    {
      "cell_type": "markdown",
      "metadata": {
        "id": "view-in-github",
        "colab_type": "text"
      },
      "source": [
        "<a href=\"https://colab.research.google.com/github/rclUPC/AdvancedFluidMechanics/blob/main/1-microFlows/Microflows.ipynb\" target=\"_parent\"><img src=\"https://colab.research.google.com/assets/colab-badge.svg\" alt=\"Open In Colab\"/></a>"
      ]
    },
    {
      "cell_type": "markdown",
      "metadata": {
        "id": "GEn_au-n2xpx"
      },
      "source": [
        "# Microflows. A very brief introduction with lubrication and capillarity\n",
        "\n",
        "## 1. Laminar flows and fundamentals of lubrication\n",
        "\n",
        "For a correct development of this lecture, a review of viscous flows (Couette and Hagen-Poiseullie flows and similar) studied in previous courses of Introductory Fluid Mechanics is advised.\n",
        "\n",
        "This section is focused on fluid flows at very small scales. This is the basis of the technological field known as [Microfluidics](https://en.wikipedia.org/wiki/Microfluidics).\n",
        "\n",
        "At very small scales, with confined or semi-confined flows, Reynolds number is commonly very small even with high velocities or low viscosities. For example, for a small journal bearing, say 5mm diameter, spinning at 1500 rpm, with a clearance of 0.1 mm, even with water, Reynolds number is\n",
        "\n",
        "$$\n",
        "\\text{Re} = \\frac{\\omega d c}{2\\nu} \\tag{1}\n",
        "$$"
      ]
    },
    {
      "cell_type": "code",
      "execution_count": 1,
      "metadata": {
        "id": "Nz3-kam52xp0"
      },
      "outputs": [],
      "source": [
        "import numpy as np"
      ]
    },
    {
      "cell_type": "code",
      "execution_count": 2,
      "metadata": {
        "id": "_RNm6ORk2xp1",
        "outputId": "1a2c8b6e-2806-4949-f6f0-f49c56a44d8d",
        "colab": {
          "base_uri": "https://localhost:8080/"
        }
      },
      "outputs": [
        {
          "output_type": "stream",
          "name": "stdout",
          "text": [
            "Reynolds number = 39.3\n"
          ]
        }
      ],
      "source": [
        "d = 5 # mm\n",
        "c = 0.1 # mm\n",
        "N = 1500 # rpm\n",
        "nu = 1e-6 # m^2/s\n",
        "d = 5/1000 # m\n",
        "c = c/1000 # m\n",
        "omega = 1500*np.pi/30 #rad/s\n",
        "u = omega*d/2 #m/s\n",
        "Re = u*c/nu\n",
        "print('Reynolds number = {:.3g}'.format(Re))"
      ]
    },
    {
      "cell_type": "markdown",
      "metadata": {
        "id": "jOH9EN1f2xp3"
      },
      "source": [
        "For more viscous fluid, or smaller devices, Reynolds number can be much lower than 1.\n",
        "\n",
        "### Activity\n",
        "\n",
        "Think on some device with fluid flow at very low Reynolds number. Estimate the value of this Reynolds number. Try to think on something with $\\text{Re} < 1$.\n",
        "\n",
        "### The velocity profile\n",
        "In previous introductory Fluid Mechanics courses, this kind of flows have been studied with very simple geometries. Examples are flow between two parallel planes with relative velocity (Couette flow) or with pressure gradient (Poisueille flow) or viscous flow inside a pipe with pressure gradient (Hagen-Poiseuille flow). For details, see sections 4.11 and 6.4 in White's book.\n",
        "\n",
        "Here we are going to generalise this kind of flows, when pressure difference and relative velocity are combined, and planes are not parallels (but quasi-parallels). This kind of flows are very important in lubrication, which has a principal role in all the industrial processes. The technology branch that studies lubrication and wear is known as _[Tribology](https://en.wikipedia.org/wiki/Tribology)_.\n",
        "\n",
        "Let's consider a 2D flow in the $x-y$ plane, confined by two surfaces (we consider as unity the length in the $z$ direction). The lower surface is plane and it lies on the $y$-normal plane, and the upper is separated by a distance $h(x,t)$.\n",
        "\n",
        "![surfaces.dio.svg](https://github.com/rclUPC/AdvancedFluidMechanics/blob/main/1-microFlows/surfaces.dio.svg?raw=1)\n",
        "\n",
        "We are considering that length $L \\gg h(x,t)$ and also that walls are planes, or with a curvature radius much larger also than $h(x,t)$\n",
        "\n",
        "The continuity equation is\n",
        "\n",
        "$$\n",
        "\\frac{\\partial u_i}{\\partial x_i} = 0 \\tag{2}\n",
        "$$\n",
        "\n",
        "that, in 2D reduces to\n",
        "\n",
        "$$\n",
        "\\frac{\\partial u}{\\partial x} + \\frac{\\partial v}{\\partial y}= 0 \\label{eq:cont} \\tag{3}\n",
        "$$\n",
        "\n",
        "The Navier-Stokes equations are\n",
        "\n",
        "$$\n",
        "\\frac{\\partial u_i}{\\partial t} + u_j\\frac{\\partial u_i}{\\partial x_j} = -\\frac{1}{\\rho}\\frac{\\partial p}{\\partial x_i} + \\nu \\frac{\\partial^2 u_i}{\\partial u_j \\partial u_j} \\tag{4}\n",
        "$$\n",
        "\n",
        "The boundary conditions are $u\\left(y=0,t\\right)=U_b(t)$ and $u\\left(y=h(x,t),t \\right)=U_t(t)$ and also $p=p(t)$\n",
        "\n",
        "As it is usually done in Fluid Mechanics, let's study which scales are important by writing the  dimensionless equations. First, we consider the aspect ratio of the geometry, $\\varepsilon = \\frac{h}{L}$, a characteristic velocity of the flow (it can be, for example, the velocity of any of the surfaces) $U$ and a characteristic pressure $p_c$ (it is usually the atmospheric pressure). Then the variables of the problem can be normalized as\n",
        "\n",
        "$$\n",
        "x^* = \\frac{x}{L}\n",
        "$$\n",
        "$$\n",
        "y^* = \\frac{y}{h} = \\frac{y}{\\varepsilon L}\n",
        "$$\n",
        "$$\n",
        "t^* = t \\frac{L}{U}\n",
        "$$\n",
        "$$\n",
        "u^* = \\frac{u}{U}\n",
        "$$\n",
        "$$\n",
        "v^* = \\frac{v}{V} = \\frac{v}{\\varepsilon U}\n",
        "$$\n",
        "$$\n",
        "p^* = \\frac{p}{p_c} \\tag{5}\n",
        "$$\n",
        "\n",
        "Then continuity equation leads to\n",
        "\n",
        "$$\n",
        "\\frac{\\partial u^*}{\\partial x^*} + \\frac{\\partial v^*}{\\partial y^*}= 0 \\label{eq:cont*} \\tag{6}\n",
        "$$\n",
        "\n",
        "that is, no changes. But Navier-Stokes equations yields\n",
        "\n",
        "$$\n",
        "\\varepsilon^2 \\text{Re}_L  \\left( \\frac{\\partial u^*}{\\partial t^*} + u^*\\frac{\\partial u^*}{\\partial x^*} + v^*\\frac{\\partial u^*}{\\partial y^*} \\right)  = -\\frac{1}{\\Lambda}\\frac{\\partial p^*}{\\partial x^*} + \\varepsilon^2 \\frac{\\partial^2 u^*}{\\partial {x^*}^2} + \\frac{\\partial^2 u^*}{\\partial {y^*}^2}\n",
        "\\tag{7a}$$\n",
        "$$\n",
        "\\varepsilon^4 \\text{Re}_L  \\left( \\frac{\\partial v^*}{\\partial t^*} + u^*\\frac{\\partial v^*}{\\partial x^*} + v^*\\frac{\\partial v^*}{\\partial y^*} \\right)  = -\\frac{1}{\\Lambda}\\frac{\\partial p^*}{\\partial y^*} + \\varepsilon^4 \\frac{\\partial^2 v^*}{\\partial {x^*}^2} + \\varepsilon^2 \\frac{\\partial^2 v^*}{\\partial  {y^*}^2}\n",
        "\\tag{7b}\n",
        "$$\n",
        "\n",
        "where $\\Lambda = \\frac{\\mu U L}{p_c h^2}$ is the _bearing number_ (ratio of viscous and pressure forces).\n",
        "\n",
        "For the previous example, considering a bearing lentgh of the same size than diameter, the value of $\\varepsilon^2 \\text{Re}_L$ is"
      ]
    },
    {
      "cell_type": "code",
      "execution_count": 3,
      "metadata": {
        "id": "E-bJNrax2xp3",
        "outputId": "2351bcff-ae3d-414b-c82e-3516c2c82e63",
        "colab": {
          "base_uri": "https://localhost:8080/"
        }
      },
      "outputs": [
        {
          "output_type": "stream",
          "name": "stdout",
          "text": [
            "epsilon2ReL = 0.08\n"
          ]
        }
      ],
      "source": [
        "epsilon = c/(np.pi*d)\n",
        "L = 5 # mm\n",
        "L = L/1000 #  m\n",
        "ReL = Re*L/c\n",
        "epsilon2ReL = epsilon**2*ReL\n",
        "print('epsilon2ReL = {:.2g}'.format(epsilon2ReL))"
      ]
    },
    {
      "cell_type": "markdown",
      "metadata": {
        "id": "T9FvAa5s2xp4"
      },
      "source": [
        "That is, $\\varepsilon^2 \\text{Re}_L \\ll 1$, and, hence, inertial term (including time derivative) can usually be neglected (Remember that this example is with water. Lubricant oils are usually hundreds times more viscous than water)\n",
        "\n",
        "On  the other hand, bearing number is typically close to unity. We can estimate the characteristic pressure of the journal bearing, and, from here, the characteristic load."
      ]
    },
    {
      "cell_type": "code",
      "execution_count": 4,
      "metadata": {
        "id": "Mq7sseo-2xp5",
        "outputId": "bb38bc5f-7330-4d05-b3a9-86b93ab77fe0",
        "colab": {
          "base_uri": "https://localhost:8080/"
        }
      },
      "outputs": [
        {
          "output_type": "stream",
          "name": "stdout",
          "text": [
            "p_c = 196.3 Pa\n"
          ]
        }
      ],
      "source": [
        "rho = 1000 # Kg/m^3\n",
        "Lambda = 1\n",
        "p_c = rho*nu*u*L/(Lambda*c**2)\n",
        "print('p_c = {:.4g} Pa'.format(p_c))"
      ]
    },
    {
      "cell_type": "code",
      "execution_count": 5,
      "metadata": {
        "id": "8t_Aokio2xp5",
        "outputId": "e06d54de-7755-4ce8-cfab-5a1ae9b144c4",
        "colab": {
          "base_uri": "https://localhost:8080/"
        }
      },
      "outputs": [
        {
          "output_type": "stream",
          "name": "stdout",
          "text": [
            "W = 0.00491 N\n"
          ]
        }
      ],
      "source": [
        "W = p_c*L*d\n",
        "print('W = {:.3g} N'.format(W))"
      ]
    },
    {
      "cell_type": "markdown",
      "metadata": {
        "id": "zhuG6Sw32xp6"
      },
      "source": [
        "This is a very low load. Actually it is the typical load that this bearing can bears with a _uniform_ clearance, i.e. without eccentricity. When load increases, the journal moves away from the center and the clearance is not longer uniform, and the value can be very small at specific location in the direction of eccentricity.\n",
        "\n",
        "Equation (7a) leads then to\n",
        "\n",
        "$$\n",
        "-\\frac{1}{\\rho}\\frac{\\partial p}{\\partial x} + \\nu \\frac{\\partial^2 u}{\\partial y^2} = 0\n",
        "$$\n",
        "\n",
        "and (7b) to\n",
        "\n",
        "$$\n",
        "\\frac{\\partial p}{\\partial y} = 0\n",
        "$$\n",
        "\n",
        "Note that in (7a) there is no explicit dependence on time. But time is still an independent variable through $p(x,t)$ and boundary conditions, which can be unesteady.\n",
        "\n",
        "Now we integrate the linear equation"
      ]
    },
    {
      "cell_type": "code",
      "execution_count": 6,
      "metadata": {
        "id": "6Mywq1Wj2xp6"
      },
      "outputs": [],
      "source": [
        "import sympy as sp\n",
        "sp.init_printing()"
      ]
    },
    {
      "cell_type": "code",
      "execution_count": 7,
      "metadata": {
        "id": "yicu-0uK2xp7"
      },
      "outputs": [],
      "source": [
        "x,y,t,mu = sp.symbols('x,y,t,mu')\n",
        "u = sp.Function('u')\n",
        "p = sp.Function('p')\n",
        "h = sp.Function('h')\n",
        "p_x = sp.Function('p_x') # This function is the gradient of pressure in x direction"
      ]
    },
    {
      "cell_type": "code",
      "execution_count": 8,
      "metadata": {
        "id": "NmhyfK6f2xp7",
        "outputId": "b1e27960-7b8c-4d55-a7c0-7a8a8779c60d",
        "colab": {
          "base_uri": "https://localhost:8080/",
          "height": 57
        }
      },
      "outputs": [
        {
          "output_type": "execute_result",
          "data": {
            "text/plain": [
              " 2                   \n",
              "d           pₓ(x)    \n",
              "───(u(y)) - ───── = 0\n",
              "  2           μ      \n",
              "dy                   "
            ],
            "text/latex": "$\\displaystyle \\frac{d^{2}}{d y^{2}} u{\\left(y \\right)} - \\frac{p_{x}{\\left(x \\right)}}{\\mu} = 0$"
          },
          "metadata": {},
          "execution_count": 8
        }
      ],
      "source": [
        "exp = -p_x(x)/mu+sp.diff(u(y),y,2)\n",
        "sp.Eq(exp,0)"
      ]
    },
    {
      "cell_type": "markdown",
      "metadata": {
        "id": "GlDMTrBG2xp8"
      },
      "source": [
        "We define the top and bottom velocities and the boundary conditions, by means of a dictionary"
      ]
    },
    {
      "cell_type": "code",
      "execution_count": 9,
      "metadata": {
        "id": "i40lcsRE2xp8"
      },
      "outputs": [],
      "source": [
        "Ub,Ut = sp.symbols('U_b,U_t')\n",
        "ics = {u(0):Ub,u(h(x)):Ut}"
      ]
    },
    {
      "cell_type": "markdown",
      "metadata": {
        "id": "dgSOT23z2xp9"
      },
      "source": [
        "And we solve the EDO with the defined boundary conditions"
      ]
    },
    {
      "cell_type": "code",
      "execution_count": 10,
      "metadata": {
        "id": "l48a2bPE2xp9"
      },
      "outputs": [],
      "source": [
        "Sol = sp.dsolve(exp,u(y),ics=ics)"
      ]
    },
    {
      "cell_type": "markdown",
      "metadata": {
        "id": "8vqNJCPo2xp9"
      },
      "source": [
        "And this is the solution:"
      ]
    },
    {
      "cell_type": "code",
      "execution_count": 11,
      "metadata": {
        "id": "wDELz3Ys2xp-",
        "outputId": "4f50158e-e95f-495b-d466-c38bd58bb9dc",
        "colab": {
          "base_uri": "https://localhost:8080/",
          "height": 58
        }
      },
      "outputs": [
        {
          "output_type": "execute_result",
          "data": {
            "text/plain": [
              "                                               2      \n",
              "               ⎛  U_b     Uₜ    h(x)⋅pₓ(x)⎞   y ⋅pₓ(x)\n",
              "u(y) = U_b + y⋅⎜- ──── + ──── - ──────────⎟ + ────────\n",
              "               ⎝  h(x)   h(x)      2⋅μ    ⎠     2⋅μ   "
            ],
            "text/latex": "$\\displaystyle u{\\left(y \\right)} = U_{b} + y \\left(- \\frac{U_{b}}{h{\\left(x \\right)}} + \\frac{U_{t}}{h{\\left(x \\right)}} - \\frac{h{\\left(x \\right)} p_{x}{\\left(x \\right)}}{2 \\mu}\\right) + \\frac{y^{2} p_{x}{\\left(x \\right)}}{2 \\mu}$"
          },
          "metadata": {},
          "execution_count": 11
        }
      ],
      "source": [
        "Sol"
      ]
    },
    {
      "cell_type": "markdown",
      "metadata": {
        "id": "waC9YeTA2xp-"
      },
      "source": [
        "That can be a little bit simplified"
      ]
    },
    {
      "cell_type": "code",
      "execution_count": 12,
      "metadata": {
        "id": "g0ho8Nn82xp-",
        "outputId": "8e5bfdc0-7db8-4da5-caec-a468c3675b58",
        "colab": {
          "base_uri": "https://localhost:8080/",
          "height": 58
        }
      },
      "outputs": [
        {
          "output_type": "display_data",
          "data": {
            "text/plain": [
              "                               2                     \n",
              "         U_b⋅y         Uₜ⋅y   y ⋅pₓ(x)   y⋅h(x)⋅pₓ(x)\n",
              "u(y) = - ───── + U_b + ──── + ──────── - ────────────\n",
              "         h(x)          h(x)     2⋅μ          2⋅μ     "
            ],
            "text/latex": "$\\displaystyle u{\\left(y \\right)} = - \\frac{U_{b} y}{h{\\left(x \\right)}} + U_{b} + \\frac{U_{t} y}{h{\\left(x \\right)}} + \\frac{y^{2} p_{x}{\\left(x \\right)}}{2 \\mu} - \\frac{y h{\\left(x \\right)} p_{x}{\\left(x \\right)}}{2 \\mu}$"
          },
          "metadata": {}
        }
      ],
      "source": [
        "Sol = Sol.simplify()\n",
        "display(Sol)"
      ]
    },
    {
      "cell_type": "markdown",
      "metadata": {
        "id": "-U3eitsx2xp_"
      },
      "source": [
        "Let's consider, for the sake of simplicity, the case with $U_t(t) = U; U_b(t)=0$"
      ]
    },
    {
      "cell_type": "code",
      "execution_count": 13,
      "metadata": {
        "id": "aChiB3H72xp_",
        "outputId": "c1f75bd4-3e27-449f-de71-c51b5e2d3995",
        "colab": {
          "base_uri": "https://localhost:8080/",
          "height": 58
        }
      },
      "outputs": [
        {
          "output_type": "display_data",
          "data": {
            "text/plain": [
              "               2                     \n",
              "       U⋅y    y ⋅pₓ(x)   y⋅h(x)⋅pₓ(x)\n",
              "u(y) = ──── + ──────── - ────────────\n",
              "       h(x)     2⋅μ          2⋅μ     "
            ],
            "text/latex": "$\\displaystyle u{\\left(y \\right)} = \\frac{U y}{h{\\left(x \\right)}} + \\frac{y^{2} p_{x}{\\left(x \\right)}}{2 \\mu} - \\frac{y h{\\left(x \\right)} p_{x}{\\left(x \\right)}}{2 \\mu}$"
          },
          "metadata": {}
        }
      ],
      "source": [
        "U = sp.symbols('U')\n",
        "Sol = Sol.replace(Ut,U).replace(Ub,0)\n",
        "display(Sol)"
      ]
    },
    {
      "cell_type": "markdown",
      "metadata": {
        "id": "4V_2EqVL2xp_"
      },
      "source": [
        "In order to calculate the pressure distribution, we need another condition for the velocity. This condition is the **mass balance**. The flow rate in any section $x$ must be\n",
        "independent of $x$"
      ]
    },
    {
      "cell_type": "code",
      "execution_count": 14,
      "metadata": {
        "id": "ET3IiZ5a2xp_",
        "outputId": "699ea4bc-c95c-487a-baac-6a4ca4166b74",
        "colab": {
          "base_uri": "https://localhost:8080/",
          "height": 58
        }
      },
      "outputs": [
        {
          "output_type": "display_data",
          "data": {
            "text/plain": [
              "                               3         \n",
              "⎛  U      h(x)⋅pₓ(x)⎞  2      h (x)⋅pₓ(x)\n",
              "⎜────── - ──────────⎟⋅h (x) + ───────────\n",
              "⎝2⋅h(x)      4⋅μ    ⎠             6⋅μ    "
            ],
            "text/latex": "$\\displaystyle \\left(\\frac{U}{2 h{\\left(x \\right)}} - \\frac{h{\\left(x \\right)} p_{x}{\\left(x \\right)}}{4 \\mu}\\right) h^{2}{\\left(x \\right)} + \\frac{h^{3}{\\left(x \\right)} p_{x}{\\left(x \\right)}}{6 \\mu}$"
          },
          "metadata": {}
        }
      ],
      "source": [
        "intU = sp.integrate(Sol.rhs,(y,0,h(x)))\n",
        "display(intU)"
      ]
    },
    {
      "cell_type": "markdown",
      "metadata": {
        "id": "l1nkcghk2xqA"
      },
      "source": [
        "### Reynolds equation\n",
        "\n",
        "The [Reynolds equation](https://en.wikipedia.org/wiki/Reynolds_equation) for lubrications yields when we impose that this flow rate cannot be function of $x$ (that is continuity condition)"
      ]
    },
    {
      "cell_type": "code",
      "execution_count": 15,
      "metadata": {
        "id": "qXoLUKB82xqA",
        "outputId": "dcb1118b-6feb-4dae-940c-1712467b2714",
        "colab": {
          "base_uri": "https://localhost:8080/",
          "height": 59
        }
      },
      "outputs": [
        {
          "output_type": "display_data",
          "data": {
            "text/plain": [
              "  d           3    d            2          d           \n",
              "U⋅──(h(x))   h (x)⋅──(pₓ(x))   h (x)⋅pₓ(x)⋅──(h(x))    \n",
              "  dx               dx                      dx          \n",
              "────────── - ─────────────── - ──────────────────── = 0\n",
              "    2             12⋅μ                 4⋅μ             "
            ],
            "text/latex": "$\\displaystyle \\frac{U \\frac{d}{d x} h{\\left(x \\right)}}{2} - \\frac{h^{3}{\\left(x \\right)} \\frac{d}{d x} p_{x}{\\left(x \\right)}}{12 \\mu} - \\frac{h^{2}{\\left(x \\right)} p_{x}{\\left(x \\right)} \\frac{d}{d x} h{\\left(x \\right)}}{4 \\mu} = 0$"
          },
          "metadata": {}
        }
      ],
      "source": [
        "ReynoldsEq = sp.Eq(intU.diff(x),0)\n",
        "ReynoldsEq = ReynoldsEq.expand()\n",
        "display(ReynoldsEq)"
      ]
    },
    {
      "cell_type": "markdown",
      "metadata": {
        "id": "2Msz1CFj2xqA"
      },
      "source": [
        "### Pressure distribution\n",
        "\n",
        "To calculate the pressure distribution, we consider the solution of\n",
        "\n",
        "$$ q = \\int_0^h u(y) \\text{d} y \\tag{8}$$\n",
        "\n",
        "and we isolate the pressure gradient"
      ]
    },
    {
      "cell_type": "code",
      "execution_count": 16,
      "metadata": {
        "id": "Hick_8Wl2xqA",
        "outputId": "17cef272-b88d-40da-dfd4-dfc1c57044d0",
        "colab": {
          "base_uri": "https://localhost:8080/",
          "height": 58
        }
      },
      "outputs": [
        {
          "output_type": "display_data",
          "data": {
            "text/plain": [
              "⎡6⋅μ⋅(U⋅h(x) - 2⋅q)⎤\n",
              "⎢──────────────────⎥\n",
              "⎢       3          ⎥\n",
              "⎣      h (x)       ⎦"
            ],
            "text/latex": "$\\displaystyle \\left[ \\frac{6 \\mu \\left(U h{\\left(x \\right)} - 2 q\\right)}{h^{3}{\\left(x \\right)}}\\right]$"
          },
          "metadata": {}
        }
      ],
      "source": [
        "q = sp.symbols('q')\n",
        "exp_dpdx = sp.solve(intU-q,p_x(x))\n",
        "display(exp_dpdx)"
      ]
    },
    {
      "cell_type": "code",
      "execution_count": 17,
      "metadata": {
        "id": "lsf81dZn2xqB",
        "outputId": "25125b50-599d-4ee1-8599-eb3724b8ab0a",
        "colab": {
          "base_uri": "https://localhost:8080/",
          "height": 57
        }
      },
      "outputs": [
        {
          "output_type": "display_data",
          "data": {
            "text/plain": [
              "        6⋅μ⋅(U⋅h(x) - 2⋅q)\n",
              "pₓ(x) = ──────────────────\n",
              "               3          \n",
              "              h (x)       "
            ],
            "text/latex": "$\\displaystyle p_{x}{\\left(x \\right)} = \\frac{6 \\mu \\left(U h{\\left(x \\right)} - 2 q\\right)}{h^{3}{\\left(x \\right)}}$"
          },
          "metadata": {}
        }
      ],
      "source": [
        "p_eq = sp.Eq(p_x(x), exp_dpdx[0])\n",
        "display(p_eq)"
      ]
    },
    {
      "cell_type": "markdown",
      "metadata": {
        "id": "JmCiP6Is2xqB"
      },
      "source": [
        "We now replace $p_x(x)$ with its definition, $p_x(x) = \\frac{d p}{d x}$, and we solve it"
      ]
    },
    {
      "cell_type": "code",
      "execution_count": 18,
      "metadata": {
        "id": "RHjua_CB2xqB",
        "outputId": "e002758c-7947-4b3f-be32-91f32a54c6e0",
        "colab": {
          "base_uri": "https://localhost:8080/",
          "height": 57
        }
      },
      "outputs": [
        {
          "output_type": "display_data",
          "data": {
            "text/plain": [
              "d          6⋅μ⋅(U⋅h(x) - 2⋅q)\n",
              "──(p(x)) = ──────────────────\n",
              "dx                3          \n",
              "                 h (x)       "
            ],
            "text/latex": "$\\displaystyle \\frac{d}{d x} p{\\left(x \\right)} = \\frac{6 \\mu \\left(U h{\\left(x \\right)} - 2 q\\right)}{h^{3}{\\left(x \\right)}}$"
          },
          "metadata": {}
        }
      ],
      "source": [
        "p_eq = p_eq.replace(p_x(x),p(x).diff(x))\n",
        "display(p_eq)"
      ]
    },
    {
      "cell_type": "code",
      "execution_count": 19,
      "metadata": {
        "id": "oSr6y3NH2xqB",
        "outputId": "6aee168c-91f6-4609-a35e-4e34af84f8ce",
        "colab": {
          "base_uri": "https://localhost:8080/",
          "height": 58
        }
      },
      "outputs": [
        {
          "output_type": "execute_result",
          "data": {
            "text/plain": [
              "                ⎛⌠            ⌠         ⎞\n",
              "                ⎜⎮  -U        ⎮  2⋅q    ⎟\n",
              "p(x) = C₁ - 6⋅μ⋅⎜⎮ ───── dx + ⎮ ───── dx⎟\n",
              "                ⎜⎮  2         ⎮  3      ⎟\n",
              "                ⎜⎮ h (x)      ⎮ h (x)   ⎟\n",
              "                ⎝⌡            ⌡         ⎠"
            ],
            "text/latex": "$\\displaystyle p{\\left(x \\right)} = C_{1} - 6 \\mu \\left(\\int \\left(- \\frac{U}{h^{2}{\\left(x \\right)}}\\right)\\, dx + \\int \\frac{2 q}{h^{3}{\\left(x \\right)}}\\, dx\\right)$"
          },
          "metadata": {},
          "execution_count": 19
        }
      ],
      "source": [
        "sp.dsolve(p_eq,p(x))"
      ]
    },
    {
      "cell_type": "markdown",
      "metadata": {
        "id": "gOXshLf72xqC"
      },
      "source": [
        "This is the general solution for any shape for $h(x)$. The values for $q$ and the integration constant are obtained from suitable boundary conditions\n",
        "\n",
        "### Example\n",
        "\n",
        "Let's apply that for the linear case $h(x)=h_0(1+\\alpha x/L)$, with $\\alpha \\ll 1$. It is the working principle of a [tilting-pad bearing](https://en.wikipedia.org/wiki/Fluid_bearing#Michell.2FKingsbury_tilting-pad_fluid_bearings)\n",
        "\n",
        "![image.png](https://github.com/rclUPC/AdvancedFluidMechanics/blob/main/1-microFlows/tiltingPad1.png?raw=1)\n",
        "\n",
        "![image.png](https://github.com/rclUPC/AdvancedFluidMechanics/blob/main/1-microFlows/tiltingPad2.png?raw=1)\n",
        "\n",
        "\n",
        "First, we replace the generic $h(x)$ by this particular case"
      ]
    },
    {
      "cell_type": "code",
      "execution_count": 20,
      "metadata": {
        "id": "xiJl6vMN2xqC"
      },
      "outputs": [],
      "source": [
        "h0,alpha,L = sp.symbols('h_0, alpha,L')\n",
        "p_eq = p_eq.replace(h(x),h0*(1+alpha*x/L))"
      ]
    },
    {
      "cell_type": "code",
      "execution_count": 21,
      "metadata": {
        "id": "k5zWomkc2xqC",
        "outputId": "604e73c8-e678-441f-d0c8-cff3bf374e01",
        "colab": {
          "base_uri": "https://localhost:8080/",
          "height": 66
        }
      },
      "outputs": [
        {
          "output_type": "execute_result",
          "data": {
            "text/plain": [
              "               ⎛     ⎛    α⋅x⎞      ⎞\n",
              "           6⋅μ⋅⎜U⋅h₀⋅⎜1 + ───⎟ - 2⋅q⎟\n",
              "d              ⎝     ⎝     L ⎠      ⎠\n",
              "──(p(x)) = ──────────────────────────\n",
              "dx                            3      \n",
              "                   3 ⎛    α⋅x⎞       \n",
              "                 h₀ ⋅⎜1 + ───⎟       \n",
              "                     ⎝     L ⎠       "
            ],
            "text/latex": "$\\displaystyle \\frac{d}{d x} p{\\left(x \\right)} = \\frac{6 \\mu \\left(U h_{0} \\left(1 + \\frac{\\alpha x}{L}\\right) - 2 q\\right)}{h_{0}^{3} \\left(1 + \\frac{\\alpha x}{L}\\right)^{3}}$"
          },
          "metadata": {},
          "execution_count": 21
        }
      ],
      "source": [
        "p_eq"
      ]
    },
    {
      "cell_type": "markdown",
      "metadata": {
        "id": "5430JfpV2xqD"
      },
      "source": [
        "Next, we integrate the pressure distribution with the proper boundary condition for $p(x=0)=p_a$"
      ]
    },
    {
      "cell_type": "code",
      "execution_count": 22,
      "metadata": {
        "id": "bJ86kB4q2xqD"
      },
      "outputs": [],
      "source": [
        "pa = sp.symbols('pa')"
      ]
    },
    {
      "cell_type": "code",
      "execution_count": 23,
      "metadata": {
        "id": "-b1m2gq72xqD",
        "outputId": "2a6361ab-cefe-4461-98f0-f0573fcc593c",
        "colab": {
          "base_uri": "https://localhost:8080/",
          "height": 58
        }
      },
      "outputs": [
        {
          "output_type": "display_data",
          "data": {
            "text/plain": [
              "          2                                                           3   \n",
              "       6⋅L ⋅μ⋅(-L⋅U⋅h₀ + L⋅q - U⋅α⋅h₀⋅x)   6⋅L⋅U⋅h₀⋅μ - 6⋅L⋅μ⋅q + α⋅h₀ ⋅pa\n",
              "p(x) = ───────────────────────────────── + ───────────────────────────────\n",
              "             3 ⎛ 2              2  2⎞                       3             \n",
              "         α⋅h₀ ⋅⎝L  + 2⋅L⋅α⋅x + α ⋅x ⎠                   α⋅h₀              "
            ],
            "text/latex": "$\\displaystyle p{\\left(x \\right)} = \\frac{6 L^{2} \\mu \\left(- L U h_{0} + L q - U \\alpha h_{0} x\\right)}{\\alpha h_{0}^{3} \\left(L^{2} + 2 L \\alpha x + \\alpha^{2} x^{2}\\right)} + \\frac{6 L U h_{0} \\mu - 6 L \\mu q + \\alpha h_{0}^{3} pa}{\\alpha h_{0}^{3}}$"
          },
          "metadata": {}
        }
      ],
      "source": [
        "p_sol = sp.dsolve(p_eq,p(x),ics={p(0):pa})\n",
        "display(p_sol)"
      ]
    },
    {
      "cell_type": "markdown",
      "metadata": {
        "id": "Ycix4Ovf2xqD"
      },
      "source": [
        "The flow rate in this moving pad can be calculated with the other boundary condition, $p(x=L)=p_a$"
      ]
    },
    {
      "cell_type": "code",
      "execution_count": 24,
      "metadata": {
        "id": "sOu3Rhnk2xqM",
        "outputId": "cb5e20a5-6f37-451f-9d67-6b47e19a9fb7",
        "colab": {
          "base_uri": "https://localhost:8080/",
          "height": 54
        }
      },
      "outputs": [
        {
          "output_type": "display_data",
          "data": {
            "text/plain": [
              "U⋅h₀⋅(α + 1)\n",
              "────────────\n",
              "   α + 2    "
            ],
            "text/latex": "$\\displaystyle \\frac{U h_{0} \\left(\\alpha + 1\\right)}{\\alpha + 2}$"
          },
          "metadata": {}
        }
      ],
      "source": [
        "q_sol = sp.solve(p_sol.replace(x,L).replace(p(L),pa),q)[0]\n",
        "display(q_sol)"
      ]
    },
    {
      "cell_type": "markdown",
      "metadata": {
        "id": "F-v66X-Q2xqN"
      },
      "source": [
        "and we replace again this result in the pressure distribution"
      ]
    },
    {
      "cell_type": "code",
      "execution_count": 25,
      "metadata": {
        "id": "eW6H5hXk2xqN",
        "outputId": "0b75f115-0bc8-40aa-e273-07055f72e6c0",
        "colab": {
          "base_uri": "https://localhost:8080/",
          "height": 70
        }
      },
      "outputs": [
        {
          "output_type": "display_data",
          "data": {
            "text/plain": [
              "          2   ⎛L⋅U⋅h₀⋅(α + 1)                    ⎞     6⋅L⋅U⋅h₀⋅μ⋅(α + 1)                    3   \n",
              "       6⋅L ⋅μ⋅⎜────────────── - L⋅U⋅h₀ - U⋅α⋅h₀⋅x⎟   - ────────────────── + 6⋅L⋅U⋅h₀⋅μ + α⋅h₀ ⋅pa\n",
              "              ⎝    α + 2                         ⎠           α + 2                               \n",
              "p(x) = ─────────────────────────────────────────── + ────────────────────────────────────────────\n",
              "                  3 ⎛ 2              2  2⎞                                  3                    \n",
              "              α⋅h₀ ⋅⎝L  + 2⋅L⋅α⋅x + α ⋅x ⎠                              α⋅h₀                     "
            ],
            "text/latex": "$\\displaystyle p{\\left(x \\right)} = \\frac{6 L^{2} \\mu \\left(\\frac{L U h_{0} \\left(\\alpha + 1\\right)}{\\alpha + 2} - L U h_{0} - U \\alpha h_{0} x\\right)}{\\alpha h_{0}^{3} \\left(L^{2} + 2 L \\alpha x + \\alpha^{2} x^{2}\\right)} + \\frac{- \\frac{6 L U h_{0} \\mu \\left(\\alpha + 1\\right)}{\\alpha + 2} + 6 L U h_{0} \\mu + \\alpha h_{0}^{3} pa}{\\alpha h_{0}^{3}}$"
          },
          "metadata": {}
        }
      ],
      "source": [
        "p_sol = p_sol.replace(q,q_sol)\n",
        "display(p_sol)"
      ]
    },
    {
      "cell_type": "markdown",
      "metadata": {
        "id": "u46IRgIB2xqO"
      },
      "source": [
        "Let's rearrange the terms to get it it nicer"
      ]
    },
    {
      "cell_type": "code",
      "execution_count": 26,
      "metadata": {
        "id": "pMSSMBp62xqO",
        "outputId": "1aa6165e-84fd-4d66-f0ce-12f11ece33c6",
        "colab": {
          "base_uri": "https://localhost:8080/",
          "height": 70
        }
      },
      "outputs": [
        {
          "output_type": "display_data",
          "data": {
            "text/plain": [
              "                2   ⎛L⋅U⋅h₀⋅(α + 1)                    ⎞          6⋅L⋅U⋅h₀⋅μ⋅(α + 1)               ↪\n",
              "             6⋅L ⋅μ⋅⎜────────────── - L⋅U⋅h₀ - U⋅α⋅h₀⋅x⎟        - ────────────────── + 6⋅L⋅U⋅h₀⋅μ  ↪\n",
              "                    ⎝    α + 2                         ⎠                α + 2                      ↪\n",
              "-pa + p(x) = ─────────────────────────────────────────── - pa + ────────────────────────────────── ↪\n",
              "                        3 ⎛ 2              2  2⎞                                       3           ↪\n",
              "                    α⋅h₀ ⋅⎝L  + 2⋅L⋅α⋅x + α ⋅x ⎠                                   α⋅h₀            ↪\n",
              "\n",
              "↪       3   \n",
              "↪ + α⋅h₀ ⋅pa\n",
              "↪           \n",
              "↪ ──────────\n",
              "↪           \n",
              "↪           "
            ],
            "text/latex": "$\\displaystyle - pa + p{\\left(x \\right)} = \\frac{6 L^{2} \\mu \\left(\\frac{L U h_{0} \\left(\\alpha + 1\\right)}{\\alpha + 2} - L U h_{0} - U \\alpha h_{0} x\\right)}{\\alpha h_{0}^{3} \\left(L^{2} + 2 L \\alpha x + \\alpha^{2} x^{2}\\right)} - pa + \\frac{- \\frac{6 L U h_{0} \\mu \\left(\\alpha + 1\\right)}{\\alpha + 2} + 6 L U h_{0} \\mu + \\alpha h_{0}^{3} pa}{\\alpha h_{0}^{3}}$"
          },
          "metadata": {}
        }
      ],
      "source": [
        "p_sol = sp.Eq(p_sol.lhs-pa,p_sol.rhs-pa)\n",
        "display(p_sol)"
      ]
    },
    {
      "cell_type": "markdown",
      "metadata": {
        "id": "FrwpUdtn2xqP"
      },
      "source": [
        "This solution is complex, since it is considering all the values of $\\alpha$. We can take advantage of the assumption $\\alpha \\ll 1$ in order to expand the right hand side in\n",
        "$\\alpha$ up to the first order"
      ]
    },
    {
      "cell_type": "code",
      "execution_count": 27,
      "metadata": {
        "id": "VJvDwAfz2xqP",
        "outputId": "a879346b-f2f9-4d97-9855-99bd4935efff",
        "colab": {
          "base_uri": "https://localhost:8080/",
          "height": 57
        }
      },
      "outputs": [
        {
          "output_type": "display_data",
          "data": {
            "text/plain": [
              "            -3⋅U⋅α⋅μ⋅x⋅(-L + x) \n",
              "pa - p(x) = ────────────────────\n",
              "                       2        \n",
              "                   L⋅h₀         "
            ],
            "text/latex": "$\\displaystyle pa - p{\\left(x \\right)} = - \\frac{3 U \\alpha \\mu x \\left(- L + x\\right)}{L h_{0}^{2}}$"
          },
          "metadata": {}
        }
      ],
      "source": [
        "p_sol = sp.Eq(p_sol.lhs,p_sol.rhs.series(alpha,0,n=2).removeO())\n",
        "p_sol = p_sol.simplify()\n",
        "display(p_sol)"
      ]
    },
    {
      "cell_type": "code",
      "execution_count": 28,
      "metadata": {
        "id": "9o1GYypA2xqP",
        "outputId": "74ad6acb-f78f-47b8-c53a-5698e6ee7f26",
        "colab": {
          "base_uri": "https://localhost:8080/",
          "height": 58
        }
      },
      "outputs": [
        {
          "output_type": "display_data",
          "data": {
            "text/plain": [
              "  2       \n",
              "-L ⋅U⋅α⋅μ \n",
              "──────────\n",
              "      2   \n",
              "  2⋅h₀    "
            ],
            "text/latex": "$\\displaystyle - \\frac{L^{2} U \\alpha \\mu}{2 h_{0}^{2}}$"
          },
          "metadata": {}
        }
      ],
      "source": [
        "W = -p_sol.rhs.integrate((x,0,L))\n",
        "display(W)"
      ]
    },
    {
      "cell_type": "markdown",
      "metadata": {
        "id": "vvZH7mni2xqQ"
      },
      "source": [
        "Remember that it is for unit lenght in the $z$ direction, so the mean (relative) pressure in this fluid film is"
      ]
    },
    {
      "cell_type": "code",
      "execution_count": 29,
      "metadata": {
        "id": "vPEaKyYH2xqQ",
        "outputId": "325c5c70-1123-4e44-a168-b9243a78f05e",
        "colab": {
          "base_uri": "https://localhost:8080/",
          "height": 56
        }
      },
      "outputs": [
        {
          "output_type": "display_data",
          "data": {
            "text/plain": [
              "-L⋅U⋅α⋅μ \n",
              "─────────\n",
              "      2  \n",
              "  2⋅h₀   "
            ],
            "text/latex": "$\\displaystyle - \\frac{L U \\alpha \\mu}{2 h_{0}^{2}}$"
          },
          "metadata": {}
        }
      ],
      "source": [
        "pf = sp.symbols('p_f')\n",
        "pf = W/L\n",
        "display(pf)"
      ]
    },
    {
      "cell_type": "markdown",
      "metadata": {
        "id": "o1WokIlN2xqQ"
      },
      "source": [
        "### Activity (very easy)\n",
        "\n",
        "Estimate the value of the bearing number $\\Lambda$ for this tilting pad\n",
        "\n",
        "\n",
        "### Exercise\n",
        "\n",
        "What happens when slope of pad is not increasing, but decreasing?\n",
        "\n",
        "## 2. Pressure driven microflow. Hele-Shaw flow\n",
        "\n",
        "[Henry Hele-Shaw](https://en.wikipedia.org/wiki/Henry_Selby_Hele-Shaw) was a British engineer in the late 19th and the early 20th centuries. He published a paper in 1898 about the Stokes flow between to close plates. This kind of flow are now know as [Hele-Shaw flows](https://en.wikipedia.org/wiki/Hele-Shaw_flow).\n",
        "\n",
        "\n",
        "\n",
        "The interest of this flow is that, although being highly influence by viscosity, the flow shape in presence of an obstacle (large in comparison with plates distance) is actually a potential flow. This has a hide range of applications in present microdevices design and manufacturing (see, for example, this [MSc thesis from Delft University](https://repository.tudelft.nl/islandora/object/uuid:eacb9fa0-401b-4b17-97b6-f0eed6744bdf)).\n",
        "\n",
        "This flow is very similar to a [Poiseuille flow](https://en.wikipedia.org/wiki/Hagen%E2%80%93Poiseuille_equation#Plane_Poiseuille_flow), in the sense of quasi-2D flow driven by a pressure gradient.  Let's consider that the flow is parallel to the $x-y$ plane, and normal to the $z$ axis and pressure gradient is given also only in $x$ and $y$ directions.\n",
        "\n",
        "![image.png](https://github.com/rclUPC/AdvancedFluidMechanics/blob/main/1-microFlows/Hele-Shaw.png?raw=1)\n",
        "\n",
        "Velocity equations for $u$ and $v$ are, following equation (5),\n",
        "\n",
        "$$-\\frac{1}{\\rho}\\frac{\\partial p}{\\partial x} + \\nu \\frac{\\partial^2 u}{\\partial z^2} = 0 \\tag{9a}$$\n",
        "\n",
        "$$-\\frac{1}{\\rho}\\frac{\\partial p}{\\partial y} + \\nu \\frac{\\partial^2 v}{\\partial z^2} = 0 \\tag{9b}$$\n",
        "\n",
        "$$\\frac{\\partial p}{\\partial z} = 0 \\tag{9c}$$"
      ]
    },
    {
      "cell_type": "code",
      "execution_count": 30,
      "metadata": {
        "id": "T6_2YuFX2xqQ",
        "outputId": "918612f7-cbc6-45ca-cd96-d6d987aaa4be",
        "colab": {
          "base_uri": "https://localhost:8080/",
          "height": 97
        }
      },
      "outputs": [
        {
          "output_type": "display_data",
          "data": {
            "text/plain": [
              " 2                      \n",
              "d           pₓ(x, y)    \n",
              "───(u(z)) - ──────── = 0\n",
              "  2            μ        \n",
              "dz                      "
            ],
            "text/latex": "$\\displaystyle \\frac{d^{2}}{d z^{2}} u{\\left(z \\right)} - \\frac{p_{x}{\\left(x,y \\right)}}{\\mu} = 0$"
          },
          "metadata": {}
        },
        {
          "output_type": "display_data",
          "data": {
            "text/plain": [
              " 2                       \n",
              "d           p_y(x, y)    \n",
              "───(v(z)) - ───────── = 0\n",
              "  2             μ        \n",
              "dz                       "
            ],
            "text/latex": "$\\displaystyle \\frac{d^{2}}{d z^{2}} v{\\left(z \\right)} - \\frac{p_{y}{\\left(x,y \\right)}}{\\mu} = 0$"
          },
          "metadata": {}
        }
      ],
      "source": [
        "z,h = sp.symbols('z,h') # now h is not a function. It is constant\n",
        "u = sp.Function('u')\n",
        "v = sp.Function('v')\n",
        "p = sp.Function('p')\n",
        "p_x = sp.Function('p_x')\n",
        "p_y = sp.Function('p_y')\n",
        "uEq = sp.Eq(-1/mu*p_x(x,y)+sp.diff(u(z),z,2),0)\n",
        "vEq = sp.Eq(-1/mu*p_y(x,y)+sp.diff(v(z),z,2),0)\n",
        "display(uEq)\n",
        "display(vEq)"
      ]
    },
    {
      "cell_type": "code",
      "execution_count": 31,
      "metadata": {
        "id": "j2ErG7D32xqR",
        "outputId": "b6c7b090-43ae-4682-bb0d-de2f1ea33305",
        "colab": {
          "base_uri": "https://localhost:8080/",
          "height": 95
        }
      },
      "outputs": [
        {
          "output_type": "display_data",
          "data": {
            "text/plain": [
              "       z⋅(-h + z)⋅pₓ(x, y)\n",
              "u(z) = ───────────────────\n",
              "               2⋅μ        "
            ],
            "text/latex": "$\\displaystyle u{\\left(z \\right)} = \\frac{z \\left(- h + z\\right) p_{x}{\\left(x,y \\right)}}{2 \\mu}$"
          },
          "metadata": {}
        },
        {
          "output_type": "display_data",
          "data": {
            "text/plain": [
              "       z⋅(-h + z)⋅p_y(x, y)\n",
              "v(z) = ────────────────────\n",
              "               2⋅μ         "
            ],
            "text/latex": "$\\displaystyle v{\\left(z \\right)} = \\frac{z \\left(- h + z\\right) p_{y}{\\left(x,y \\right)}}{2 \\mu}$"
          },
          "metadata": {}
        }
      ],
      "source": [
        "uics = {u(0):0,u(h):0}\n",
        "vics = {v(0):0,v(h):0}\n",
        "uSol = sp.dsolve(uEq,u(z),ics=uics).simplify()\n",
        "vSol = sp.dsolve(vEq,v(z),ics=vics).simplify()\n",
        "display(uSol)\n",
        "display(vSol)"
      ]
    },
    {
      "cell_type": "code",
      "execution_count": 32,
      "metadata": {
        "id": "hQR7i5XW2xqR",
        "outputId": "dc25efe7-a879-454d-a433-d4136c3e1ab5",
        "colab": {
          "base_uri": "https://localhost:8080/",
          "height": 104
        }
      },
      "outputs": [
        {
          "output_type": "display_data",
          "data": {
            "text/plain": [
              "                  ∂          \n",
              "       z⋅(-h + z)⋅──(p(x, y))\n",
              "                  ∂x         \n",
              "u(z) = ──────────────────────\n",
              "                2⋅μ          "
            ],
            "text/latex": "$\\displaystyle u{\\left(z \\right)} = \\frac{z \\left(- h + z\\right) \\frac{\\partial}{\\partial x} p{\\left(x,y \\right)}}{2 \\mu}$"
          },
          "metadata": {}
        },
        {
          "output_type": "display_data",
          "data": {
            "text/plain": [
              "                  ∂          \n",
              "       z⋅(-h + z)⋅──(p(x, y))\n",
              "                  ∂y         \n",
              "v(z) = ──────────────────────\n",
              "                2⋅μ          "
            ],
            "text/latex": "$\\displaystyle v{\\left(z \\right)} = \\frac{z \\left(- h + z\\right) \\frac{\\partial}{\\partial y} p{\\left(x,y \\right)}}{2 \\mu}$"
          },
          "metadata": {}
        }
      ],
      "source": [
        "uSol = uSol.replace(p_x(x,y),p(x,y).diff(x))\n",
        "vSol = vSol.replace(p_y(x,y),p(x,y).diff(y))\n",
        "display(uSol)\n",
        "display(vSol)"
      ]
    },
    {
      "cell_type": "markdown",
      "metadata": {
        "id": "Ph4KH1zb2xqR"
      },
      "source": [
        "Remember the definition of [velocity potential](https://en.wikipedia.org/wiki/Velocity_potential). In this case, the solution is very easy"
      ]
    },
    {
      "cell_type": "code",
      "execution_count": 33,
      "metadata": {
        "id": "qSegyBnd2xqS",
        "outputId": "5322a492-20ee-49b7-8441-5d93261733f0",
        "colab": {
          "base_uri": "https://localhost:8080/",
          "height": 95
        }
      },
      "outputs": [
        {
          "output_type": "display_data",
          "data": {
            "text/plain": [
              "z⋅(-h + z)⋅p(x, y)\n",
              "──────────────────\n",
              "       2⋅μ        "
            ],
            "text/latex": "$\\displaystyle \\frac{z \\left(- h + z\\right) p{\\left(x,y \\right)}}{2 \\mu}$"
          },
          "metadata": {}
        },
        {
          "output_type": "display_data",
          "data": {
            "text/plain": [
              "z⋅(-h + z)⋅p(x, y)\n",
              "──────────────────\n",
              "       2⋅μ        "
            ],
            "text/latex": "$\\displaystyle \\frac{z \\left(- h + z\\right) p{\\left(x,y \\right)}}{2 \\mu}$"
          },
          "metadata": {}
        }
      ],
      "source": [
        "phi_u = sp.Function('phi_u')\n",
        "phi_v = sp.Function('phi_v')\n",
        "phi_u = uSol.rhs.integrate(x)\n",
        "phi_v = vSol.rhs.integrate(y)\n",
        "display(phi_u)\n",
        "display(phi_v)"
      ]
    },
    {
      "cell_type": "markdown",
      "metadata": {
        "id": "xZ2TKuNU2xqS"
      },
      "source": [
        "Both solutions are the same and, so, we can just define the velocity potential al"
      ]
    },
    {
      "cell_type": "code",
      "execution_count": 34,
      "metadata": {
        "id": "2ePD8D8q2xqS",
        "outputId": "86a7560e-44f7-41e7-c088-00c9974f8448",
        "colab": {
          "base_uri": "https://localhost:8080/",
          "height": 56
        }
      },
      "outputs": [
        {
          "output_type": "display_data",
          "data": {
            "text/plain": [
              "z⋅(-h + z)⋅p(x, y)\n",
              "──────────────────\n",
              "       2⋅μ        "
            ],
            "text/latex": "$\\displaystyle \\frac{z \\left(- h + z\\right) p{\\left(x,y \\right)}}{2 \\mu}$"
          },
          "metadata": {}
        }
      ],
      "source": [
        "phi = sp.Function('phi')\n",
        "phi = phi_u\n",
        "display(phi)"
      ]
    },
    {
      "cell_type": "markdown",
      "metadata": {
        "id": "NeFBgBzB2xqT"
      },
      "source": [
        "Asuming that there is no vertical velocity, $w = 0$, the continuity equation for 2D flow is just\n",
        "\n",
        "$$ \\nabla_{2D} \\cdot \\mathbf{u} = \\frac{\\partial u}{\\partial x} + \\frac{\\partial v}{\\partial y} = \\Delta \\phi = \\Delta p = \\frac{\\partial^2 p}{\\partial x^2} + \\frac{\\partial^2 p}{\\partial y^2} = 0 \\tag{10}$$\n",
        "\n",
        "### For example...\n",
        "\n",
        "Let's consider a flow in the $x$ direction with"
      ]
    },
    {
      "cell_type": "code",
      "execution_count": 35,
      "metadata": {
        "id": "k0V5gq0j2xqT",
        "outputId": "66de85bb-a87a-4a50-99d4-d6e8cc88b761",
        "colab": {
          "base_uri": "https://localhost:8080/",
          "height": 136
        }
      },
      "outputs": [
        {
          "output_type": "display_data",
          "data": {
            "text/plain": [
              "  3 ∂           \n",
              "-h ⋅──(p(x, y)) \n",
              "    ∂x          \n",
              "────────────────\n",
              "      12⋅μ      "
            ],
            "text/latex": "$\\displaystyle - \\frac{h^{3} \\frac{\\partial}{\\partial x} p{\\left(x,y \\right)}}{12 \\mu}$"
          },
          "metadata": {}
        },
        {
          "output_type": "display_data",
          "data": {
            "text/plain": [
              "  2 ∂               \n",
              "-h ⋅──(p(x, y))     \n",
              "    ∂x              \n",
              "──────────────── = u̅\n",
              "      12⋅μ          "
            ],
            "text/latex": "$\\displaystyle - \\frac{h^{2} \\frac{\\partial}{\\partial x} p{\\left(x,y \\right)}}{12 \\mu} = \\bar{u}$"
          },
          "metadata": {}
        },
        {
          "output_type": "display_data",
          "data": {
            "text/plain": [
              "-12⋅μ⋅u̅ \n",
              "────────\n",
              "    2   \n",
              "   h    "
            ],
            "text/latex": "$\\displaystyle - \\frac{12 \\mu \\bar{u}}{h^{2}}$"
          },
          "metadata": {}
        }
      ],
      "source": [
        "ubar = sp.symbols('ubar')\n",
        "uInt = uSol.rhs.integrate((z,0,h))\n",
        "display(uInt)\n",
        "pEq = sp.Eq(uInt/h,ubar)\n",
        "display(pEq)\n",
        "pdiffSol = sp.solve(pEq,p(x,y).diff(x))[0]\n",
        "display(pdiffSol)"
      ]
    },
    {
      "cell_type": "code",
      "execution_count": 36,
      "metadata": {
        "id": "59C6MsZC2xqU",
        "outputId": "6b0b67db-d02f-46ca-f545-aa92a6241d24",
        "colab": {
          "base_uri": "https://localhost:8080/",
          "height": 53
        }
      },
      "outputs": [
        {
          "output_type": "display_data",
          "data": {
            "text/plain": [
              "       -6⋅u̅⋅z⋅(-h + z) \n",
              "u(z) = ────────────────\n",
              "               2       \n",
              "              h        "
            ],
            "text/latex": "$\\displaystyle u{\\left(z \\right)} = - \\frac{6 \\bar{u} z \\left(- h + z\\right)}{h^{2}}$"
          },
          "metadata": {}
        }
      ],
      "source": [
        "uSol = uSol.subs(p(x,y).diff(x),pdiffSol)\n",
        "display(uSol)"
      ]
    },
    {
      "cell_type": "code",
      "execution_count": 37,
      "metadata": {
        "id": "0eok8e5m2xqU",
        "outputId": "a8b8467f-8407-4a88-c18d-b0b0a79da79b",
        "colab": {
          "base_uri": "https://localhost:8080/",
          "height": 51
        }
      },
      "outputs": [
        {
          "output_type": "display_data",
          "data": {
            "text/plain": [
              "-12⋅μ⋅u̅⋅x \n",
              "──────────\n",
              "     2    \n",
              "    h     "
            ],
            "text/latex": "$\\displaystyle - \\frac{12 \\mu \\bar{u} x}{h^{2}}$"
          },
          "metadata": {}
        }
      ],
      "source": [
        "pSol = pdiffSol.integrate(x)\n",
        "display(pSol)"
      ]
    },
    {
      "cell_type": "markdown",
      "metadata": {
        "id": "eH1221RK2xqU"
      },
      "source": [
        "In this video some experimental flows are presented to show the potential-like Hele-Shaw flows"
      ]
    },
    {
      "cell_type": "code",
      "execution_count": 38,
      "metadata": {
        "id": "0P_R1Cvp2xqU",
        "outputId": "e4356ece-73da-4606-85c4-797125d1da42",
        "colab": {
          "base_uri": "https://localhost:8080/",
          "height": 621
        }
      },
      "outputs": [
        {
          "output_type": "execute_result",
          "data": {
            "text/plain": [
              "<IPython.lib.display.YouTubeVideo at 0x7c58ade37d90>"
            ],
            "text/html": [
              "\n",
              "        <iframe\n",
              "            width=\"800\"\n",
              "            height=\"600\"\n",
              "            src=\"https://www.youtube.com/embed/WUilsJ_HMvQ\"\n",
              "            frameborder=\"0\"\n",
              "            allowfullscreen\n",
              "            \n",
              "        ></iframe>\n",
              "        "
            ],
            "image/jpeg": "[encoded data removed]"
          },
          "metadata": {},
          "execution_count": 38
        }
      ],
      "source": [
        "from IPython.display import YouTubeVideo\n",
        "\n",
        "YouTubeVideo('WUilsJ_HMvQ',width=800,height=600)"
      ]
    },
    {
      "cell_type": "markdown",
      "metadata": {
        "id": "YUVOoAkY2xqV"
      },
      "source": [
        "Note that this solution does not satisfy the non-slip condition for, for example, $y=0$ (a wall in the $x$ axis). There is a mathematical trick to overcome that: add a velocity $u'$\n",
        "\n",
        "$$ U(y,z) = u(z) + u'(y,z)$$\n",
        "\n",
        "such that $u' \\rightarrow -u$ for $ y \\rightarrow 0$ and $u' \\rightarrow 0$ for $ y \\gg 0$\n",
        "\n",
        "We could make it if we had more time...\n",
        "\n",
        "## 3. Surface Tension driven flows\n",
        "\n",
        "The third kind of microflow that we considering is surface tension driven flows. [Surface tension](https://en.wikipedia.org/wiki/Surface_tension) is the property of liquids responsible of the surface stability.\n",
        "\n",
        "The surface tension coefficient (or just surface tension), $\\gamma$, has units of force per lenght unit (N/m) and in the particular case of water in air at 20 Celsius degrees its value is $\\gamma = 72.8\\, \\text{mN/m}$. This value is very small compared with inertial forces, or pressure forces, for usual liquid volumes. But it can becomes very important when the liquid volume is of micrometers (or even milimeters) scale.\n",
        "\n",
        "We have seen in previous courses some basic concepts related to surface tension, as pressure inside bubbles or capillary rise, which are governed by the [Laplace-Young equation](https://en.wikipedia.org/wiki/Young%E2%80%93Laplace_equation) for spherical surfaces. Here we are going to develope a little bit the subject.\n",
        "\n",
        "From a Fluid Mechanics viewpoint, the presence of an interface implies a pressure jump. This pressure jump is positive or negative in function of the curvature of the surface.\n",
        "\n",
        "Let's consider the thermodynamics of a liquid droplet in a surface.\n",
        "\n",
        "![image.png](https://github.com/rclUPC/AdvancedFluidMechanics/blob/main/1-microFlows/drop.png?raw=1)\n",
        "\n",
        "(from [_Atomic-scale computational design of hydrophobic RE surface-doped Al2O3 and TiO2_ by Czelej et al](https://www.researchgate.net/publication/318574875_Atomic-scale_computational_design_of_hydrophobic_RE_surface-doped_Al2O3_and_TiO2)\n",
        "\n",
        "Its [free energy](https://en.wikipedia.org/wiki/Helmholtz_free_energy) (neglecting temperature variations) is\n",
        "\n",
        "$$ \\newcommand{Vol}{V\\kern-0.65em\\raise0.3ex-} $$\n",
        "$$ E = \\sum_{i \\neq j} A_{ij}\\gamma_{ij} - \\lambda \\Vol \\tag{11}$$\n",
        "\n",
        "where $\\Vol$ is the droplet volume (constant) and $\\lambda$ is a [Lagrange multiplier](https://en.wikipedia.org/wiki/Lagrange_multiplier) that, physically, is the pressure drop across the interface. $i$ and $j$ can be $l$, $g$ or $s$ depending on the nature os the material (liquid, gas or solid), $A_{ij}$ is the interfacial area between phases $i$ and $j$. It should be noted that if $A_{lg}$ increase on some amount, $A_{sg}$ is decreased in the same amount.\n",
        "\n",
        "$$ A_{ls} = \\pi R^{2} \\sin^{2}{\\left(\\theta \\right)} $$\n",
        "$$ A_{lg} = 2 \\pi R^{2} \\left(1 - \\cos{\\left(\\theta \\right)}\\right) $$\n",
        "$$ \\Vol = \\pi R^{3} \\left(\\frac{2}{3} - \\frac{3}{4}\\cos{\\left(\\theta \\right)} + \\frac{\\cos{3\\theta}}{12}\\right) \\tag{12}$$\n",
        "\n",
        "So,\n",
        "\n",
        "$$ E = \\underbrace{\\pi R^{2} \\sin^{2}{\\left(\\theta \\right)} \\left( \\gamma_{ls}-\\gamma_{sg}\\right) + \\gamma_{lv}2 \\pi R^{2} \\left(1 - \\cos{\\left(\\theta \\right)}\\right)}_A - \\lambda \\underbrace{\\pi R^{3} \\left(\\frac{2}{3} - \\frac{3}{4}\\cos{\\left(\\theta \\right)} + \\frac{\\cos{3\\theta}}{12}\\right)}_B \\tag{13}$$\n",
        "\n",
        "and the minimum condition, $\\frac{\\partial E}{\\partial R} = \\frac{\\partial E}{\\partial \\theta} = 0$ leads to\n",
        "\n",
        "$$ \\lambda = \\frac{\\frac{\\partial A}{\\partial R}}{\\frac{\\partial B}{\\partial R}}=\\frac{\\frac{\\partial A}{\\partial \\theta}}{\\frac{\\partial B}{\\partial \\theta}} \\tag{14}$$\n",
        "\n",
        "and, after some operations,\n",
        "\n",
        "$$ \\cos{(\\theta)} = \\frac{\\gamma_{sg} - \\gamma_{sl}}{\\gamma_{lg}} \\tag{15}$$\n",
        "\n",
        "$\\lambda$ is the pressure drop across the liquid-gas surface,\n",
        "\n",
        "$$\\lambda = \\Delta p = \\frac{\\frac{\\partial A}{\\partial R}}{\\frac{\\partial B}{\\partial R}} = 2 \\frac{\\gamma_{lg}}{R} \\tag{16}$$\n",
        "\n",
        "For a more general shape (not spherical) is becomes\n",
        "\n",
        "$$ \\Delta p = \\gamma_{lg}\\left( \\frac{1}{R1} + \\frac{1}{R2} \\right) \\tag{17}$$\n",
        "\n",
        "Gravity effect leads to the definition of a characteristic length scale (capillary length)\n",
        "\n",
        "$$ l_s = \\sqrt{\\frac{\\gamma}{\\rho g}} \\tag{18}$$\n",
        "\n",
        "[Bond (or Eötvös) number](https://en.wikipedia.org/wiki/E%C3%B6tv%C3%B6s_number) is defined as the ratio between characteristic lenght of the system and the capillary length\n",
        "\n",
        "$$ \\text{Bo} = \\left( \\frac{L}{l_s} \\right)^2 \\tag{19}$$\n",
        "\n",
        "Under action of gravity, surface tension is only important if $\\text{Bo} \\lesssim 1$, that is $L \\lesssim 3\\,\\text{mm}$ for water.\n",
        "\n",
        "### Example : Shape of fluid interface near a wall\n",
        "\n",
        "Let's consider the calculation of the shape of the interface of water with a hidrophilic surface, with a known contact angle $\\theta < 90^\\circ$. The wall is vertical and plane, so there will be curvature in only one direction (say $y$)\n",
        "\n",
        "![image.png](https://github.com/rclUPC/AdvancedFluidMechanics/blob/main/1-microFlows/fluidWallInterface.png?raw=1)\n",
        "\n",
        "The [local curvature](https://en.wikipedia.org/wiki/Curvature#Graph_of_a_function) of a line is given by\n",
        "\n",
        "$$ \\frac{1}{r} = \\frac{\\text{d}^2 z / \\text{d} x^2}{\\left[1+\\left(\\text{d} z / \\text{d} x\\right)^2 \\right]^{3/2}} \\tag{20}$$\n",
        "\n",
        "On the otherhand, for a point of the curve, which is at height $z$ there is static relative pressure $-\\rho g z$,and the pressure jump in the interface is $\\frac{\\gamma}{r}$, so the ODE is\n",
        "\n",
        "$$ \\frac{\\rho g z}{\\gamma} - \\frac{z''}{\\left(1 + {z'}^2\\right)^{3/2}} = 0 \\tag{21}$$\n",
        "\n",
        "since $z=0$ far away from the surface, where it is plane, and $z'' = z' =0$. The boundary conditions are $z'=z''=0$ for $x\\rightarrow \\infty$ and $z'=-\\frac{1}{\\tan{\\theta}}$ for $x=0$.\n",
        "\n",
        "We can make the change of variable $\\eta = z/l_s$ and $\\xi = x/l_s$ and then the EDO is writen as\n",
        "\n",
        "$$ \\eta- \\frac{\\eta''}{\\left(1+\\eta'^2\\right)^{3/2}} = 0 \\tag{22}$$\n",
        "\n",
        "with the same boundary conditions."
      ]
    },
    {
      "cell_type": "code",
      "execution_count": 39,
      "metadata": {
        "id": "rNZv41u92xqV"
      },
      "outputs": [],
      "source": [
        "#This command clears all the variables and history. Just to start over again...\n",
        "%reset -f"
      ]
    },
    {
      "cell_type": "code",
      "execution_count": 40,
      "metadata": {
        "id": "KYkI7PTt2xqW"
      },
      "outputs": [],
      "source": [
        "import numpy as np\n",
        "import sympy as sp\n",
        "sp.init_printing()"
      ]
    },
    {
      "cell_type": "code",
      "execution_count": 41,
      "metadata": {
        "id": "nT8MUV-m2xqW",
        "outputId": "36392ff8-ddb5-4aba-863d-def2d960bcfe",
        "colab": {
          "base_uri": "https://localhost:8080/",
          "height": 91
        }
      },
      "outputs": [
        {
          "output_type": "display_data",
          "data": {
            "text/plain": [
              "                   -1.5                 \n",
              "  ⎛          2    ⎞      2              \n",
              "  ⎜⎛d       ⎞     ⎟     d               \n",
              "- ⎜⎜──(η(ξ))⎟  + 1⎟    ⋅───(η(ξ)) + η(ξ)\n",
              "  ⎝⎝dξ      ⎠     ⎠       2             \n",
              "                        dξ              "
            ],
            "text/latex": "$\\displaystyle - \\frac{\\frac{d^{2}}{d \\xi^{2}} \\eta{\\left(\\xi \\right)}}{\\left(\\left(\\frac{d}{d \\xi} \\eta{\\left(\\xi \\right)}\\right)^{2} + 1\\right)^{1.5}} + \\eta{\\left(\\xi \\right)}$"
          },
          "metadata": {}
        }
      ],
      "source": [
        "xi,theta = sp.symbols('xi,theta',positive=True)\n",
        "eta = sp.Function('eta')\n",
        "exp = eta(xi)-eta(xi).diff(xi,2)/(1+eta(xi).diff(xi)**2)**(3/2)\n",
        "display(exp)"
      ]
    },
    {
      "cell_type": "markdown",
      "metadata": {
        "id": "0OfOPFN72xqW"
      },
      "source": [
        "This expression is not directly integrable"
      ]
    },
    {
      "cell_type": "code",
      "execution_count": 42,
      "metadata": {
        "id": "ZKlAwjCQ2xqW",
        "outputId": "944aa4e9-ac18-4d94-bebb-fa93c3479c7f",
        "colab": {
          "base_uri": "https://localhost:8080/",
          "height": 109
        }
      },
      "outputs": [
        {
          "output_type": "execute_result",
          "data": {
            "text/plain": [
              "⌠                                              \n",
              "⎮ ⎛                   -1.5                 ⎞   \n",
              "⎮ ⎜  ⎛          2    ⎞      2              ⎟   \n",
              "⎮ ⎜  ⎜⎛d       ⎞     ⎟     d               ⎟   \n",
              "⎮ ⎜- ⎜⎜──(η(ξ))⎟  + 1⎟    ⋅───(η(ξ)) + η(ξ)⎟ dξ\n",
              "⎮ ⎜  ⎝⎝dξ      ⎠     ⎠       2             ⎟   \n",
              "⎮ ⎝                        dξ              ⎠   \n",
              "⌡                                              "
            ],
            "text/latex": "$\\displaystyle \\int \\left(- \\frac{\\frac{d^{2}}{d \\xi^{2}} \\eta{\\left(\\xi \\right)}}{\\left(\\left(\\frac{d}{d \\xi} \\eta{\\left(\\xi \\right)}\\right)^{2} + 1\\right)^{1.5}} + \\eta{\\left(\\xi \\right)}\\right)\\, d\\xi$"
          },
          "metadata": {},
          "execution_count": 42
        }
      ],
      "source": [
        "exp.integrate(xi)"
      ]
    },
    {
      "cell_type": "markdown",
      "metadata": {
        "id": "28vZlVFG2xqX"
      },
      "source": [
        "But if we use the integration factor $\\eta'$, it becomes integrable"
      ]
    },
    {
      "cell_type": "code",
      "execution_count": 43,
      "metadata": {
        "id": "zjz--5Uu2xqX",
        "outputId": "2bc91ebd-ca20-4d33-c2af-a5decbc7848d",
        "colab": {
          "base_uri": "https://localhost:8080/",
          "height": 109
        }
      },
      "outputs": [
        {
          "output_type": "display_data",
          "data": {
            "text/plain": [
              "⎛                   -1.5                 ⎞         \n",
              "⎜  ⎛          2    ⎞      2              ⎟         \n",
              "⎜  ⎜⎛d       ⎞     ⎟     d               ⎟ d       \n",
              "⎜- ⎜⎜──(η(ξ))⎟  + 1⎟    ⋅───(η(ξ)) + η(ξ)⎟⋅──(η(ξ))\n",
              "⎜  ⎝⎝dξ      ⎠     ⎠       2             ⎟ dξ      \n",
              "⎝                        dξ              ⎠         "
            ],
            "text/latex": "$\\displaystyle \\left(- \\frac{\\frac{d^{2}}{d \\xi^{2}} \\eta{\\left(\\xi \\right)}}{\\left(\\left(\\frac{d}{d \\xi} \\eta{\\left(\\xi \\right)}\\right)^{2} + 1\\right)^{1.5}} + \\eta{\\left(\\xi \\right)}\\right) \\frac{d}{d \\xi} \\eta{\\left(\\xi \\right)}$"
          },
          "metadata": {}
        }
      ],
      "source": [
        "exp = exp*eta(xi).diff(xi)\n",
        "display(exp)"
      ]
    },
    {
      "cell_type": "code",
      "execution_count": 44,
      "metadata": {
        "id": "eiiLgI622xqX",
        "outputId": "84a0faad-b5cf-4382-f4fa-a860a6977613",
        "colab": {
          "base_uri": "https://localhost:8080/",
          "height": 85
        }
      },
      "outputs": [
        {
          "output_type": "display_data",
          "data": {
            "text/plain": [
              "                     -0.5        \n",
              "    ⎛          2    ⎞        2   \n",
              "    ⎜⎛d       ⎞     ⎟       η (ξ)\n",
              "1.0⋅⎜⎜──(η(ξ))⎟  + 1⎟     + ─────\n",
              "    ⎝⎝dξ      ⎠     ⎠         2  "
            ],
            "text/latex": "$\\displaystyle \\frac{1.0}{\\left(\\left(\\frac{d}{d \\xi} \\eta{\\left(\\xi \\right)}\\right)^{2} + 1\\right)^{0.5}} + \\frac{\\eta^{2}{\\left(\\xi \\right)}}{2}$"
          },
          "metadata": {}
        }
      ],
      "source": [
        "exp2 = exp.integrate(xi)\n",
        "display(exp2)"
      ]
    },
    {
      "cell_type": "markdown",
      "metadata": {
        "id": "PjxDz5Zd2xqY"
      },
      "source": [
        "Since when $\\eta(\\xi) = 0$ (i.e. for $\\xi\\rightarrow \\infty$), $\\eta'(\\xi)=0$, that gives that this expression has to be 1."
      ]
    },
    {
      "cell_type": "code",
      "execution_count": 45,
      "metadata": {
        "id": "aJ8z_xQu2xqY",
        "outputId": "4e1af71f-65fe-4c5e-d652-48bd971177bc",
        "colab": {
          "base_uri": "https://localhost:8080/",
          "height": 85
        }
      },
      "outputs": [
        {
          "output_type": "display_data",
          "data": {
            "text/plain": [
              "                     -0.5            \n",
              "    ⎛          2    ⎞        2       \n",
              "    ⎜⎛d       ⎞     ⎟       η (ξ)    \n",
              "1.0⋅⎜⎜──(η(ξ))⎟  + 1⎟     + ───── = 1\n",
              "    ⎝⎝dξ      ⎠     ⎠         2      "
            ],
            "text/latex": "$\\displaystyle \\frac{1.0}{\\left(\\left(\\frac{d}{d \\xi} \\eta{\\left(\\xi \\right)}\\right)^{2} + 1\\right)^{0.5}} + \\frac{\\eta^{2}{\\left(\\xi \\right)}}{2} = 1$"
          },
          "metadata": {}
        }
      ],
      "source": [
        "dEq = sp.Eq(exp2,1)\n",
        "display(dEq)"
      ]
    },
    {
      "cell_type": "markdown",
      "metadata": {
        "id": "MR-dgxhk2xqY"
      },
      "source": [
        "This equation can be analitically solved (see the book by [Kundu](https://discovery.upc.edu/iii/encore/record/C__Rb1437689?lang=cat), example 4.7) but it is not staightforward. Let us  solve it here numerically with [scipy](https://www.scipy.org/).\n",
        "\n",
        "First, we get the value of the heigth of the surface just in the surface, it is, when $\\eta'= -\\frac{1}{\\tan{\\theta}}$."
      ]
    },
    {
      "cell_type": "code",
      "execution_count": 46,
      "metadata": {
        "id": "zUsKtHQ92xqY",
        "outputId": "6584c2fa-66f4-4c32-b533-aeb784af7dbe",
        "colab": {
          "base_uri": "https://localhost:8080/",
          "height": 74
        }
      },
      "outputs": [
        {
          "output_type": "display_data",
          "data": {
            "text/plain": [
              " 2                    -0.5    \n",
              "δ        ⎛       1   ⎞        \n",
              "── + 1.0⋅⎜1 + ───────⎟     = 1\n",
              "2        ⎜       2   ⎟        \n",
              "         ⎝    tan (θ)⎠        "
            ],
            "text/latex": "$\\displaystyle \\frac{\\delta^{2}}{2} + \\frac{1.0}{\\left(1 + \\frac{1}{\\tan^{2}{\\left(\\theta \\right)}}\\right)^{0.5}} = 1$"
          },
          "metadata": {}
        }
      ],
      "source": [
        "delta = sp.symbols('delta')\n",
        "deltaEq = dEq.replace(eta(xi).diff(xi),-1/sp.tan(theta)).replace(eta(xi),delta)\n",
        "display(deltaEq)"
      ]
    },
    {
      "cell_type": "markdown",
      "metadata": {
        "id": "kH6IQiGR2xqZ"
      },
      "source": [
        "There are two solutions. We keep the second one, positive."
      ]
    },
    {
      "cell_type": "code",
      "execution_count": 47,
      "metadata": {
        "id": "SWFj8hf42xqZ",
        "outputId": "d18492d1-5962-43e8-99f0-80a7b061e2aa",
        "colab": {
          "base_uri": "https://localhost:8080/",
          "height": 68
        }
      },
      "outputs": [
        {
          "output_type": "display_data",
          "data": {
            "text/plain": [
              "                    ______________________             \n",
              "                   ╱                1        __________\n",
              "1.4142135623731⋅  ╱  -│tan(θ)│ + ──────── ⋅╲╱ │cos(θ)│ \n",
              "                ╲╱               │cos(θ)│              "
            ],
            "text/latex": "$\\displaystyle 1.4142135623731 \\sqrt{- \\left|{\\tan{\\left(\\theta \\right)}}\\right| + \\frac{1}{\\left|{\\cos{\\left(\\theta \\right)}}\\right|}} \\sqrt{\\left|{\\cos{\\left(\\theta \\right)}}\\right|}$"
          },
          "metadata": {}
        }
      ],
      "source": [
        "delta = sp.solve(deltaEq,delta)[1]\n",
        "display(delta)"
      ]
    },
    {
      "cell_type": "markdown",
      "metadata": {
        "id": "9_CNO9zf2xqZ"
      },
      "source": [
        "and we try to simplify it a little bit"
      ]
    },
    {
      "cell_type": "code",
      "execution_count": 48,
      "metadata": {
        "id": "aBeVSjcz2xqa",
        "outputId": "fb443d56-73d6-4b76-9021-475ee631dec4",
        "colab": {
          "base_uri": "https://localhost:8080/",
          "height": 39
        }
      },
      "outputs": [
        {
          "output_type": "display_data",
          "data": {
            "text/plain": [
              "                  ______________\n",
              "1.4142135623731⋅╲╱ 1 - │sin(θ)│ "
            ],
            "text/latex": "$\\displaystyle 1.4142135623731 \\sqrt{1 - \\left|{\\sin{\\left(\\theta \\right)}}\\right|}$"
          },
          "metadata": {}
        }
      ],
      "source": [
        "delta = delta.simplify().trigsimp()\n",
        "display(delta)"
      ]
    },
    {
      "cell_type": "markdown",
      "metadata": {
        "id": "mw_DIyho2xqa"
      },
      "source": [
        "In order to solve dEq we have to isolate the derivative of $\\eta$"
      ]
    },
    {
      "cell_type": "code",
      "execution_count": 49,
      "metadata": {
        "id": "enLqm6gC2xqa",
        "outputId": "2e3bde19-0567-49d5-ae1e-f95c364d9933",
        "colab": {
          "base_uri": "https://localhost:8080/",
          "height": 68
        }
      },
      "outputs": [
        {
          "output_type": "display_data",
          "data": {
            "text/plain": [
              "       _________________________\n",
              "      ╱              1.0        \n",
              "-    ╱  -1.0 + ──────────────── \n",
              "    ╱                         2 \n",
              "   ╱           ⎛     2       ⎞  \n",
              " ╲╱            ⎝0.5⋅η (ξ) - 1⎠  "
            ],
            "text/latex": "$\\displaystyle - \\sqrt{-1.0 + \\frac{1.0}{\\left(0.5 \\eta^{2}{\\left(\\xi \\right)} - 1\\right)^{2}}}$"
          },
          "metadata": {}
        }
      ],
      "source": [
        "f = sp.solve(dEq,eta(xi).diff(xi))[0]\n",
        "display(f)"
      ]
    },
    {
      "cell_type": "markdown",
      "metadata": {
        "id": "OI7n1FMA2xqa"
      },
      "source": [
        "and we generate a function for this derivative"
      ]
    },
    {
      "cell_type": "code",
      "execution_count": 50,
      "metadata": {
        "id": "m-Q5bNWW2xqb"
      },
      "outputs": [],
      "source": [
        "f_np = sp.lambdify((eta(xi),xi),f)"
      ]
    },
    {
      "cell_type": "markdown",
      "metadata": {
        "id": "VMe0KrBd2xqb"
      },
      "source": [
        "Now we make a function for $\\delta(\\theta)$, the heigth of the fluid surface in the wall and we solve numerically this equation with $\\eta(\\xi=0)=\\delta$"
      ]
    },
    {
      "cell_type": "code",
      "execution_count": 51,
      "metadata": {
        "id": "NlhT6h-P2xqb"
      },
      "outputs": [],
      "source": [
        "from scipy.integrate import odeint"
      ]
    },
    {
      "cell_type": "code",
      "execution_count": 52,
      "metadata": {
        "id": "WAArAsAp2xqc"
      },
      "outputs": [],
      "source": [
        "eta0_f = sp.lambdify(theta,delta)"
      ]
    },
    {
      "cell_type": "code",
      "execution_count": 53,
      "metadata": {
        "id": "zXqnnBsa2xqc",
        "outputId": "08dcd49f-2ac9-4c00-fc50-2fd113e39430",
        "colab": {
          "base_uri": "https://localhost:8080/",
          "height": 37
        }
      },
      "outputs": [
        {
          "output_type": "display_data",
          "data": {
            "text/plain": [
              "1.000"
            ],
            "text/latex": "$\\displaystyle 1.0$"
          },
          "metadata": {}
        }
      ],
      "source": [
        "theta_n = np.deg2rad(30)\n",
        "eta0 = sp.N(eta0_f(theta_n),4)\n",
        "display(eta0)"
      ]
    },
    {
      "cell_type": "code",
      "execution_count": 54,
      "metadata": {
        "id": "ahyJ3CVc2xqc"
      },
      "outputs": [],
      "source": [
        "xi_p = np.linspace(0,10,250)\n",
        "eta_np = odeint(f_np,eta0,xi_p)"
      ]
    },
    {
      "cell_type": "markdown",
      "metadata": {
        "id": "ENZ5-P7-2xqc"
      },
      "source": [
        "and, finally, we plot it"
      ]
    },
    {
      "cell_type": "code",
      "execution_count": 55,
      "metadata": {
        "id": "wR8rGUvv2xqd",
        "outputId": "ed88c0a6-f239-4816-b52d-f28f4df025d7",
        "colab": {
          "base_uri": "https://localhost:8080/",
          "height": 171
        }
      },
      "outputs": [
        {
          "output_type": "execute_result",
          "data": {
            "text/plain": [
              "[<matplotlib.lines.Line2D at 0x7c58a7d3ca90>]"
            ]
          },
          "metadata": {},
          "execution_count": 55
        },
        {
          "output_type": "display_data",
          "data": {
            "text/plain": [
              "<Figure size 1200x400 with 1 Axes>"
            ],
            "image/png": "[encoded data removed]"
          },
          "metadata": {}
        }
      ],
      "source": [
        "import matplotlib.pyplot as plt\n",
        "fig,ax = plt.subplots(figsize=(12,4))\n",
        "plt.gca().set_aspect('equal', adjustable='box')\n",
        "ax.plot(xi_p,eta_np,scaley=True)"
      ]
    },
    {
      "cell_type": "markdown",
      "metadata": {
        "id": "DghLzaz02xqd"
      },
      "source": [
        "### Exercise. Shape of meniscus between two plates\n",
        "\n",
        "Find the shape for two parallels walls separated a distance $L$\n",
        "\n",
        "Hint: In the middle point between both walls, curvature is not zero, so there is also there a pressure jump. This pressure jump is related, then, to the height of the column, $H$. It suggested to change coordinate axes, as shown in the picture, and change the first equation as\n",
        "\n",
        "$$ \\frac{\\rho g (z+H)}{\\gamma} - \\frac{z''}{\\left(1 + {z'}^2\\right)^{3/2}} = 0 \\tag{23}$$\n",
        "\n",
        "Also, there are 2 boundary conditions: the derivative of $z(x)$ for $x=-\\frac{L}{2}$ and for $x=\\frac{L}{2}$\n",
        "\n",
        "![image.png](https://github.com/rclUPC/AdvancedFluidMechanics/blob/main/1-microFlows/MeniscusBetweenPlates.png?raw=1)\n",
        "\n",
        "\n",
        "When you have tried to solve the problem, you can check a solution {doc}`here <./MeniscusBetweenPlates>`."
      ]
    },
    {
      "cell_type": "code",
      "execution_count": 59,
      "metadata": {
        "id": "nqWCp6Ij2xqd",
        "outputId": "5d2d2111-b3c6-4f35-f23f-c2227d56f1b0",
        "colab": {
          "base_uri": "https://localhost:8080/",
          "height": 356
        }
      },
      "outputs": [
        {
          "output_type": "error",
          "ename": "AttributeError",
          "evalue": "'NoneType' object has no attribute '__name__'",
          "traceback": [
            "\u001b[0;31m---------------------------------------------------------------------------\u001b[0m",
            "\u001b[0;31mAttributeError\u001b[0m                            Traceback (most recent call last)",
            "\u001b[0;32m<ipython-input-59-87e5e3102cdc>\u001b[0m in \u001b[0;36m<cell line: 0>\u001b[0;34m()\u001b[0m\n\u001b[1;32m      3\u001b[0m \u001b[0;32mexcept\u001b[0m\u001b[0;34m:\u001b[0m\u001b[0;34m\u001b[0m\u001b[0;34m\u001b[0m\u001b[0m\n\u001b[1;32m      4\u001b[0m     \u001b[0mget_ipython\u001b[0m\u001b[0;34m(\u001b[0m\u001b[0;34m)\u001b[0m\u001b[0;34m.\u001b[0m\u001b[0msystem\u001b[0m\u001b[0;34m(\u001b[0m\u001b[0;34m'pip install watermark'\u001b[0m\u001b[0;34m)\u001b[0m\u001b[0;34m\u001b[0m\u001b[0;34m\u001b[0m\u001b[0m\n\u001b[0;32m----> 5\u001b[0;31m \u001b[0mget_ipython\u001b[0m\u001b[0;34m(\u001b[0m\u001b[0;34m)\u001b[0m\u001b[0;34m.\u001b[0m\u001b[0mrun_line_magic\u001b[0m\u001b[0;34m(\u001b[0m\u001b[0;34m'watermark'\u001b[0m\u001b[0;34m,\u001b[0m \u001b[0;34m'-v -m -iv'\u001b[0m\u001b[0;34m)\u001b[0m\u001b[0;34m\u001b[0m\u001b[0;34m\u001b[0m\u001b[0m\n\u001b[0m",
            "\u001b[0;32m/usr/local/lib/python3.11/dist-packages/IPython/core/interactiveshell.py\u001b[0m in \u001b[0;36mrun_line_magic\u001b[0;34m(self, magic_name, line, _stack_depth)\u001b[0m\n\u001b[1;32m   2416\u001b[0m                 \u001b[0mkwargs\u001b[0m\u001b[0;34m[\u001b[0m\u001b[0;34m'local_ns'\u001b[0m\u001b[0;34m]\u001b[0m \u001b[0;34m=\u001b[0m \u001b[0mself\u001b[0m\u001b[0;34m.\u001b[0m\u001b[0mget_local_scope\u001b[0m\u001b[0;34m(\u001b[0m\u001b[0mstack_depth\u001b[0m\u001b[0;34m)\u001b[0m\u001b[0;34m\u001b[0m\u001b[0;34m\u001b[0m\u001b[0m\n\u001b[1;32m   2417\u001b[0m             \u001b[0;32mwith\u001b[0m \u001b[0mself\u001b[0m\u001b[0;34m.\u001b[0m\u001b[0mbuiltin_trap\u001b[0m\u001b[0;34m:\u001b[0m\u001b[0;34m\u001b[0m\u001b[0;34m\u001b[0m\u001b[0m\n\u001b[0;32m-> 2418\u001b[0;31m                 \u001b[0mresult\u001b[0m \u001b[0;34m=\u001b[0m \u001b[0mfn\u001b[0m\u001b[0;34m(\u001b[0m\u001b[0;34m*\u001b[0m\u001b[0margs\u001b[0m\u001b[0;34m,\u001b[0m \u001b[0;34m**\u001b[0m\u001b[0mkwargs\u001b[0m\u001b[0;34m)\u001b[0m\u001b[0;34m\u001b[0m\u001b[0;34m\u001b[0m\u001b[0m\n\u001b[0m\u001b[1;32m   2419\u001b[0m             \u001b[0;32mreturn\u001b[0m \u001b[0mresult\u001b[0m\u001b[0;34m\u001b[0m\u001b[0;34m\u001b[0m\u001b[0m\n\u001b[1;32m   2420\u001b[0m \u001b[0;34m\u001b[0m\u001b[0m\n",
            "\u001b[0;32m<decorator-gen-119>\u001b[0m in \u001b[0;36mwatermark\u001b[0;34m(self, line)\u001b[0m\n",
            "\u001b[0;32m/usr/local/lib/python3.11/dist-packages/IPython/core/magic.py\u001b[0m in \u001b[0;36m<lambda>\u001b[0;34m(f, *a, **k)\u001b[0m\n\u001b[1;32m    185\u001b[0m     \u001b[0;31m# but it's overkill for just that one bit of state.\u001b[0m\u001b[0;34m\u001b[0m\u001b[0;34m\u001b[0m\u001b[0m\n\u001b[1;32m    186\u001b[0m     \u001b[0;32mdef\u001b[0m \u001b[0mmagic_deco\u001b[0m\u001b[0;34m(\u001b[0m\u001b[0marg\u001b[0m\u001b[0;34m)\u001b[0m\u001b[0;34m:\u001b[0m\u001b[0;34m\u001b[0m\u001b[0;34m\u001b[0m\u001b[0m\n\u001b[0;32m--> 187\u001b[0;31m         \u001b[0mcall\u001b[0m \u001b[0;34m=\u001b[0m \u001b[0;32mlambda\u001b[0m \u001b[0mf\u001b[0m\u001b[0;34m,\u001b[0m \u001b[0;34m*\u001b[0m\u001b[0ma\u001b[0m\u001b[0;34m,\u001b[0m \u001b[0;34m**\u001b[0m\u001b[0mk\u001b[0m\u001b[0;34m:\u001b[0m \u001b[0mf\u001b[0m\u001b[0;34m(\u001b[0m\u001b[0;34m*\u001b[0m\u001b[0ma\u001b[0m\u001b[0;34m,\u001b[0m \u001b[0;34m**\u001b[0m\u001b[0mk\u001b[0m\u001b[0;34m)\u001b[0m\u001b[0;34m\u001b[0m\u001b[0;34m\u001b[0m\u001b[0m\n\u001b[0m\u001b[1;32m    188\u001b[0m \u001b[0;34m\u001b[0m\u001b[0m\n\u001b[1;32m    189\u001b[0m         \u001b[0;32mif\u001b[0m \u001b[0mcallable\u001b[0m\u001b[0;34m(\u001b[0m\u001b[0marg\u001b[0m\u001b[0;34m)\u001b[0m\u001b[0;34m:\u001b[0m\u001b[0;34m\u001b[0m\u001b[0;34m\u001b[0m\u001b[0m\n",
            "\u001b[0;32m/usr/local/lib/python3.11/dist-packages/watermark/magic.py\u001b[0m in \u001b[0;36mwatermark\u001b[0;34m(self, line)\u001b[0m\n\u001b[1;32m     88\u001b[0m         \u001b[0margs\u001b[0m\u001b[0;34m[\u001b[0m\u001b[0;34m'watermark_self'\u001b[0m\u001b[0;34m]\u001b[0m \u001b[0;34m=\u001b[0m \u001b[0mself\u001b[0m\u001b[0;34m\u001b[0m\u001b[0;34m\u001b[0m\u001b[0m\n\u001b[1;32m     89\u001b[0m \u001b[0;34m\u001b[0m\u001b[0m\n\u001b[0;32m---> 90\u001b[0;31m         \u001b[0mformatted_text\u001b[0m \u001b[0;34m=\u001b[0m \u001b[0mwatermark\u001b[0m\u001b[0;34m.\u001b[0m\u001b[0mwatermark\u001b[0m\u001b[0;34m(\u001b[0m\u001b[0;34m**\u001b[0m\u001b[0margs\u001b[0m\u001b[0;34m)\u001b[0m\u001b[0;34m\u001b[0m\u001b[0;34m\u001b[0m\u001b[0m\n\u001b[0m\u001b[1;32m     91\u001b[0m         \u001b[0mprint\u001b[0m\u001b[0;34m(\u001b[0m\u001b[0mformatted_text\u001b[0m\u001b[0;34m)\u001b[0m\u001b[0;34m\u001b[0m\u001b[0;34m\u001b[0m\u001b[0m\n\u001b[1;32m     92\u001b[0m \u001b[0;34m\u001b[0m\u001b[0m\n",
            "\u001b[0;32m/usr/local/lib/python3.11/dist-packages/watermark/watermark.py\u001b[0m in \u001b[0;36mwatermark\u001b[0;34m(author, email, github_username, website, current_date, datename, current_time, iso8601, timezone, updated, custom_time, python, packages, conda, hostname, machine, githash, gitrepo, gitbranch, watermark, iversions, gpu, watermark_self, globals_)\u001b[0m\n\u001b[1;32m    210\u001b[0m                     \u001b[0;34m\"to show imported package versions.\"\u001b[0m\u001b[0;34m\u001b[0m\u001b[0;34m\u001b[0m\u001b[0m\n\u001b[1;32m    211\u001b[0m                 )\n\u001b[0;32m--> 212\u001b[0;31m             \u001b[0moutput\u001b[0m\u001b[0;34m.\u001b[0m\u001b[0mappend\u001b[0m\u001b[0;34m(\u001b[0m\u001b[0m_get_all_import_versions\u001b[0m\u001b[0;34m(\u001b[0m\u001b[0mns\u001b[0m\u001b[0;34m)\u001b[0m\u001b[0;34m)\u001b[0m\u001b[0;34m\u001b[0m\u001b[0;34m\u001b[0m\u001b[0m\n\u001b[0m\u001b[1;32m    213\u001b[0m         \u001b[0;32mif\u001b[0m \u001b[0margs\u001b[0m\u001b[0;34m[\u001b[0m\u001b[0;34m'gpu'\u001b[0m\u001b[0;34m]\u001b[0m\u001b[0;34m:\u001b[0m\u001b[0;34m\u001b[0m\u001b[0;34m\u001b[0m\u001b[0m\n\u001b[1;32m    214\u001b[0m             \u001b[0moutput\u001b[0m\u001b[0;34m.\u001b[0m\u001b[0mappend\u001b[0m\u001b[0;34m(\u001b[0m\u001b[0m_get_gpu_info\u001b[0m\u001b[0;34m(\u001b[0m\u001b[0;34m)\u001b[0m\u001b[0;34m)\u001b[0m\u001b[0;34m\u001b[0m\u001b[0;34m\u001b[0m\u001b[0m\n",
            "\u001b[0;32m/usr/local/lib/python3.11/dist-packages/watermark/watermark.py\u001b[0m in \u001b[0;36m_get_all_import_versions\u001b[0;34m(vars)\u001b[0m\n\u001b[1;32m    335\u001b[0m     )\n\u001b[1;32m    336\u001b[0m \u001b[0;34m\u001b[0m\u001b[0m\n\u001b[0;32m--> 337\u001b[0;31m     \u001b[0mimported_pkgs\u001b[0m \u001b[0;34m=\u001b[0m \u001b[0;34m{\u001b[0m\u001b[0mmodule\u001b[0m\u001b[0;34m.\u001b[0m\u001b[0m__name__\u001b[0m\u001b[0;34m.\u001b[0m\u001b[0msplit\u001b[0m\u001b[0;34m(\u001b[0m\u001b[0;34m\".\"\u001b[0m\u001b[0;34m)\u001b[0m\u001b[0;34m[\u001b[0m\u001b[0;36m0\u001b[0m\u001b[0;34m]\u001b[0m \u001b[0;32mfor\u001b[0m \u001b[0mmodule\u001b[0m \u001b[0;32min\u001b[0m \u001b[0mimported_modules\u001b[0m\u001b[0;34m}\u001b[0m\u001b[0;34m\u001b[0m\u001b[0;34m\u001b[0m\u001b[0m\n\u001b[0m\u001b[1;32m    338\u001b[0m \u001b[0;34m\u001b[0m\u001b[0m\n\u001b[1;32m    339\u001b[0m     \u001b[0mimported_pkgs\u001b[0m\u001b[0;34m.\u001b[0m\u001b[0mdiscard\u001b[0m\u001b[0;34m(\u001b[0m\u001b[0;34m\"builtins\"\u001b[0m\u001b[0;34m)\u001b[0m\u001b[0;34m\u001b[0m\u001b[0;34m\u001b[0m\u001b[0m\n",
            "\u001b[0;32m/usr/local/lib/python3.11/dist-packages/watermark/watermark.py\u001b[0m in \u001b[0;36m<setcomp>\u001b[0;34m(.0)\u001b[0m\n\u001b[1;32m    335\u001b[0m     )\n\u001b[1;32m    336\u001b[0m \u001b[0;34m\u001b[0m\u001b[0m\n\u001b[0;32m--> 337\u001b[0;31m     \u001b[0mimported_pkgs\u001b[0m \u001b[0;34m=\u001b[0m \u001b[0;34m{\u001b[0m\u001b[0mmodule\u001b[0m\u001b[0;34m.\u001b[0m\u001b[0m__name__\u001b[0m\u001b[0;34m.\u001b[0m\u001b[0msplit\u001b[0m\u001b[0;34m(\u001b[0m\u001b[0;34m\".\"\u001b[0m\u001b[0;34m)\u001b[0m\u001b[0;34m[\u001b[0m\u001b[0;36m0\u001b[0m\u001b[0;34m]\u001b[0m \u001b[0;32mfor\u001b[0m \u001b[0mmodule\u001b[0m \u001b[0;32min\u001b[0m \u001b[0mimported_modules\u001b[0m\u001b[0;34m}\u001b[0m\u001b[0;34m\u001b[0m\u001b[0;34m\u001b[0m\u001b[0m\n\u001b[0m\u001b[1;32m    338\u001b[0m \u001b[0;34m\u001b[0m\u001b[0m\n\u001b[1;32m    339\u001b[0m     \u001b[0mimported_pkgs\u001b[0m\u001b[0;34m.\u001b[0m\u001b[0mdiscard\u001b[0m\u001b[0;34m(\u001b[0m\u001b[0;34m\"builtins\"\u001b[0m\u001b[0;34m)\u001b[0m\u001b[0;34m\u001b[0m\u001b[0;34m\u001b[0m\u001b[0m\n",
            "\u001b[0;31mAttributeError\u001b[0m: 'NoneType' object has no attribute '__name__'"
          ]
        }
      ],
      "source": [
        "try:\n",
        "    %reload_ext watermark\n",
        "except:\n",
        "    !pip install watermark\n",
        "%watermark -v -m -iv"
      ]
    },
    {
      "cell_type": "code",
      "execution_count": null,
      "metadata": {
        "id": "BWmGDBYA2xqe"
      },
      "outputs": [],
      "source": []
    }
  ],
  "metadata": {
    "kernelspec": {
      "display_name": "Python 3 (ipykernel)",
      "language": "python",
      "name": "python3"
    },
    "language_info": {
      "codemirror_mode": {
        "name": "ipython",
        "version": 3
      },
      "file_extension": ".py",
      "mimetype": "text/x-python",
      "name": "python",
      "nbconvert_exporter": "python",
      "pygments_lexer": "ipython3",
      "version": "3.8.15"
    },
    "colab": {
      "provenance": [],
      "include_colab_link": true
    }
  },
  "nbformat": 4,
  "nbformat_minor": 0
}