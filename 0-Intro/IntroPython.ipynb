{
  "cells": [
    {
      "cell_type": "markdown",
      "metadata": {
        "id": "view-in-github",
        "colab_type": "text"
      },
      "source": [
        "<a href=\"https://colab.research.google.com/github/rclUPC/AdvancedFluidMechanics/blob/main/0-Intro/IntroPython.ipynb\" target=\"_parent\"><img src=\"https://colab.research.google.com/assets/colab-badge.svg\" alt=\"Open In Colab\"/></a>"
      ]
    },
    {
      "cell_type": "markdown",
      "metadata": {
        "id": "7iRE2nSzbizL"
      },
      "source": [
        "# Introduction to scientific computation with Python\n",
        "***"
      ]
    },
    {
      "cell_type": "markdown",
      "metadata": {
        "id": "gSP6qR2JbizN"
      },
      "source": [
        "[Python](https://en.wikipedia.org/wiki/Python_(programming_language) is a high level computational language. It is quite similar to Matlab, but with the advantage that is is open source, free and internet is [plenty of libraries](https://pypi.org/) that\n",
        "allow to solve a large variety of problems.\n",
        "\n",
        "The main libraries used in scientific computations are **[numpy](https://numpy.org/)** for numerical computation, **[sympy](https://www.sympy.org/en/index.html)** for Computer Albegra System (CAS), **[matplotlib](https://matplotlib.org/)** for plotting, and **[pandas](https://pandas.pydata.org/)** for data analysis. All this packages are collected in the **[scipy](https://www.scipy.org/)** ecosystem.\n",
        "\n",
        "One practical way to compute with python is a [Jupyter](https://jupyter.org/) notebook, like the present one. It allows to combine text, equations, graphs and pictures with code. One of the most interesting features of a Jupyter Notebook is that it is interactive. That means that the user can download, open and play with it.\n",
        "\n",
        "All that can be installed in any system (Windows, Mac, Linux,...) (and even in an android phone!) but it is highly recommended to install through an special distribution. The most popular is now [Anaconda](https://en.wikipedia.org/wiki/Anaconda_(Python_distribution)) that has free and paid versions. However, recently it has been launched an small multi-platform application called [Jupyterlab Desktop](https://github.com/jupyterlab/jupyterlab-desktop) that is very recommended because of its size and practicality."
      ]
    },
    {
      "cell_type": "markdown",
      "metadata": {
        "id": "qmJsGEK1bizN"
      },
      "source": [
        "## 1. Numpy\n",
        "\n",
        "Python is a powerful language. Its power lies mainly in its modulability. With naked python few interesting things can be done. But modules of libraries can be easily imported and used to perform almost everything we need.\n",
        "\n",
        "In maths and science, one of the main modules is numpy, which gives acces to numerical computations with arrays, matrix, functions, ... with optimized performance.\n",
        "\n",
        "To import a module in python is very easy (as long as it is installed in the system...). Just type"
      ]
    },
    {
      "cell_type": "code",
      "execution_count": null,
      "metadata": {
        "id": "fhiNPC--bizO"
      },
      "outputs": [],
      "source": [
        "import numpy"
      ]
    },
    {
      "cell_type": "markdown",
      "metadata": {
        "id": "s_wlBdUNbizP"
      },
      "source": [
        "and access any component of the library with, por example"
      ]
    },
    {
      "cell_type": "code",
      "execution_count": null,
      "metadata": {
        "colab": {
          "base_uri": "https://localhost:8080/"
        },
        "id": "wXgPzEgObizP",
        "outputId": "81effe49-2b2e-4377-e6d6-4975c09c31c2"
      },
      "outputs": [
        {
          "output_type": "execute_result",
          "data": {
            "text/plain": [
              "1.0986122886681098"
            ]
          },
          "metadata": {},
          "execution_count": 2
        }
      ],
      "source": [
        "numpy.log(3)"
      ]
    },
    {
      "cell_type": "markdown",
      "metadata": {
        "id": "yB_eKAGkbizQ"
      },
      "source": [
        "Another way to import a module is with"
      ]
    },
    {
      "cell_type": "code",
      "execution_count": null,
      "metadata": {
        "id": "EE79kQukbizQ"
      },
      "outputs": [],
      "source": [
        "from numpy import *"
      ]
    },
    {
      "cell_type": "markdown",
      "metadata": {
        "id": "OUDsdgCMbizR"
      },
      "source": [
        "and then you can use the same components without need of type the word _numpy_ everytime"
      ]
    },
    {
      "cell_type": "code",
      "execution_count": null,
      "metadata": {
        "colab": {
          "base_uri": "https://localhost:8080/"
        },
        "id": "Z_eQ3WaxbizR",
        "outputId": "d25dbd2a-212d-4bee-838a-f6b630da0c54"
      },
      "outputs": [
        {
          "output_type": "execute_result",
          "data": {
            "text/plain": [
              "1.0986122886681098"
            ]
          },
          "metadata": {},
          "execution_count": 4
        }
      ],
      "source": [
        "log(3)"
      ]
    },
    {
      "cell_type": "markdown",
      "metadata": {
        "id": "c3KDUPgSbizR"
      },
      "source": [
        "The last way is with"
      ]
    },
    {
      "cell_type": "code",
      "execution_count": null,
      "metadata": {
        "colab": {
          "base_uri": "https://localhost:8080/"
        },
        "id": "5ZohgfCEbizR",
        "outputId": "352cd57f-1343-49e8-a00a-69df2b046025"
      },
      "outputs": [
        {
          "output_type": "execute_result",
          "data": {
            "text/plain": [
              "1.0986122886681098"
            ]
          },
          "metadata": {},
          "execution_count": 5
        }
      ],
      "source": [
        "import numpy as np\n",
        "np.log(3)"
      ]
    },
    {
      "cell_type": "markdown",
      "metadata": {
        "id": "6RN05uYwbizS"
      },
      "source": [
        "This last is my favorite, but you can use whichever you prefer.\n",
        "\n",
        "If the module is not installed in the system it can be easily downloaded and installed with a `pip` (Package Installer for Python)  command in a python cell:\n",
        "\n",
        "> !pip install numpy\n",
        "\n",
        "The `!` symbols is to scape to shell to execute the command.\n",
        "\n",
        "To get fast information about any component of python or any module, just type a '?' at the end of the command"
      ]
    },
    {
      "cell_type": "code",
      "execution_count": null,
      "metadata": {
        "id": "4zQBG0SqbizS"
      },
      "outputs": [],
      "source": [
        "np.log?"
      ]
    },
    {
      "cell_type": "markdown",
      "source": [
        "## Arrays\n",
        "\n",
        "One of the most important aspects of `numpy` is the processing of arrays, that can be of any order"
      ],
      "metadata": {
        "id": "5-NeYVA7wCTB"
      }
    },
    {
      "cell_type": "code",
      "source": [
        "A = np.array([1,2,3])\n",
        "A2 = A**2\n",
        "print(A2)"
      ],
      "metadata": {
        "id": "zTUMBLGswrgZ",
        "outputId": "33e56765-6a77-4d10-a139-59eb5623aa6b",
        "colab": {
          "base_uri": "https://localhost:8080/"
        }
      },
      "execution_count": null,
      "outputs": [
        {
          "output_type": "stream",
          "name": "stdout",
          "text": [
            "[1 4 9]\n"
          ]
        }
      ]
    },
    {
      "cell_type": "code",
      "source": [
        "B = np.array([[1,2,3],[4,5,6]])\n",
        "BT = B.T\n",
        "print(BT)"
      ],
      "metadata": {
        "id": "-URuAW2iw0Bl",
        "outputId": "13f8dbc3-0240-4e83-c5a0-3da26e9e4374",
        "colab": {
          "base_uri": "https://localhost:8080/"
        }
      },
      "execution_count": null,
      "outputs": [
        {
          "output_type": "stream",
          "name": "stdout",
          "text": [
            "[[1 4]\n",
            " [2 5]\n",
            " [3 6]]\n"
          ]
        }
      ]
    },
    {
      "cell_type": "code",
      "source": [
        "C = np.array([[[4,7,2],[0,5,3],[1,2,1]]])\n",
        "Cinv = np.linalg.inv(C)\n",
        "print(Cinv)"
      ],
      "metadata": {
        "id": "Ba46TPMxw7WP",
        "outputId": "a2d89922-cf49-41f6-8b1e-482d2e6a58c7",
        "colab": {
          "base_uri": "https://localhost:8080/"
        }
      },
      "execution_count": null,
      "outputs": [
        {
          "output_type": "stream",
          "name": "stdout",
          "text": [
            "[[[-0.14285714 -0.42857143  1.57142857]\n",
            "  [ 0.42857143  0.28571429 -1.71428571]\n",
            "  [-0.71428571 -0.14285714  2.85714286]]]\n"
          ]
        }
      ]
    },
    {
      "cell_type": "code",
      "source": [
        "print(np.dot(C,Cinv))"
      ],
      "metadata": {
        "id": "tLGFGvjpyj8L",
        "outputId": "786f6376-9b33-433a-cab3-a0ae45b5b077",
        "colab": {
          "base_uri": "https://localhost:8080/"
        }
      },
      "execution_count": null,
      "outputs": [
        {
          "output_type": "stream",
          "name": "stdout",
          "text": [
            "[[[[ 1.00000000e+00  5.55111512e-17  0.00000000e+00]]\n",
            "\n",
            "  [[ 4.44089210e-16  1.00000000e+00 -1.77635684e-15]]\n",
            "\n",
            "  [[ 1.11022302e-16 -2.77555756e-17  1.00000000e+00]]]]\n"
          ]
        }
      ]
    },
    {
      "cell_type": "markdown",
      "metadata": {
        "id": "L26_KkuibizS"
      },
      "source": [
        "## 2. Sympy\n",
        "\n",
        "With the library [_sympy_](https://peerj.com/articles/cs-103/) symbolic manipulation of mathematical equations can be performed, in a similar way as with Maple, Mathematica or Wolfram Alpha.\n",
        "\n",
        "The command\n",
        "\n",
        "```python\n",
        "try:\n",
        "    ...\n",
        "except:\n",
        "    ...\n",
        "```\n",
        "tries to execute something (in this case, it tries to import `sympy`) and, if it fails, run the command in `except:`, in this case, it install\n",
        "the version 1.7.1 of `sympy`."
      ]
    },
    {
      "cell_type": "code",
      "execution_count": 49,
      "metadata": {
        "id": "RV26wrLRbizS"
      },
      "outputs": [],
      "source": [
        "try:\n",
        "    import sympy as sp\n",
        "except:\n",
        "    !pip install sympy==1.7.1"
      ]
    },
    {
      "cell_type": "markdown",
      "source": [
        "and you can check which version is installed"
      ],
      "metadata": {
        "id": "wXptxHEmvrQ1"
      }
    },
    {
      "cell_type": "code",
      "source": [
        "sp.__version__"
      ],
      "metadata": {
        "id": "wHKyjhiKukeg",
        "outputId": "c9acad2d-b98d-4fbc-c3ea-f5704f10333e",
        "colab": {
          "base_uri": "https://localhost:8080/",
          "height": 35
        }
      },
      "execution_count": 50,
      "outputs": [
        {
          "output_type": "execute_result",
          "data": {
            "text/plain": [
              "'1.13.1'"
            ],
            "application/vnd.google.colaboratory.intrinsic+json": {
              "type": "string"
            }
          },
          "metadata": {},
          "execution_count": 50
        }
      ]
    },
    {
      "cell_type": "markdown",
      "metadata": {
        "id": "rXUul7PSbizS"
      },
      "source": [
        "The first step to perform symbolic computation is to declare the _symbols_ that are going to used"
      ]
    },
    {
      "cell_type": "code",
      "execution_count": 51,
      "metadata": {
        "id": "t339bmApbizS"
      },
      "outputs": [],
      "source": [
        "x,y = sp.symbols('x,y')"
      ]
    },
    {
      "cell_type": "markdown",
      "metadata": {
        "id": "oVSFn0NHbizS"
      },
      "source": [
        "If, in addition, we include the command"
      ]
    },
    {
      "cell_type": "code",
      "execution_count": 52,
      "metadata": {
        "id": "KZe35LyRbizS"
      },
      "outputs": [],
      "source": [
        "sp.init_printing()"
      ]
    },
    {
      "cell_type": "markdown",
      "metadata": {
        "id": "q-Ll6NRfbizT"
      },
      "source": [
        "the ouput will be nicely rendered in a Jupyter notebook"
      ]
    },
    {
      "cell_type": "code",
      "execution_count": 53,
      "metadata": {
        "colab": {
          "base_uri": "https://localhost:8080/",
          "height": 37
        },
        "id": "JLyFa2PVbizT",
        "outputId": "7eaf5f60-5b37-458a-92d3-9f5afdb4a764"
      },
      "outputs": [
        {
          "output_type": "execute_result",
          "data": {
            "text/plain": [
              "√x"
            ],
            "text/latex": "$\\displaystyle \\sqrt{x}$"
          },
          "metadata": {},
          "execution_count": 53
        }
      ],
      "source": [
        "sp.sqrt(x)"
      ]
    },
    {
      "cell_type": "markdown",
      "metadata": {
        "id": "ksZHVuSJbizT"
      },
      "source": [
        "An expression can be build with our symbols"
      ]
    },
    {
      "cell_type": "code",
      "execution_count": 54,
      "metadata": {
        "colab": {
          "base_uri": "https://localhost:8080/",
          "height": 38
        },
        "id": "di-zqTsubizT",
        "outputId": "bbfb100b-f790-477b-c8c9-f6a83ecd0993"
      },
      "outputs": [
        {
          "output_type": "display_data",
          "data": {
            "text/plain": [
              "   3      2            \n",
              "- x  + 2⋅x ⋅(x - 1) + 1"
            ],
            "text/latex": "$\\displaystyle - x^{3} + 2 x^{2} \\left(x - 1\\right) + 1$"
          },
          "metadata": {}
        }
      ],
      "source": [
        "expr = 1+2*x**2*(x-1)-x**3\n",
        "display(expr)"
      ]
    },
    {
      "cell_type": "markdown",
      "metadata": {
        "id": "OSm1J8JibizT"
      },
      "source": [
        "and it can be simplified, either with"
      ]
    },
    {
      "cell_type": "code",
      "execution_count": 55,
      "metadata": {
        "colab": {
          "base_uri": "https://localhost:8080/",
          "height": 38
        },
        "id": "gDnV3UdUbizT",
        "outputId": "4a99d283-689f-45a9-973a-cf0e2b9e91cb"
      },
      "outputs": [
        {
          "output_type": "execute_result",
          "data": {
            "text/plain": [
              " 3      2    \n",
              "x  - 2⋅x  + 1"
            ],
            "text/latex": "$\\displaystyle x^{3} - 2 x^{2} + 1$"
          },
          "metadata": {},
          "execution_count": 55
        }
      ],
      "source": [
        "sp.simplify(expr)"
      ]
    },
    {
      "cell_type": "markdown",
      "metadata": {
        "id": "XioGURxYbizT"
      },
      "source": [
        "or with"
      ]
    },
    {
      "cell_type": "code",
      "execution_count": 56,
      "metadata": {
        "colab": {
          "base_uri": "https://localhost:8080/",
          "height": 38
        },
        "id": "KlBEkbHZbizU",
        "outputId": "d01d25b4-7d6e-45e8-cbf5-8c0d3a990391"
      },
      "outputs": [
        {
          "output_type": "execute_result",
          "data": {
            "text/plain": [
              " 3      2    \n",
              "x  - 2⋅x  + 1"
            ],
            "text/latex": "$\\displaystyle x^{3} - 2 x^{2} + 1$"
          },
          "metadata": {},
          "execution_count": 56
        }
      ],
      "source": [
        "expr.simplify()"
      ]
    },
    {
      "cell_type": "markdown",
      "metadata": {
        "id": "lOTRGw8DbizU"
      },
      "source": [
        "Expressions can be factorized                                                                                           "
      ]
    },
    {
      "cell_type": "code",
      "execution_count": 57,
      "metadata": {
        "colab": {
          "base_uri": "https://localhost:8080/",
          "height": 38
        },
        "id": "Fs1g70cjbizU",
        "outputId": "fd7f93d4-e094-482c-b58b-2130b03846b1"
      },
      "outputs": [
        {
          "output_type": "display_data",
          "data": {
            "text/plain": [
              "        ⎛ 2        ⎞\n",
              "(x - 1)⋅⎝x  - x - 1⎠"
            ],
            "text/latex": "$\\displaystyle \\left(x - 1\\right) \\left(x^{2} - x - 1\\right)$"
          },
          "metadata": {}
        }
      ],
      "source": [
        "expr = expr.factor()\n",
        "display(expr)"
      ]
    },
    {
      "cell_type": "markdown",
      "metadata": {
        "id": "YAzX4fJibizU"
      },
      "source": [
        "or expanded again"
      ]
    },
    {
      "cell_type": "code",
      "execution_count": 58,
      "metadata": {
        "colab": {
          "base_uri": "https://localhost:8080/",
          "height": 38
        },
        "id": "NX_UyMHmbizU",
        "outputId": "f98e5a75-a523-45a6-8ed3-223cb482da4c"
      },
      "outputs": [
        {
          "output_type": "display_data",
          "data": {
            "text/plain": [
              " 3      2    \n",
              "x  - 2⋅x  + 1"
            ],
            "text/latex": "$\\displaystyle x^{3} - 2 x^{2} + 1$"
          },
          "metadata": {}
        }
      ],
      "source": [
        "expr = expr.expand()\n",
        "display(expr)"
      ]
    },
    {
      "cell_type": "markdown",
      "metadata": {
        "id": "30MdXWiFbizU"
      },
      "source": [
        "We can **solve equations**, by defining an equality of two expressions with the _sympy.Eq()_ class"
      ]
    },
    {
      "cell_type": "code",
      "execution_count": 59,
      "metadata": {
        "colab": {
          "base_uri": "https://localhost:8080/",
          "height": 38
        },
        "id": "crPkzt87bizU",
        "outputId": "3f0ee3a8-bb30-4858-89f7-1fcd9ed4846d"
      },
      "outputs": [
        {
          "output_type": "display_data",
          "data": {
            "text/plain": [
              "     3      2    \n",
              "y = x  - 2⋅x  + 1"
            ],
            "text/latex": "$\\displaystyle y = x^{3} - 2 x^{2} + 1$"
          },
          "metadata": {}
        }
      ],
      "source": [
        "equation = sp.Eq(y,expr)\n",
        "display(equation)"
      ]
    },
    {
      "cell_type": "code",
      "execution_count": 60,
      "metadata": {
        "colab": {
          "base_uri": "https://localhost:8080/",
          "height": 114
        },
        "id": "HeZO-UGFbizV",
        "outputId": "ce075c5b-13b2-4d9a-bcae-236d0059b0ad"
      },
      "outputs": [
        {
          "output_type": "display_data",
          "data": {
            "text/plain": [
              "⎡                     _______________________________________                                      ↪\n",
              "⎢                    ╱             ____________________                                            ↪\n",
              "⎢                   ╱             ╱            2                                                   ↪\n",
              "⎢  ⎛  1   √3⋅ⅈ⎞    ╱     27⋅y   ╲╱  (11 - 27⋅y)  - 256    11                                       ↪\n",
              "⎢  ⎜- ─ - ────⎟⋅3 ╱    - ──── + ─────────────────────── + ──                                       ↪\n",
              "⎢  ⎝  2    2  ⎠ ╲╱        2                2              2     2                                4 ↪\n",
              "⎢- ────────────────────────────────────────────────────────── + ─ - ────────────────────────────── ↪\n",
              "⎢                              3                                3                        _________ ↪\n",
              "⎢                                                                                       ╱          ↪\n",
              "⎢                                                                                      ╱           ↪\n",
              "⎢                                                                     ⎛  1   √3⋅ⅈ⎞    ╱     27⋅y   ↪\n",
              "⎢                                                                   3⋅⎜- ─ - ────⎟⋅3 ╱    - ──── + ↪\n",
              "⎣                                                                     ⎝  2    2  ⎠ ╲╱        2     ↪\n",
              "\n",
              "↪                                                      _______________________________________     ↪\n",
              "↪                                                     ╱             ____________________           ↪\n",
              "↪                                                    ╱             ╱            2                  ↪\n",
              "↪                                   ⎛  1   √3⋅ⅈ⎞    ╱     27⋅y   ╲╱  (11 - 27⋅y)  - 256    11      ↪\n",
              "↪                                   ⎜- ─ + ────⎟⋅3 ╱    - ──── + ─────────────────────── + ──      ↪\n",
              "↪                                   ⎝  2    2  ⎠ ╲╱        2                2              2     2 ↪\n",
              "↪ ──────────────────────────────, - ────────────────────────────────────────────────────────── + ─ ↪\n",
              "↪ ______________________________                                3                                3 ↪\n",
              "↪     ____________________                                                                         ↪\n",
              "↪    ╱            2                                                                                ↪\n",
              "↪  ╲╱  (11 - 27⋅y)  - 256    11                                                                    ↪\n",
              "↪  ─────────────────────── + ──                                                                    ↪\n",
              "↪             2              2                                                                     ↪\n",
              "\n",
              "↪                                                                          _______________________ ↪\n",
              "↪                                                                         ╱             __________ ↪\n",
              "↪                                                                        ╱             ╱           ↪\n",
              "↪                                                                       ╱     27⋅y   ╲╱  (11 - 27⋅ ↪\n",
              "↪                                                                    3 ╱    - ──── + ───────────── ↪\n",
              "↪                                 4                                  ╲╱        2                2  ↪\n",
              "↪  - ────────────────────────────────────────────────────────────, - ───────────────────────────── ↪\n",
              "↪                         _______________________________________                          3       ↪\n",
              "↪                        ╱             ____________________                                        ↪\n",
              "↪                       ╱             ╱            2                                               ↪\n",
              "↪      ⎛  1   √3⋅ⅈ⎞    ╱     27⋅y   ╲╱  (11 - 27⋅y)  - 256    11                                   ↪\n",
              "↪    3⋅⎜- ─ + ────⎟⋅3 ╱    - ──── + ─────────────────────── + ──                                   ↪\n",
              "↪      ⎝  2    2  ⎠ ╲╱        2                2              2                                    ↪\n",
              "\n",
              "↪ ________________                                                      ⎤\n",
              "↪ __________                                                            ⎥\n",
              "↪   2                                                                   ⎥\n",
              "↪ y)  - 256    11                                                       ⎥\n",
              "↪ ────────── + ──                                                       ⎥\n",
              "↪              2     2                          4                       ⎥\n",
              "↪ ──────────────── + ─ - ───────────────────────────────────────────────⎥\n",
              "↪                    3           _______________________________________⎥\n",
              "↪                               ╱             ____________________      ⎥\n",
              "↪                              ╱             ╱            2             ⎥\n",
              "↪                             ╱     27⋅y   ╲╱  (11 - 27⋅y)  - 256    11 ⎥\n",
              "↪                        3⋅3 ╱    - ──── + ─────────────────────── + ── ⎥\n",
              "↪                          ╲╱        2                2              2  ⎦"
            ],
            "text/latex": "$\\displaystyle \\left[ - \\frac{\\left(- \\frac{1}{2} - \\frac{\\sqrt{3} i}{2}\\right) \\sqrt[3]{- \\frac{27 y}{2} + \\frac{\\sqrt{\\left(11 - 27 y\\right)^{2} - 256}}{2} + \\frac{11}{2}}}{3} + \\frac{2}{3} - \\frac{4}{3 \\left(- \\frac{1}{2} - \\frac{\\sqrt{3} i}{2}\\right) \\sqrt[3]{- \\frac{27 y}{2} + \\frac{\\sqrt{\\left(11 - 27 y\\right)^{2} - 256}}{2} + \\frac{11}{2}}}, \\  - \\frac{\\left(- \\frac{1}{2} + \\frac{\\sqrt{3} i}{2}\\right) \\sqrt[3]{- \\frac{27 y}{2} + \\frac{\\sqrt{\\left(11 - 27 y\\right)^{2} - 256}}{2} + \\frac{11}{2}}}{3} + \\frac{2}{3} - \\frac{4}{3 \\left(- \\frac{1}{2} + \\frac{\\sqrt{3} i}{2}\\right) \\sqrt[3]{- \\frac{27 y}{2} + \\frac{\\sqrt{\\left(11 - 27 y\\right)^{2} - 256}}{2} + \\frac{11}{2}}}, \\  - \\frac{\\sqrt[3]{- \\frac{27 y}{2} + \\frac{\\sqrt{\\left(11 - 27 y\\right)^{2} - 256}}{2} + \\frac{11}{2}}}{3} + \\frac{2}{3} - \\frac{4}{3 \\sqrt[3]{- \\frac{27 y}{2} + \\frac{\\sqrt{\\left(11 - 27 y\\right)^{2} - 256}}{2} + \\frac{11}{2}}}\\right]$"
          },
          "metadata": {}
        }
      ],
      "source": [
        "x_sol = sp.solve(equation,x)\n",
        "display(x_sol)"
      ]
    },
    {
      "cell_type": "markdown",
      "metadata": {
        "id": "o3kPf1mKbizV"
      },
      "source": [
        "It gives 3 complex solutions. We can access to each of them as member of an array"
      ]
    },
    {
      "cell_type": "code",
      "execution_count": 61,
      "metadata": {
        "colab": {
          "base_uri": "https://localhost:8080/",
          "height": 94
        },
        "id": "6cKcN0E8bizV",
        "outputId": "554b3c25-0d35-4b19-b75d-05e58d13617a"
      },
      "outputs": [
        {
          "output_type": "display_data",
          "data": {
            "text/plain": [
              "                     _______________________________________                                       ↪\n",
              "                    ╱             ____________________                                             ↪\n",
              "                   ╱             ╱            2                                                    ↪\n",
              "  ⎛  1   √3⋅ⅈ⎞    ╱     27⋅y   ╲╱  (11 - 27⋅y)  - 256    11                                        ↪\n",
              "  ⎜- ─ - ────⎟⋅3 ╱    - ──── + ─────────────────────── + ──                                        ↪\n",
              "  ⎝  2    2  ⎠ ╲╱        2                2              2     2                                4  ↪\n",
              "- ────────────────────────────────────────────────────────── + ─ - ─────────────────────────────── ↪\n",
              "                              3                                3                        __________ ↪\n",
              "                                                                                       ╱           ↪\n",
              "                                                                                      ╱            ↪\n",
              "                                                                     ⎛  1   √3⋅ⅈ⎞    ╱     27⋅y    ↪\n",
              "                                                                   3⋅⎜- ─ - ────⎟⋅3 ╱    - ──── +  ↪\n",
              "                                                                     ⎝  2    2  ⎠ ╲╱        2      ↪\n",
              "\n",
              "↪                              \n",
              "↪                              \n",
              "↪                              \n",
              "↪                              \n",
              "↪                              \n",
              "↪                              \n",
              "↪ ─────────────────────────────\n",
              "↪ _____________________________\n",
              "↪    ____________________      \n",
              "↪   ╱            2             \n",
              "↪ ╲╱  (11 - 27⋅y)  - 256    11 \n",
              "↪ ─────────────────────── + ── \n",
              "↪            2              2  "
            ],
            "text/latex": "$\\displaystyle - \\frac{\\left(- \\frac{1}{2} - \\frac{\\sqrt{3} i}{2}\\right) \\sqrt[3]{- \\frac{27 y}{2} + \\frac{\\sqrt{\\left(11 - 27 y\\right)^{2} - 256}}{2} + \\frac{11}{2}}}{3} + \\frac{2}{3} - \\frac{4}{3 \\left(- \\frac{1}{2} - \\frac{\\sqrt{3} i}{2}\\right) \\sqrt[3]{- \\frac{27 y}{2} + \\frac{\\sqrt{\\left(11 - 27 y\\right)^{2} - 256}}{2} + \\frac{11}{2}}}$"
          },
          "metadata": {}
        }
      ],
      "source": [
        "display(x_sol[0])"
      ]
    },
    {
      "cell_type": "markdown",
      "metadata": {
        "id": "6jCTlqsJbizV"
      },
      "source": [
        "Or we can solve systems of equations"
      ]
    },
    {
      "cell_type": "code",
      "execution_count": 62,
      "metadata": {
        "colab": {
          "base_uri": "https://localhost:8080/",
          "height": 100
        },
        "id": "3ul_ncfvbizV",
        "outputId": "ab0f01b6-9ef8-4051-bb7b-a9257dd0c89d"
      },
      "outputs": [
        {
          "output_type": "display_data",
          "data": {
            "text/plain": [
              "x + 2⋅y - 1"
            ],
            "text/latex": "$\\displaystyle x + 2 y - 1$"
          },
          "metadata": {}
        },
        {
          "output_type": "display_data",
          "data": {
            "text/plain": [
              "x - y + 1"
            ],
            "text/latex": "$\\displaystyle x - y + 1$"
          },
          "metadata": {}
        },
        {
          "output_type": "display_data",
          "data": {
            "text/plain": [
              "{x: -1/3, y: 2/3}"
            ],
            "text/latex": "$\\displaystyle \\left\\{ x : - \\frac{1}{3}, \\  y : \\frac{2}{3}\\right\\}$"
          },
          "metadata": {}
        }
      ],
      "source": [
        "eq1 = x + 2*y - 1\n",
        "display(eq1)\n",
        "eq2 = x - y + 1\n",
        "display(eq2)\n",
        "eq_sol = sp.solve([eq1,eq2],[x,y])\n",
        "display(eq_sol)"
      ]
    },
    {
      "cell_type": "markdown",
      "metadata": {
        "id": "_VSTPhcebizg"
      },
      "source": [
        "We can make substitutions in an expression, with _subs()_"
      ]
    },
    {
      "cell_type": "code",
      "execution_count": 63,
      "metadata": {
        "colab": {
          "base_uri": "https://localhost:8080/",
          "height": 39
        },
        "id": "LkRufUvebizg",
        "outputId": "874d4ec9-42ec-41e9-c17e-0653ca6ee291"
      },
      "outputs": [
        {
          "output_type": "display_data",
          "data": {
            "text/plain": [
              "       3            2    \n",
              "(x + 1)  - 2⋅(x + 1)  + 1"
            ],
            "text/latex": "$\\displaystyle \\left(x + 1\\right)^{3} - 2 \\left(x + 1\\right)^{2} + 1$"
          },
          "metadata": {}
        }
      ],
      "source": [
        "expr = expr.subs(x,x+1)\n",
        "display(expr)"
      ]
    },
    {
      "cell_type": "markdown",
      "metadata": {
        "id": "P7ZY4ocQbizg"
      },
      "source": [
        "or with _replace()_ that is often more powerful"
      ]
    },
    {
      "cell_type": "code",
      "execution_count": 64,
      "metadata": {
        "colab": {
          "base_uri": "https://localhost:8080/",
          "height": 39
        },
        "id": "X_aTdzHrbizg",
        "outputId": "abe50a48-2049-460b-9fac-c0b260c5e490"
      },
      "outputs": [
        {
          "output_type": "display_data",
          "data": {
            "text/plain": [
              "         3              2    \n",
              "(3⋅x + 1)  - 2⋅(3⋅x + 1)  + 1"
            ],
            "text/latex": "$\\displaystyle \\left(3 x + 1\\right)^{3} - 2 \\left(3 x + 1\\right)^{2} + 1$"
          },
          "metadata": {}
        }
      ],
      "source": [
        "expr = expr.replace(x,3*x)\n",
        "display(expr)"
      ]
    },
    {
      "cell_type": "markdown",
      "metadata": {
        "id": "Wl-Xa-Tgbizg"
      },
      "source": [
        "Several substitutions can be performed by means of a [dictionary](https://docs.python.org/3/tutorial/datastructures.html#dictionaries)"
      ]
    },
    {
      "cell_type": "code",
      "execution_count": 65,
      "metadata": {
        "colab": {
          "base_uri": "https://localhost:8080/",
          "height": 40
        },
        "id": "b5zCOTJRbizg",
        "outputId": "2cb23ed7-6dde-4b49-e03a-3f55ed8a2d46"
      },
      "outputs": [
        {
          "output_type": "display_data",
          "data": {
            "text/plain": [
              "          3/2          \n",
              "cos(y) = x    - 2⋅x + 1"
            ],
            "text/latex": "$\\displaystyle \\cos{\\left(y \\right)} = x^{\\frac{3}{2}} - 2 x + 1$"
          },
          "metadata": {}
        }
      ],
      "source": [
        "changes = {y:sp.cos(y),x:sp.sqrt(x)}\n",
        "equation = equation.subs(changes)\n",
        "display(equation)"
      ]
    },
    {
      "cell_type": "markdown",
      "metadata": {
        "id": "3UpBWz9Lbizg"
      },
      "source": [
        "We can also perform **numerical evaluations**.\n",
        "\n",
        "The best way is with a [lambda](https://docs.python.org/3/tutorial/controlflow.html?highlight=lambda#lambda-expressions) method that creates a function to evaluate any value"
      ]
    },
    {
      "cell_type": "code",
      "execution_count": 66,
      "metadata": {
        "colab": {
          "base_uri": "https://localhost:8080/",
          "height": 37
        },
        "id": "-DuHU0a1bizh",
        "outputId": "92a798f8-4c32-401d-8cbe-310ca19143b0"
      },
      "outputs": [
        {
          "output_type": "execute_result",
          "data": {
            "text/plain": [
              "246.0"
            ],
            "text/latex": "$\\displaystyle 246.0$"
          },
          "metadata": {},
          "execution_count": 66
        }
      ],
      "source": [
        "expr_func = sp.lambdify(x,expr)\n",
        "expr_func(2.0)"
      ]
    },
    {
      "cell_type": "markdown",
      "metadata": {
        "id": "lpb0cGgfbizh"
      },
      "source": [
        "### Manipulating algebraic functions and solvind ODEs\n",
        "\n",
        "Besides symbols, we can define functions, and its derivatives"
      ]
    },
    {
      "cell_type": "code",
      "execution_count": 67,
      "metadata": {
        "colab": {
          "base_uri": "https://localhost:8080/",
          "height": 110
        },
        "id": "4ofS2bSBbizh",
        "outputId": "02c6ebd6-3225-4236-8bf5-732e2604f5e3"
      },
      "outputs": [
        {
          "output_type": "display_data",
          "data": {
            "text/plain": [
              "f(x)"
            ],
            "text/latex": "$\\displaystyle f{\\left(x \\right)}$"
          },
          "metadata": {}
        },
        {
          "output_type": "display_data",
          "data": {
            "text/plain": [
              "d       \n",
              "──(f(x))\n",
              "dx      "
            ],
            "text/latex": "$\\displaystyle \\frac{d}{d x} f{\\left(x \\right)}$"
          },
          "metadata": {}
        },
        {
          "output_type": "display_data",
          "data": {
            "text/plain": [
              " 2       \n",
              "d        \n",
              "───(f(x))\n",
              "  2      \n",
              "dx       "
            ],
            "text/latex": "$\\displaystyle \\frac{d^{2}}{d x^{2}} f{\\left(x \\right)}$"
          },
          "metadata": {}
        }
      ],
      "source": [
        "f = sp.Function('f')\n",
        "display(f(x))\n",
        "display(f(x).diff(x))\n",
        "display(f(x).diff(x,2))"
      ]
    },
    {
      "cell_type": "markdown",
      "metadata": {
        "id": "gsRWivRXbizh"
      },
      "source": [
        "In this case, the function $f(x)$ is not defined and `sympy` can just represents symbolicaly its derivative. But we can\n",
        "make the derivative of any expression"
      ]
    },
    {
      "cell_type": "code",
      "execution_count": 68,
      "metadata": {
        "colab": {
          "base_uri": "https://localhost:8080/",
          "height": 39
        },
        "id": "Rwxi-_uSbizh",
        "outputId": "b0a78d8b-3688-4fc0-edb6-12ef43d18910"
      },
      "outputs": [
        {
          "output_type": "execute_result",
          "data": {
            "text/plain": [
              "                   2     \n",
              "-36⋅x + 9⋅(3⋅x + 1)  - 12"
            ],
            "text/latex": "$\\displaystyle - 36 x + 9 \\left(3 x + 1\\right)^{2} - 12$"
          },
          "metadata": {},
          "execution_count": 68
        }
      ],
      "source": [
        "expr.diff(x)"
      ]
    },
    {
      "cell_type": "code",
      "execution_count": 69,
      "metadata": {
        "colab": {
          "base_uri": "https://localhost:8080/",
          "height": 38
        },
        "id": "NJR0HivMbizh",
        "outputId": "761b21b2-9d1d-49a0-9d46-5faff146ed04"
      },
      "outputs": [
        {
          "output_type": "execute_result",
          "data": {
            "text/plain": [
              "18⋅(9⋅x + 1)"
            ],
            "text/latex": "$\\displaystyle 18 \\left(9 x + 1\\right)$"
          },
          "metadata": {},
          "execution_count": 69
        }
      ],
      "source": [
        "expr.diff(x,2)"
      ]
    },
    {
      "cell_type": "markdown",
      "metadata": {
        "id": "tf8zWc8ibizh"
      },
      "source": [
        "Also we can, of course, integrate a function"
      ]
    },
    {
      "cell_type": "code",
      "execution_count": 70,
      "metadata": {
        "colab": {
          "base_uri": "https://localhost:8080/",
          "height": 55
        },
        "id": "zGSRxRcMbizi",
        "outputId": "e5f8dbd2-5b16-495c-b214-17e7923d7db0"
      },
      "outputs": [
        {
          "output_type": "execute_result",
          "data": {
            "text/plain": [
              "⌠        \n",
              "⎮ f(x) dx\n",
              "⌡        "
            ],
            "text/latex": "$\\displaystyle \\int f{\\left(x \\right)}\\, dx$"
          },
          "metadata": {},
          "execution_count": 70
        }
      ],
      "source": [
        "f(x).integrate()"
      ]
    },
    {
      "cell_type": "code",
      "execution_count": 71,
      "metadata": {
        "colab": {
          "base_uri": "https://localhost:8080/",
          "height": 77
        },
        "id": "ajGIs5akbizi",
        "outputId": "c16cc9c2-4d63-4fec-f793-085dd87c7bc9"
      },
      "outputs": [
        {
          "output_type": "execute_result",
          "data": {
            "text/plain": [
              "π        \n",
              "⌠        \n",
              "⎮ f(x) dx\n",
              "⌡        \n",
              "0        "
            ],
            "text/latex": "$\\displaystyle \\int\\limits_{0}^{\\pi} f{\\left(x \\right)}\\, dx$"
          },
          "metadata": {},
          "execution_count": 71
        }
      ],
      "source": [
        "f(x).integrate((x,0,sp.pi))"
      ]
    },
    {
      "cell_type": "code",
      "execution_count": 72,
      "metadata": {
        "colab": {
          "base_uri": "https://localhost:8080/",
          "height": 54
        },
        "id": "XpSOuc4Bbizi",
        "outputId": "84ee365c-0636-4a88-c786-0f4386fad43a"
      },
      "outputs": [
        {
          "output_type": "execute_result",
          "data": {
            "text/plain": [
              "    4             2\n",
              "27⋅x       3   3⋅x \n",
              "───── + 3⋅x  - ────\n",
              "  4             2  "
            ],
            "text/latex": "$\\displaystyle \\frac{27 x^{4}}{4} + 3 x^{3} - \\frac{3 x^{2}}{2}$"
          },
          "metadata": {},
          "execution_count": 72
        }
      ],
      "source": [
        "expr.integrate()"
      ]
    },
    {
      "cell_type": "code",
      "execution_count": 73,
      "metadata": {
        "colab": {
          "base_uri": "https://localhost:8080/",
          "height": 51
        },
        "id": "RCrJqd6zbizi",
        "outputId": "ba644bcf-075e-4602-ae35-b606c7b53209"
      },
      "outputs": [
        {
          "output_type": "execute_result",
          "data": {
            "text/plain": [
              "33/4"
            ],
            "text/latex": "$\\displaystyle \\frac{33}{4}$"
          },
          "metadata": {},
          "execution_count": 73
        }
      ],
      "source": [
        "expr.integrate((x,0,1))"
      ]
    },
    {
      "cell_type": "markdown",
      "metadata": {
        "id": "LRXvqfIbbizi"
      },
      "source": [
        "We can calculate series expansion, both symbolicaly"
      ]
    },
    {
      "cell_type": "code",
      "execution_count": 74,
      "metadata": {
        "colab": {
          "base_uri": "https://localhost:8080/",
          "height": 76
        },
        "id": "IMqqjxaobizi",
        "outputId": "2597f376-ff22-48ae-c1ff-8c30f3f2e245"
      },
      "outputs": [
        {
          "output_type": "execute_result",
          "data": {
            "text/plain": [
              "                             ⎛ 2       ⎞│         ⎛ 3       ⎞│         ⎛ 4       ⎞│         ⎛ 5    ↪\n",
              "                           2 ⎜d        ⎟│       3 ⎜d        ⎟│       4 ⎜d        ⎟│       5 ⎜d     ↪\n",
              "                          x ⋅⎜───(f(ξ))⎟│      x ⋅⎜───(f(ξ))⎟│      x ⋅⎜───(f(ξ))⎟│      x ⋅⎜───(f ↪\n",
              "                             ⎜  2      ⎟│         ⎜  3      ⎟│         ⎜  4      ⎟│         ⎜  5   ↪\n",
              "         ⎛d       ⎞│         ⎝dξ       ⎠│ξ=0      ⎝dξ       ⎠│ξ=0      ⎝dξ       ⎠│ξ=0      ⎝dξ    ↪\n",
              "f(0) + x⋅⎜──(f(ξ))⎟│    + ────────────────── + ────────────────── + ────────────────── + ───────── ↪\n",
              "         ⎝dξ      ⎠│ξ=0           2                    6                    24                  12 ↪\n",
              "\n",
              "↪     ⎞│           \n",
              "↪     ⎟│           \n",
              "↪ (ξ))⎟│           \n",
              "↪     ⎟│           \n",
              "↪     ⎠│ξ=0    ⎛ 6⎞\n",
              "↪ ───────── + O⎝x ⎠\n",
              "↪ 0                "
            ],
            "text/latex": "$\\displaystyle f{\\left(0 \\right)} + x \\left. \\frac{d}{d \\xi} f{\\left(\\xi \\right)} \\right|_{\\substack{ \\xi=0 }} + \\frac{x^{2} \\left. \\frac{d^{2}}{d \\xi^{2}} f{\\left(\\xi \\right)} \\right|_{\\substack{ \\xi=0 }}}{2} + \\frac{x^{3} \\left. \\frac{d^{3}}{d \\xi^{3}} f{\\left(\\xi \\right)} \\right|_{\\substack{ \\xi=0 }}}{6} + \\frac{x^{4} \\left. \\frac{d^{4}}{d \\xi^{4}} f{\\left(\\xi \\right)} \\right|_{\\substack{ \\xi=0 }}}{24} + \\frac{x^{5} \\left. \\frac{d^{5}}{d \\xi^{5}} f{\\left(\\xi \\right)} \\right|_{\\substack{ \\xi=0 }}}{120} + O\\left(x^{6}\\right)$"
          },
          "metadata": {},
          "execution_count": 74
        }
      ],
      "source": [
        "f(x).series(x)"
      ]
    },
    {
      "cell_type": "code",
      "execution_count": 75,
      "metadata": {
        "colab": {
          "base_uri": "https://localhost:8080/",
          "height": 128
        },
        "id": "KHU872VGbizi",
        "outputId": "96bb5582-180a-4364-d8ba-f827ec9aaeeb"
      },
      "outputs": [
        {
          "output_type": "execute_result",
          "data": {
            "text/plain": [
              "                                            ⎛  2        ⎞│                ⎛  3        ⎞│           ↪\n",
              "                                          2 ⎜ d         ⎟│              3 ⎜ d         ⎟│           ↪\n",
              "                                   (x - 1) ⋅⎜────(f(ξ₁))⎟│       (x - 1) ⋅⎜────(f(ξ₁))⎟│       (x  ↪\n",
              "                                            ⎜   2       ⎟│                ⎜   3       ⎟│           ↪\n",
              "               ⎛ d        ⎞│                ⎝dξ₁        ⎠│ξ₁=1            ⎝dξ₁        ⎠│ξ₁=1       ↪\n",
              "f(1) + (x - 1)⋅⎜───(f(ξ₁))⎟│     + ─────────────────────────── + ─────────────────────────── + ─── ↪\n",
              "               ⎝dξ₁       ⎠│ξ₁=1                2                             6                    ↪\n",
              "\n",
              "↪       ⎛  4        ⎞│                ⎛  5        ⎞│                         \n",
              "↪     4 ⎜ d         ⎟│              5 ⎜ d         ⎟│                         \n",
              "↪ - 1) ⋅⎜────(f(ξ₁))⎟│       (x - 1) ⋅⎜────(f(ξ₁))⎟│                         \n",
              "↪       ⎜   4       ⎟│                ⎜   5       ⎟│                         \n",
              "↪       ⎝dξ₁        ⎠│ξ₁=1            ⎝dξ₁        ⎠│ξ₁=1    ⎛       6       ⎞\n",
              "↪ ──────────────────────── + ─────────────────────────── + O⎝(x - 1) ; x → 1⎠\n",
              "↪          24                            120                                 "
            ],
            "text/latex": "$\\displaystyle f{\\left(1 \\right)} + \\left(x - 1\\right) \\left. \\frac{d}{d \\xi_{1}} f{\\left(\\xi_{1} \\right)} \\right|_{\\substack{ \\xi_{1}=1 }} + \\frac{\\left(x - 1\\right)^{2} \\left. \\frac{d^{2}}{d \\xi_{1}^{2}} f{\\left(\\xi_{1} \\right)} \\right|_{\\substack{ \\xi_{1}=1 }}}{2} + \\frac{\\left(x - 1\\right)^{3} \\left. \\frac{d^{3}}{d \\xi_{1}^{3}} f{\\left(\\xi_{1} \\right)} \\right|_{\\substack{ \\xi_{1}=1 }}}{6} + \\frac{\\left(x - 1\\right)^{4} \\left. \\frac{d^{4}}{d \\xi_{1}^{4}} f{\\left(\\xi_{1} \\right)} \\right|_{\\substack{ \\xi_{1}=1 }}}{24} + \\frac{\\left(x - 1\\right)^{5} \\left. \\frac{d^{5}}{d \\xi_{1}^{5}} f{\\left(\\xi_{1} \\right)} \\right|_{\\substack{ \\xi_{1}=1 }}}{120} + O\\left(\\left(x - 1\\right)^{6}; x\\rightarrow 1\\right)$"
          },
          "metadata": {},
          "execution_count": 75
        }
      ],
      "source": [
        "f(x).series(x,1)"
      ]
    },
    {
      "cell_type": "code",
      "execution_count": 76,
      "metadata": {
        "colab": {
          "base_uri": "https://localhost:8080/",
          "height": 61
        },
        "id": "Mc8d0sXPbizj",
        "outputId": "a2ed3d70-e358-464c-9bde-081a7c428b0e"
      },
      "outputs": [
        {
          "output_type": "execute_result",
          "data": {
            "text/plain": [
              "               ⎛ d        ⎞│        ⎛       2       ⎞\n",
              "f(1) + (x - 1)⋅⎜───(f(ξ₁))⎟│     + O⎝(x - 1) ; x → 1⎠\n",
              "               ⎝dξ₁       ⎠│ξ₁=1                     "
            ],
            "text/latex": "$\\displaystyle f{\\left(1 \\right)} + \\left(x - 1\\right) \\left. \\frac{d}{d \\xi_{1}} f{\\left(\\xi_{1} \\right)} \\right|_{\\substack{ \\xi_{1}=1 }} + O\\left(\\left(x - 1\\right)^{2}; x\\rightarrow 1\\right)$"
          },
          "metadata": {},
          "execution_count": 76
        }
      ],
      "source": [
        "f(x).series(x,1,n=2)"
      ]
    },
    {
      "cell_type": "code",
      "execution_count": 77,
      "metadata": {
        "colab": {
          "base_uri": "https://localhost:8080/",
          "height": 61
        },
        "id": "iOHCmmxnbizj",
        "outputId": "4109408c-32a6-42c2-c01f-a6143a6523b3"
      },
      "outputs": [
        {
          "output_type": "execute_result",
          "data": {
            "text/plain": [
              "        ⎛ d        ⎞│           \n",
              "(x - 1)⋅⎜───(f(ξ₁))⎟│     + f(1)\n",
              "        ⎝dξ₁       ⎠│ξ₁=1       "
            ],
            "text/latex": "$\\displaystyle \\left(x - 1\\right) \\left. \\frac{d}{d \\xi_{1}} f{\\left(\\xi_{1} \\right)} \\right|_{\\substack{ \\xi_{1}=1 }} + f{\\left(1 \\right)}$"
          },
          "metadata": {},
          "execution_count": 77
        }
      ],
      "source": [
        "f(x).series(x,1,n=2).removeO()"
      ]
    },
    {
      "cell_type": "markdown",
      "metadata": {
        "id": "WnkbeTWYbizj"
      },
      "source": [
        "or explicitely"
      ]
    },
    {
      "cell_type": "code",
      "execution_count": 78,
      "metadata": {
        "colab": {
          "base_uri": "https://localhost:8080/",
          "height": 37
        },
        "id": "Al01n3CTbizj",
        "outputId": "89009010-d171-424b-d66e-9996a9fadf6e"
      },
      "outputs": [
        {
          "output_type": "display_data",
          "data": {
            "text/plain": [
              "√x"
            ],
            "text/latex": "$\\displaystyle \\sqrt{x}$"
          },
          "metadata": {}
        }
      ],
      "source": [
        "sqrt_x = sp.sqrt(x)\n",
        "display(sqrt_x)"
      ]
    },
    {
      "cell_type": "code",
      "execution_count": 79,
      "metadata": {
        "colab": {
          "base_uri": "https://localhost:8080/",
          "height": 56
        },
        "id": "Lq-FG5JBbizj",
        "outputId": "74f59235-ffc6-4ee6-dc23-d59c030b48a5"
      },
      "outputs": [
        {
          "output_type": "execute_result",
          "data": {
            "text/plain": [
              "           2                         \n",
              "1   (x - 1)    x    ⎛       3       ⎞\n",
              "─ - ──────── + ─ + O⎝(x - 1) ; x → 1⎠\n",
              "2      8       2                     "
            ],
            "text/latex": "$\\displaystyle \\frac{1}{2} - \\frac{\\left(x - 1\\right)^{2}}{8} + \\frac{x}{2} + O\\left(\\left(x - 1\\right)^{3}; x\\rightarrow 1\\right)$"
          },
          "metadata": {},
          "execution_count": 79
        }
      ],
      "source": [
        "sqrt_x.series(x,1,n=3)"
      ]
    },
    {
      "cell_type": "code",
      "execution_count": 80,
      "metadata": {
        "colab": {
          "base_uri": "https://localhost:8080/",
          "height": 56
        },
        "id": "pgFYkmbGbizj",
        "outputId": "7279844b-eb2a-4e87-cb5d-a409ac5c5651"
      },
      "outputs": [
        {
          "output_type": "execute_result",
          "data": {
            "text/plain": [
              "           2    \n",
              "x   (x - 1)    1\n",
              "─ - ──────── + ─\n",
              "2      8       2"
            ],
            "text/latex": "$\\displaystyle \\frac{x}{2} - \\frac{\\left(x - 1\\right)^{2}}{8} + \\frac{1}{2}$"
          },
          "metadata": {},
          "execution_count": 80
        }
      ],
      "source": [
        "sqrt_x.series(x,1,n=3).removeO()"
      ]
    },
    {
      "cell_type": "markdown",
      "metadata": {
        "id": "JSIesvoIbizj"
      },
      "source": [
        "***\n",
        "\n",
        "Let's now solve an ODE\n",
        "\n",
        "Let's consider the first order ODE for Newton's cooling law\n",
        "\n",
        "$$ \\frac{\\text{d} T}{\\text{d}t} = -k \\left(T(t) - T_a\\right) $$\n",
        "\n",
        "with $T(0) = T_0$."
      ]
    },
    {
      "cell_type": "code",
      "execution_count": 81,
      "metadata": {
        "id": "Pqktx9RUbizj"
      },
      "outputs": [],
      "source": [
        "t,k,Ta,T0 = sp.symbols('t,k,T_a,T_0')\n",
        "T = sp.Function(\"T\")"
      ]
    },
    {
      "cell_type": "code",
      "execution_count": 82,
      "metadata": {
        "colab": {
          "base_uri": "https://localhost:8080/",
          "height": 52
        },
        "id": "8YEwQma1bizk",
        "outputId": "18504734-3c33-4d8d-dfff-a0e76abaf5dd"
      },
      "outputs": [
        {
          "output_type": "display_data",
          "data": {
            "text/plain": [
              "d                         \n",
              "──(T(t)) = -k⋅(-Tₐ + T(t))\n",
              "dt                        "
            ],
            "text/latex": "$\\displaystyle \\frac{d}{d t} T{\\left(t \\right)} = - k \\left(- T_{a} + T{\\left(t \\right)}\\right)$"
          },
          "metadata": {}
        }
      ],
      "source": [
        "ode = sp.Eq(T(t).diff(t),-k*(T(t)-Ta))\n",
        "display(ode)"
      ]
    },
    {
      "cell_type": "code",
      "execution_count": 83,
      "metadata": {
        "colab": {
          "base_uri": "https://localhost:8080/",
          "height": 38
        },
        "id": "Sw-jUy_Gbizk",
        "outputId": "bb7dd453-92af-4b0e-f78c-0941824d365c"
      },
      "outputs": [
        {
          "output_type": "display_data",
          "data": {
            "text/plain": [
              "           -k⋅t     \n",
              "T(t) = C₁⋅ℯ     + Tₐ"
            ],
            "text/latex": "$\\displaystyle T{\\left(t \\right)} = C_{1} e^{- k t} + T_{a}$"
          },
          "metadata": {}
        }
      ],
      "source": [
        "ode_sol = sp.dsolve(ode)\n",
        "display(ode_sol)"
      ]
    },
    {
      "cell_type": "markdown",
      "metadata": {
        "id": "jUykVAK5bizk"
      },
      "source": [
        "and it can be done directly with the initial condition"
      ]
    },
    {
      "cell_type": "code",
      "execution_count": 84,
      "metadata": {
        "colab": {
          "base_uri": "https://localhost:8080/",
          "height": 38
        },
        "id": "kgFC6_Cubizk",
        "outputId": "4e43cbdd-d1d4-412d-f137-26cd77535951"
      },
      "outputs": [
        {
          "output_type": "display_data",
          "data": {
            "text/plain": [
              "                       -k⋅t\n",
              "T(t) = Tₐ + (T₀ - Tₐ)⋅ℯ    "
            ],
            "text/latex": "$\\displaystyle T{\\left(t \\right)} = T_{a} + \\left(T_{0} - T_{a}\\right) e^{- k t}$"
          },
          "metadata": {}
        }
      ],
      "source": [
        "ode_sol = sp.dsolve(ode,ics={T(0):T0})\n",
        "display(ode_sol)"
      ]
    },
    {
      "cell_type": "markdown",
      "metadata": {
        "id": "ml6YDOaPbizk"
      },
      "source": [
        "***\n",
        "For a second order ODE, let's consider a damped harmonic oscillator"
      ]
    },
    {
      "cell_type": "code",
      "execution_count": 85,
      "metadata": {
        "colab": {
          "base_uri": "https://localhost:8080/",
          "height": 54
        },
        "id": "x5o3BDlhbizk",
        "outputId": "241c7c1b-f986-45e3-c217-a6d75cb2071f"
      },
      "outputs": [
        {
          "output_type": "display_data",
          "data": {
            "text/plain": [
              "                              2           \n",
              "       d            2        d            \n",
              "2⋅γ⋅ω₀⋅──(x(t)) + ω₀ ⋅x(t) + ───(x(t)) = 0\n",
              "       dt                      2          \n",
              "                             dt           "
            ],
            "text/latex": "$\\displaystyle 2 \\gamma \\omega_{0} \\frac{d}{d t} x{\\left(t \\right)} + \\omega_{0}^{2} x{\\left(t \\right)} + \\frac{d^{2}}{d t^{2}} x{\\left(t \\right)} = 0$"
          },
          "metadata": {}
        }
      ],
      "source": [
        "t,omega0,gamma = sp.symbols('t,omega0,gamma',positive=True)\n",
        "x = sp.Function('x')\n",
        "ode2 = sp.Eq(x(t).diff(t,2)+2*gamma*omega0*x(t).diff(t)+omega0**2*x(t),0)\n",
        "display(ode2)"
      ]
    },
    {
      "cell_type": "code",
      "execution_count": 86,
      "metadata": {
        "colab": {
          "base_uri": "https://localhost:8080/",
          "height": 42
        },
        "id": "3G85GErBbizk",
        "outputId": "87400f0e-484a-4895-cfb7-94bf928f7e0e"
      },
      "outputs": [
        {
          "output_type": "display_data",
          "data": {
            "text/plain": [
              "                ⎛       _______   _______⎞             ⎛      _______   _______⎞\n",
              "           ω₀⋅t⋅⎝-γ + ╲╱ γ - 1 ⋅╲╱ γ + 1 ⎠       -ω₀⋅t⋅⎝γ + ╲╱ γ - 1 ⋅╲╱ γ + 1 ⎠\n",
              "x(t) = C₁⋅ℯ                                + C₂⋅ℯ                               "
            ],
            "text/latex": "$\\displaystyle x{\\left(t \\right)} = C_{1} e^{\\omega_{0} t \\left(- \\gamma + \\sqrt{\\gamma - 1} \\sqrt{\\gamma + 1}\\right)} + C_{2} e^{- \\omega_{0} t \\left(\\gamma + \\sqrt{\\gamma - 1} \\sqrt{\\gamma + 1}\\right)}$"
          },
          "metadata": {}
        }
      ],
      "source": [
        "ode2_sol = sp.dsolve(ode2)\n",
        "display(ode2_sol)"
      ]
    },
    {
      "cell_type": "markdown",
      "metadata": {
        "id": "MNxClSVQbizl"
      },
      "source": [
        "The boundary conditions are that $x=1$ and its derivative is 0 for $t=0$."
      ]
    },
    {
      "cell_type": "code",
      "execution_count": 87,
      "metadata": {
        "colab": {
          "base_uri": "https://localhost:8080/",
          "height": 58
        },
        "id": "rAS7LED5bizl",
        "outputId": "632f458e-7af6-4b61-c1db-115455ac4c05"
      },
      "outputs": [
        {
          "output_type": "display_data",
          "data": {
            "text/plain": [
              "                                            ⎛      _______   _______⎞                              ↪\n",
              "       ⎛            γ             1⎞  -ω₀⋅t⋅⎝γ + ╲╱ γ - 1 ⋅╲╱ γ + 1 ⎠   ⎛          γ             1 ↪\n",
              "x(t) = ⎜- ───────────────────── + ─⎟⋅ℯ                                + ⎜───────────────────── + ─ ↪\n",
              "       ⎜      _______   _______   2⎟                                    ⎜    _______   _______   2 ↪\n",
              "       ⎝  2⋅╲╱ γ - 1 ⋅╲╱ γ + 1     ⎠                                    ⎝2⋅╲╱ γ - 1 ⋅╲╱ γ + 1      ↪\n",
              "\n",
              "↪         ⎛       _______   _______⎞\n",
              "↪ ⎞  ω₀⋅t⋅⎝-γ + ╲╱ γ - 1 ⋅╲╱ γ + 1 ⎠\n",
              "↪ ⎟⋅ℯ                               \n",
              "↪ ⎟                                 \n",
              "↪ ⎠                                 "
            ],
            "text/latex": "$\\displaystyle x{\\left(t \\right)} = \\left(- \\frac{\\gamma}{2 \\sqrt{\\gamma - 1} \\sqrt{\\gamma + 1}} + \\frac{1}{2}\\right) e^{- \\omega_{0} t \\left(\\gamma + \\sqrt{\\gamma - 1} \\sqrt{\\gamma + 1}\\right)} + \\left(\\frac{\\gamma}{2 \\sqrt{\\gamma - 1} \\sqrt{\\gamma + 1}} + \\frac{1}{2}\\right) e^{\\omega_{0} t \\left(- \\gamma + \\sqrt{\\gamma - 1} \\sqrt{\\gamma + 1}\\right)}$"
          },
          "metadata": {}
        }
      ],
      "source": [
        "ics = {x(0):1,x(t).diff(t).subs(t,0):0}\n",
        "ode2_sol = sp.dsolve(ode2,ics=ics)\n",
        "display(ode2_sol)"
      ]
    },
    {
      "cell_type": "markdown",
      "metadata": {
        "id": "Kobvb_ijbizl"
      },
      "source": [
        "***\n",
        "\n",
        "We see now how to plot a particular case of this equations by using [matplotlib](https://matplotlib.org/)\n",
        "\n",
        "we are going to consider the case $\\omega_0 = 2\\pi$ and $\\gamma = 0.1$"
      ]
    },
    {
      "cell_type": "code",
      "execution_count": 88,
      "metadata": {
        "id": "-W0efgzNbizl"
      },
      "outputs": [],
      "source": [
        "import matplotlib.pyplot as plt\n",
        "import numpy as np\n",
        "%matplotlib inline"
      ]
    },
    {
      "cell_type": "code",
      "execution_count": 90,
      "metadata": {
        "colab": {
          "base_uri": "https://localhost:8080/",
          "height": 388
        },
        "id": "XFbu8FqPbizl",
        "outputId": "2cac036d-bc76-4027-90ff-14036705433c"
      },
      "outputs": [
        {
          "output_type": "display_data",
          "data": {
            "text/plain": [
              "<Figure size 800x400 with 1 Axes>"
            ],
            "image/png": "[encoded data removed]"
          },
          "metadata": {}
        }
      ],
      "source": [
        "values1 = {omega0: 2*sp.pi,gamma:0.1}\n",
        "values2 = {omega0: 2*sp.pi,gamma:0.2}\n",
        "fig,ax = plt.subplots(figsize=(8,4))\n",
        "tt = np.linspace(0,3,250)\n",
        "x1_t = sp.lambdify(t,ode2_sol.rhs.subs(values1))\n",
        "x2_t = sp.lambdify(t,ode2_sol.rhs.subs(values2))\n",
        "ax.plot(tt,x1_t(tt).real,label='$\\gamma = 0.1$') # There are some complex results. We take only the real part\n",
        "ax.plot(tt,x2_t(tt).real,label='$\\gamma = 0.2$')\n",
        "ax.legend()\n",
        "ax.set_xlabel(r'$t$')\n",
        "ax.set_ylabel(r'$x(t)$')\n",
        "ax.grid(which='major',axis='both')"
      ]
    },
    {
      "cell_type": "markdown",
      "metadata": {
        "id": "FMEVjKRMbizl"
      },
      "source": [
        "### Example: Solving the equation of motion of a roquet\n",
        "\n",
        "In this example we are going to use `sympy` to solve the equation of motion of a roquet, as described in many basic Fluid Mechanics textbook. See, for instance, example 3.12 of [White's book](https://discovery.upc.edu/permalink/34CSUC_UPC/11q3oqt/alma991004874831006711)"
      ]
    },
    {
      "cell_type": "code",
      "execution_count": null,
      "metadata": {
        "id": "TMk7-qpmbizl"
      },
      "outputs": [],
      "source": [
        "import sympy as sp"
      ]
    },
    {
      "cell_type": "code",
      "execution_count": null,
      "metadata": {
        "colab": {
          "base_uri": "https://localhost:8080/",
          "height": 52
        },
        "id": "Ibitr0N1bizl",
        "outputId": "686b99d6-1803-4584-df67-f708337da0a9"
      },
      "outputs": [
        {
          "output_type": "display_data",
          "data": {
            "text/plain": [
              "                 d                      \n",
              "(\\dot{m}⋅t + m₀)⋅──(v(t)) = -\\dot{m}⋅v_g\n",
              "                 dt                     "
            ],
            "text/latex": "$\\displaystyle \\left(\\dot{m} t + m_{0}\\right) \\frac{d}{d t} v{\\left(t \\right)} = - \\dot{m} v_{g}$"
          },
          "metadata": {}
        }
      ],
      "source": [
        "m0,mDot,t,vg = sp.symbols('m_0,\\dot{m},t,v_g')\n",
        "v = sp.Function('v')\n",
        "ode = sp.Eq((m0+mDot*t)*v(t).diff(t),-mDot*vg)\n",
        "display(ode)"
      ]
    },
    {
      "cell_type": "code",
      "execution_count": null,
      "metadata": {
        "colab": {
          "base_uri": "https://localhost:8080/",
          "height": 38
        },
        "id": "hy7o_RVsbizm",
        "outputId": "61fe4d3b-7c10-4fa7-c0e1-5bc78b16b92a"
      },
      "outputs": [
        {
          "output_type": "display_data",
          "data": {
            "text/plain": [
              "v(t) = v_g⋅log(m₀) - v_g⋅log(\\dot{m}⋅t + m₀)"
            ],
            "text/latex": "$\\displaystyle v{\\left(t \\right)} = v_{g} \\log{\\left(m_{0} \\right)} - v_{g} \\log{\\left(\\dot{m} t + m_{0} \\right)}$"
          },
          "metadata": {}
        }
      ],
      "source": [
        "condCont = {v(0):0}\n",
        "sol = sp.dsolve(ode,ics=condCont)\n",
        "display(sol)"
      ]
    },
    {
      "cell_type": "markdown",
      "metadata": {
        "id": "C66Ookr2bizm"
      },
      "source": [
        "We test and plot the solutions with some random values:\n",
        "\n",
        "$$\n",
        " \\dot{m} = -1\\;\\textrm{kg/s} \\\\\n",
        " m_0 = 400\\;\\textrm{Kg} \\\\\n",
        " v_g = 10\\;\\textrm{m/s}\n",
        "$$\n"
      ]
    },
    {
      "cell_type": "code",
      "execution_count": null,
      "metadata": {
        "id": "81F0uKZybizm"
      },
      "outputs": [],
      "source": [
        "values = {mDot:-1,m0:400,vg:10}\n",
        "v_t = sp.lambdify(t,sol.rhs.subs(values))"
      ]
    },
    {
      "cell_type": "code",
      "execution_count": null,
      "metadata": {
        "colab": {
          "base_uri": "https://localhost:8080/",
          "height": 390
        },
        "id": "BXjGp3Ulbizm",
        "outputId": "a3673e5c-296a-468e-fe01-6e85b0d093fc"
      },
      "outputs": [
        {
          "output_type": "display_data",
          "data": {
            "text/plain": [
              "<Figure size 800x400 with 1 Axes>"
            ],
            "image/png": "[encoded data removed]"
          },
          "metadata": {}
        }
      ],
      "source": [
        "import matplotlib.pyplot as plt\n",
        "import numpy as np\n",
        "tt = np.linspace(0,200,250)\n",
        "vtt = v_t(tt)\n",
        "fig,ax = plt.subplots(figsize=(8,4))\n",
        "ax.plot(tt,vtt)\n",
        "ax.set_xlabel(r'$t$ [s]')\n",
        "ax.set_ylabel(r'$v$ [m/s]');"
      ]
    },
    {
      "cell_type": "code",
      "execution_count": null,
      "metadata": {
        "colab": {
          "base_uri": "https://localhost:8080/",
          "height": 53
        },
        "id": "ULgdvOCVbizm",
        "outputId": "b50c2f1d-9e82-4afc-dffa-d8168d20073a"
      },
      "outputs": [
        {
          "output_type": "display_data",
          "data": {
            "text/plain": [
              "                                                     m₀⋅v_g⋅log(m₀)   m₀⋅v_g⋅log(\\dot{m}⋅t + m₀)\n",
              "-t⋅v_g⋅log(\\dot{m}⋅t + m₀) + t⋅(v_g⋅log(m₀) + v_g) + ────────────── - ──────────────────────────\n",
              "                                                        \\dot{m}                \\dot{m}          "
            ],
            "text/latex": "$\\displaystyle - t v_{g} \\log{\\left(\\dot{m} t + m_{0} \\right)} + t \\left(v_{g} \\log{\\left(m_{0} \\right)} + v_{g}\\right) + \\frac{m_{0} v_{g} \\log{\\left(m_{0} \\right)}}{\\dot{m}} - \\frac{m_{0} v_{g} \\log{\\left(\\dot{m} t + m_{0} \\right)}}{\\dot{m}}$"
          },
          "metadata": {}
        }
      ],
      "source": [
        "x = sol.rhs.integrate((t,0,t))\n",
        "display(x)"
      ]
    },
    {
      "cell_type": "code",
      "execution_count": null,
      "metadata": {
        "colab": {
          "base_uri": "https://localhost:8080/",
          "height": 390
        },
        "id": "WtkrVU-Gbizm",
        "outputId": "e1615d06-af56-4de6-f7be-3f2a80cc331a"
      },
      "outputs": [
        {
          "output_type": "display_data",
          "data": {
            "text/plain": [
              "<Figure size 800x400 with 1 Axes>"
            ],
            "image/png": "[encoded data removed]"
          },
          "metadata": {}
        }
      ],
      "source": [
        "x_t = sp.lambdify(t,x.subs(values))\n",
        "xtt = x_t(tt)\n",
        "fig,ax = plt.subplots(figsize=(8,4))\n",
        "ax.plot(tt,xtt)\n",
        "ax.set_xlabel(r'$t$ [s]')\n",
        "ax.set_ylabel(r'$x$ [m]');"
      ]
    },
    {
      "cell_type": "markdown",
      "metadata": {
        "id": "KHQ8UF7kbizm"
      },
      "source": [
        "## 3. Pandas\n",
        "\n",
        "Pandas is a library for data analysis. Is some kind of powerful datasheet.\n",
        "Documentation is [here](https://pandas.pydata.org/pandas-docs/stable/index.html#).\n",
        "\n",
        "The two main data structures are *Series* and *DataFrame*\n",
        "\n",
        "### Series\n",
        "\n",
        "A Series is an array that can be indexed with labels instead of integers\n",
        "\n",
        "For example, we can make a Series with grades in some subjects"
      ]
    },
    {
      "cell_type": "code",
      "execution_count": null,
      "metadata": {
        "id": "rngap55Nbizn"
      },
      "outputs": [],
      "source": [
        "import pandas as pd"
      ]
    },
    {
      "cell_type": "code",
      "execution_count": null,
      "metadata": {
        "colab": {
          "base_uri": "https://localhost:8080/",
          "height": 241
        },
        "id": "s1dKpm3obizn",
        "outputId": "ffbe9765-99f8-41fc-eb00-15c5970e0e7a"
      },
      "outputs": [
        {
          "output_type": "execute_result",
          "data": {
            "text/plain": [
              "0    5.5\n",
              "1    7.6\n",
              "2    4.3\n",
              "3    8.6\n",
              "4    6.5\n",
              "dtype: float64"
            ],
            "text/html": [
              "<div>\n",
              "<style scoped>\n",
              "    .dataframe tbody tr th:only-of-type {\n",
              "        vertical-align: middle;\n",
              "    }\n",
              "\n",
              "    .dataframe tbody tr th {\n",
              "        vertical-align: top;\n",
              "    }\n",
              "\n",
              "    .dataframe thead th {\n",
              "        text-align: right;\n",
              "    }\n",
              "</style>\n",
              "<table border=\"1\" class=\"dataframe\">\n",
              "  <thead>\n",
              "    <tr style=\"text-align: right;\">\n",
              "      <th></th>\n",
              "      <th>0</th>\n",
              "    </tr>\n",
              "  </thead>\n",
              "  <tbody>\n",
              "    <tr>\n",
              "      <th>0</th>\n",
              "      <td>5.5</td>\n",
              "    </tr>\n",
              "    <tr>\n",
              "      <th>1</th>\n",
              "      <td>7.6</td>\n",
              "    </tr>\n",
              "    <tr>\n",
              "      <th>2</th>\n",
              "      <td>4.3</td>\n",
              "    </tr>\n",
              "    <tr>\n",
              "      <th>3</th>\n",
              "      <td>8.6</td>\n",
              "    </tr>\n",
              "    <tr>\n",
              "      <th>4</th>\n",
              "      <td>6.5</td>\n",
              "    </tr>\n",
              "  </tbody>\n",
              "</table>\n",
              "</div><br><label><b>dtype:</b> float64</label>"
            ]
          },
          "metadata": {},
          "execution_count": 57
        }
      ],
      "source": [
        "grades = pd.Series([5.5,7.6,4.3,8.6,6.5])\n",
        "grades"
      ]
    },
    {
      "cell_type": "code",
      "execution_count": null,
      "metadata": {
        "colab": {
          "base_uri": "https://localhost:8080/"
        },
        "id": "EZw_rHaubizn",
        "outputId": "f13e7941-652c-40d8-c3c4-01f937e10cf5"
      },
      "outputs": [
        {
          "output_type": "execute_result",
          "data": {
            "text/plain": [
              "RangeIndex(start=0, stop=5, step=1)"
            ]
          },
          "metadata": {},
          "execution_count": 58
        }
      ],
      "source": [
        "grades.index"
      ]
    },
    {
      "cell_type": "markdown",
      "metadata": {
        "id": "F597Epj_bizn"
      },
      "source": [
        "This is the array inside the Series"
      ]
    },
    {
      "cell_type": "code",
      "execution_count": null,
      "metadata": {
        "colab": {
          "base_uri": "https://localhost:8080/"
        },
        "id": "m7kmM-sbbizn",
        "outputId": "5b802a20-719f-4847-f930-e9fec34a1fb3"
      },
      "outputs": [
        {
          "output_type": "execute_result",
          "data": {
            "text/plain": [
              "array([5.5, 7.6, 4.3, 8.6, 6.5])"
            ]
          },
          "metadata": {},
          "execution_count": 59
        }
      ],
      "source": [
        "grades.values"
      ]
    },
    {
      "cell_type": "markdown",
      "metadata": {
        "id": "pvY0NwK6bizn"
      },
      "source": [
        "And now we can changes index"
      ]
    },
    {
      "cell_type": "code",
      "execution_count": null,
      "metadata": {
        "colab": {
          "base_uri": "https://localhost:8080/",
          "height": 241
        },
        "id": "gjNHuE-Dbizn",
        "outputId": "10e3d0cf-27a1-4d91-b338-524f978e7352"
      },
      "outputs": [
        {
          "output_type": "execute_result",
          "data": {
            "text/plain": [
              "Maths      5.5\n",
              "Spanish    7.6\n",
              "Catalan    4.3\n",
              "Physics    8.6\n",
              "German     6.5\n",
              "Name: Grades, dtype: float64"
            ],
            "text/html": [
              "<div>\n",
              "<style scoped>\n",
              "    .dataframe tbody tr th:only-of-type {\n",
              "        vertical-align: middle;\n",
              "    }\n",
              "\n",
              "    .dataframe tbody tr th {\n",
              "        vertical-align: top;\n",
              "    }\n",
              "\n",
              "    .dataframe thead th {\n",
              "        text-align: right;\n",
              "    }\n",
              "</style>\n",
              "<table border=\"1\" class=\"dataframe\">\n",
              "  <thead>\n",
              "    <tr style=\"text-align: right;\">\n",
              "      <th></th>\n",
              "      <th>Grades</th>\n",
              "    </tr>\n",
              "  </thead>\n",
              "  <tbody>\n",
              "    <tr>\n",
              "      <th>Maths</th>\n",
              "      <td>5.5</td>\n",
              "    </tr>\n",
              "    <tr>\n",
              "      <th>Spanish</th>\n",
              "      <td>7.6</td>\n",
              "    </tr>\n",
              "    <tr>\n",
              "      <th>Catalan</th>\n",
              "      <td>4.3</td>\n",
              "    </tr>\n",
              "    <tr>\n",
              "      <th>Physics</th>\n",
              "      <td>8.6</td>\n",
              "    </tr>\n",
              "    <tr>\n",
              "      <th>German</th>\n",
              "      <td>6.5</td>\n",
              "    </tr>\n",
              "  </tbody>\n",
              "</table>\n",
              "</div><br><label><b>dtype:</b> float64</label>"
            ]
          },
          "metadata": {},
          "execution_count": 60
        }
      ],
      "source": [
        "grades.index = [\"Maths\",\"Spanish\",\"Catalan\",\"Physics\",\"German\"]\n",
        "grades.name = \"Grades\"\n",
        "grades"
      ]
    },
    {
      "cell_type": "markdown",
      "metadata": {
        "id": "YXSo1wE8bizn"
      },
      "source": [
        "That could be also done with"
      ]
    },
    {
      "cell_type": "raw",
      "metadata": {
        "id": "zL2c4AX7bizn"
      },
      "source": [
        "grades = pd.Series([5.5,7.6,4.3,8.6,6.5],name = \"Grades\",index = [\"Maths\",\"Spanish\",\"Catalan\",\"Physics\",\"German\"])"
      ]
    },
    {
      "cell_type": "markdown",
      "metadata": {
        "id": "1xf4a6H0bizo"
      },
      "source": [
        "It is easy to access to some values"
      ]
    },
    {
      "cell_type": "code",
      "execution_count": null,
      "metadata": {
        "colab": {
          "base_uri": "https://localhost:8080/",
          "height": 37
        },
        "id": "E-jUz1YBbizo",
        "outputId": "31973387-11d1-4c12-fa05-0cfe31073680"
      },
      "outputs": [
        {
          "output_type": "execute_result",
          "data": {
            "text/plain": [
              "8.6"
            ],
            "text/latex": "$\\displaystyle 8.6$"
          },
          "metadata": {},
          "execution_count": 61
        }
      ],
      "source": [
        "grades[\"Physics\"]"
      ]
    },
    {
      "cell_type": "code",
      "execution_count": null,
      "metadata": {
        "colab": {
          "base_uri": "https://localhost:8080/",
          "height": 178
        },
        "id": "lynAyHaZbizo",
        "outputId": "b8821e02-4b9d-4711-ef06-13f3ba85546e"
      },
      "outputs": [
        {
          "output_type": "execute_result",
          "data": {
            "text/plain": [
              "Maths      5.5\n",
              "Physics    8.6\n",
              "German     6.5\n",
              "Name: Grades, dtype: float64"
            ],
            "text/html": [
              "<div>\n",
              "<style scoped>\n",
              "    .dataframe tbody tr th:only-of-type {\n",
              "        vertical-align: middle;\n",
              "    }\n",
              "\n",
              "    .dataframe tbody tr th {\n",
              "        vertical-align: top;\n",
              "    }\n",
              "\n",
              "    .dataframe thead th {\n",
              "        text-align: right;\n",
              "    }\n",
              "</style>\n",
              "<table border=\"1\" class=\"dataframe\">\n",
              "  <thead>\n",
              "    <tr style=\"text-align: right;\">\n",
              "      <th></th>\n",
              "      <th>Grades</th>\n",
              "    </tr>\n",
              "  </thead>\n",
              "  <tbody>\n",
              "    <tr>\n",
              "      <th>Maths</th>\n",
              "      <td>5.5</td>\n",
              "    </tr>\n",
              "    <tr>\n",
              "      <th>Physics</th>\n",
              "      <td>8.6</td>\n",
              "    </tr>\n",
              "    <tr>\n",
              "      <th>German</th>\n",
              "      <td>6.5</td>\n",
              "    </tr>\n",
              "  </tbody>\n",
              "</table>\n",
              "</div><br><label><b>dtype:</b> float64</label>"
            ]
          },
          "metadata": {},
          "execution_count": 76
        }
      ],
      "source": [
        "grades[[\"Maths\",\"Physics\",\"German\"]]"
      ]
    },
    {
      "cell_type": "markdown",
      "metadata": {
        "id": "szt2M1adbizo"
      },
      "source": [
        "Some statistics:"
      ]
    },
    {
      "cell_type": "code",
      "execution_count": null,
      "metadata": {
        "colab": {
          "base_uri": "https://localhost:8080/"
        },
        "id": "5KXlBP9fbizo",
        "outputId": "99eb5050-c6ae-4a92-e854-4b74a091ff8d"
      },
      "outputs": [
        {
          "output_type": "stream",
          "name": "stdout",
          "text": [
            "Median of grades is 6.5\n",
            "Mean of grades is 6.5\n",
            "Standard deviation of grades is 1.6926310879810755\n",
            "Maximum of grades is 8.6\n",
            "Minimum of grades is 4.3\n",
            "Quartile of grades is 5.5\n"
          ]
        }
      ],
      "source": [
        "print(\"Median of grades is {0}\".format(grades.median()))\n",
        "print(\"Mean of grades is {0}\".format(grades.mean()))\n",
        "print(\"Standard deviation of grades is {0}\".format(grades.std()))\n",
        "print(\"Maximum of grades is {0}\".format(grades.max()))\n",
        "print(\"Minimum of grades is {0}\".format(grades.min()))\n",
        "print(\"Quartile of grades is {0}\".format(grades.quantile(0.25)))"
      ]
    },
    {
      "cell_type": "markdown",
      "metadata": {
        "id": "tNasDQy7bizo"
      },
      "source": [
        "Also, in brief"
      ]
    },
    {
      "cell_type": "code",
      "execution_count": null,
      "metadata": {
        "colab": {
          "base_uri": "https://localhost:8080/",
          "height": 335
        },
        "id": "CKqM_fK3bizo",
        "outputId": "c8a4cd0b-5d58-4c0f-838d-0b129bd6d0f8"
      },
      "outputs": [
        {
          "output_type": "execute_result",
          "data": {
            "text/plain": [
              "count    5.000000\n",
              "mean     6.500000\n",
              "std      1.692631\n",
              "min      4.300000\n",
              "25%      5.500000\n",
              "50%      6.500000\n",
              "75%      7.600000\n",
              "max      8.600000\n",
              "Name: Grades, dtype: float64"
            ],
            "text/html": [
              "<div>\n",
              "<style scoped>\n",
              "    .dataframe tbody tr th:only-of-type {\n",
              "        vertical-align: middle;\n",
              "    }\n",
              "\n",
              "    .dataframe tbody tr th {\n",
              "        vertical-align: top;\n",
              "    }\n",
              "\n",
              "    .dataframe thead th {\n",
              "        text-align: right;\n",
              "    }\n",
              "</style>\n",
              "<table border=\"1\" class=\"dataframe\">\n",
              "  <thead>\n",
              "    <tr style=\"text-align: right;\">\n",
              "      <th></th>\n",
              "      <th>Grades</th>\n",
              "    </tr>\n",
              "  </thead>\n",
              "  <tbody>\n",
              "    <tr>\n",
              "      <th>count</th>\n",
              "      <td>5.000000</td>\n",
              "    </tr>\n",
              "    <tr>\n",
              "      <th>mean</th>\n",
              "      <td>6.500000</td>\n",
              "    </tr>\n",
              "    <tr>\n",
              "      <th>std</th>\n",
              "      <td>1.692631</td>\n",
              "    </tr>\n",
              "    <tr>\n",
              "      <th>min</th>\n",
              "      <td>4.300000</td>\n",
              "    </tr>\n",
              "    <tr>\n",
              "      <th>25%</th>\n",
              "      <td>5.500000</td>\n",
              "    </tr>\n",
              "    <tr>\n",
              "      <th>50%</th>\n",
              "      <td>6.500000</td>\n",
              "    </tr>\n",
              "    <tr>\n",
              "      <th>75%</th>\n",
              "      <td>7.600000</td>\n",
              "    </tr>\n",
              "    <tr>\n",
              "      <th>max</th>\n",
              "      <td>8.600000</td>\n",
              "    </tr>\n",
              "  </tbody>\n",
              "</table>\n",
              "</div><br><label><b>dtype:</b> float64</label>"
            ]
          },
          "metadata": {},
          "execution_count": 78
        }
      ],
      "source": [
        "grades.describe()"
      ]
    },
    {
      "cell_type": "markdown",
      "metadata": {
        "id": "Y-qB0rnJbizp"
      },
      "source": [
        "Plot method can be used for easily plot data"
      ]
    },
    {
      "cell_type": "code",
      "execution_count": null,
      "metadata": {
        "id": "1CWUUKPFbizp"
      },
      "outputs": [],
      "source": [
        "import matplotlib.pyplot as plt"
      ]
    },
    {
      "cell_type": "code",
      "execution_count": null,
      "metadata": {
        "colab": {
          "base_uri": "https://localhost:8080/",
          "height": 488
        },
        "id": "wvcS7wv8bizp",
        "outputId": "d8465977-1de5-4d51-d088-dbec4940ff79"
      },
      "outputs": [
        {
          "output_type": "execute_result",
          "data": {
            "text/plain": [
              "<Axes: >"
            ]
          },
          "metadata": {},
          "execution_count": 80
        },
        {
          "output_type": "display_data",
          "data": {
            "text/plain": [
              "<Figure size 640x480 with 1 Axes>"
            ],
            "image/png": "[encoded data removed]"
          },
          "metadata": {}
        }
      ],
      "source": [
        "fig,axes = plt.subplots()\n",
        "grades.plot(kind='bar')"
      ]
    },
    {
      "cell_type": "markdown",
      "metadata": {
        "id": "6NKOLw9gbizp"
      },
      "source": [
        "### DataFrame\n",
        "It is like a multidimensional Series. Typically, a table"
      ]
    },
    {
      "cell_type": "code",
      "execution_count": null,
      "metadata": {
        "id": "W6EFJPDjbizp"
      },
      "outputs": [],
      "source": [
        "subjects = pd.DataFrame(grades)"
      ]
    },
    {
      "cell_type": "code",
      "execution_count": null,
      "metadata": {
        "colab": {
          "base_uri": "https://localhost:8080/"
        },
        "id": "Um-TkKzcbizp",
        "outputId": "d0af2fb9-a513-47f0-d38d-cf81975d6bd2"
      },
      "outputs": [
        {
          "output_type": "execute_result",
          "data": {
            "text/plain": [
              "Index(['Grades'], dtype='object')"
            ]
          },
          "metadata": {},
          "execution_count": 82
        }
      ],
      "source": [
        "subjects.columns"
      ]
    },
    {
      "cell_type": "code",
      "execution_count": null,
      "metadata": {
        "colab": {
          "base_uri": "https://localhost:8080/",
          "height": 206
        },
        "id": "F36DqcT5bizp",
        "outputId": "7647ba4a-c8d3-4651-c625-622d1f74e6b7"
      },
      "outputs": [
        {
          "output_type": "execute_result",
          "data": {
            "text/plain": [
              "         Grades\n",
              "Maths       5.5\n",
              "Spanish     7.6\n",
              "Catalan     4.3\n",
              "Physics     8.6\n",
              "German      6.5"
            ],
            "text/html": [
              "\n",
              "  <div id=\"df-c805d19c-1069-4365-bb66-07b1efab4f53\" class=\"colab-df-container\">\n",
              "    <div>\n",
              "<style scoped>\n",
              "    .dataframe tbody tr th:only-of-type {\n",
              "        vertical-align: middle;\n",
              "    }\n",
              "\n",
              "    .dataframe tbody tr th {\n",
              "        vertical-align: top;\n",
              "    }\n",
              "\n",
              "    .dataframe thead th {\n",
              "        text-align: right;\n",
              "    }\n",
              "</style>\n",
              "<table border=\"1\" class=\"dataframe\">\n",
              "  <thead>\n",
              "    <tr style=\"text-align: right;\">\n",
              "      <th></th>\n",
              "      <th>Grades</th>\n",
              "    </tr>\n",
              "  </thead>\n",
              "  <tbody>\n",
              "    <tr>\n",
              "      <th>Maths</th>\n",
              "      <td>5.5</td>\n",
              "    </tr>\n",
              "    <tr>\n",
              "      <th>Spanish</th>\n",
              "      <td>7.6</td>\n",
              "    </tr>\n",
              "    <tr>\n",
              "      <th>Catalan</th>\n",
              "      <td>4.3</td>\n",
              "    </tr>\n",
              "    <tr>\n",
              "      <th>Physics</th>\n",
              "      <td>8.6</td>\n",
              "    </tr>\n",
              "    <tr>\n",
              "      <th>German</th>\n",
              "      <td>6.5</td>\n",
              "    </tr>\n",
              "  </tbody>\n",
              "</table>\n",
              "</div>\n",
              "    <div class=\"colab-df-buttons\">\n",
              "\n",
              "  <div class=\"colab-df-container\">\n",
              "    <button class=\"colab-df-convert\" onclick=\"convertToInteractive('df-c805d19c-1069-4365-bb66-07b1efab4f53')\"\n",
              "            title=\"Convert this dataframe to an interactive table.\"\n",
              "            style=\"display:none;\">\n",
              "\n",
              "  <svg xmlns=\"http://www.w3.org/2000/svg\" height=\"24px\" viewBox=\"0 -960 960 960\">\n",
              "    <path d=\"M120-120v-720h720v720H120Zm60-500h600v-160H180v160Zm220 220h160v-160H400v160Zm0 220h160v-160H400v160ZM180-400h160v-160H180v160Zm440 0h160v-160H620v160ZM180-180h160v-160H180v160Zm440 0h160v-160H620v160Z\"/>\n",
              "  </svg>\n",
              "    </button>\n",
              "\n",
              "  <style>\n",
              "    .colab-df-container {\n",
              "      display:flex;\n",
              "      gap: 12px;\n",
              "    }\n",
              "\n",
              "    .colab-df-convert {\n",
              "      background-color: #E8F0FE;\n",
              "      border: none;\n",
              "      border-radius: 50%;\n",
              "      cursor: pointer;\n",
              "      display: none;\n",
              "      fill: #1967D2;\n",
              "      height: 32px;\n",
              "      padding: 0 0 0 0;\n",
              "      width: 32px;\n",
              "    }\n",
              "\n",
              "    .colab-df-convert:hover {\n",
              "      background-color: #E2EBFA;\n",
              "      box-shadow: 0px 1px 2px rgba(60, 64, 67, 0.3), 0px 1px 3px 1px rgba(60, 64, 67, 0.15);\n",
              "      fill: #174EA6;\n",
              "    }\n",
              "\n",
              "    .colab-df-buttons div {\n",
              "      margin-bottom: 4px;\n",
              "    }\n",
              "\n",
              "    [theme=dark] .colab-df-convert {\n",
              "      background-color: #3B4455;\n",
              "      fill: #D2E3FC;\n",
              "    }\n",
              "\n",
              "    [theme=dark] .colab-df-convert:hover {\n",
              "      background-color: #434B5C;\n",
              "      box-shadow: 0px 1px 3px 1px rgba(0, 0, 0, 0.15);\n",
              "      filter: drop-shadow(0px 1px 2px rgba(0, 0, 0, 0.3));\n",
              "      fill: #FFFFFF;\n",
              "    }\n",
              "  </style>\n",
              "\n",
              "    <script>\n",
              "      const buttonEl =\n",
              "        document.querySelector('#df-c805d19c-1069-4365-bb66-07b1efab4f53 button.colab-df-convert');\n",
              "      buttonEl.style.display =\n",
              "        google.colab.kernel.accessAllowed ? 'block' : 'none';\n",
              "\n",
              "      async function convertToInteractive(key) {\n",
              "        const element = document.querySelector('#df-c805d19c-1069-4365-bb66-07b1efab4f53');\n",
              "        const dataTable =\n",
              "          await google.colab.kernel.invokeFunction('convertToInteractive',\n",
              "                                                    [key], {});\n",
              "        if (!dataTable) return;\n",
              "\n",
              "        const docLinkHtml = 'Like what you see? Visit the ' +\n",
              "          '<a target=\"_blank\" href=https://colab.research.google.com/notebooks/data_table.ipynb>data table notebook</a>'\n",
              "          + ' to learn more about interactive tables.';\n",
              "        element.innerHTML = '';\n",
              "        dataTable['output_type'] = 'display_data';\n",
              "        await google.colab.output.renderOutput(dataTable, element);\n",
              "        const docLink = document.createElement('div');\n",
              "        docLink.innerHTML = docLinkHtml;\n",
              "        element.appendChild(docLink);\n",
              "      }\n",
              "    </script>\n",
              "  </div>\n",
              "\n",
              "\n",
              "<div id=\"df-45af6d11-0b99-4754-9731-72540463de81\">\n",
              "  <button class=\"colab-df-quickchart\" onclick=\"quickchart('df-45af6d11-0b99-4754-9731-72540463de81')\"\n",
              "            title=\"Suggest charts\"\n",
              "            style=\"display:none;\">\n",
              "\n",
              "<svg xmlns=\"http://www.w3.org/2000/svg\" height=\"24px\"viewBox=\"0 0 24 24\"\n",
              "     width=\"24px\">\n",
              "    <g>\n",
              "        <path d=\"M19 3H5c-1.1 0-2 .9-2 2v14c0 1.1.9 2 2 2h14c1.1 0 2-.9 2-2V5c0-1.1-.9-2-2-2zM9 17H7v-7h2v7zm4 0h-2V7h2v10zm4 0h-2v-4h2v4z\"/>\n",
              "    </g>\n",
              "</svg>\n",
              "  </button>\n",
              "\n",
              "<style>\n",
              "  .colab-df-quickchart {\n",
              "      --bg-color: #E8F0FE;\n",
              "      --fill-color: #1967D2;\n",
              "      --hover-bg-color: #E2EBFA;\n",
              "      --hover-fill-color: #174EA6;\n",
              "      --disabled-fill-color: #AAA;\n",
              "      --disabled-bg-color: #DDD;\n",
              "  }\n",
              "\n",
              "  [theme=dark] .colab-df-quickchart {\n",
              "      --bg-color: #3B4455;\n",
              "      --fill-color: #D2E3FC;\n",
              "      --hover-bg-color: #434B5C;\n",
              "      --hover-fill-color: #FFFFFF;\n",
              "      --disabled-bg-color: #3B4455;\n",
              "      --disabled-fill-color: #666;\n",
              "  }\n",
              "\n",
              "  .colab-df-quickchart {\n",
              "    background-color: var(--bg-color);\n",
              "    border: none;\n",
              "    border-radius: 50%;\n",
              "    cursor: pointer;\n",
              "    display: none;\n",
              "    fill: var(--fill-color);\n",
              "    height: 32px;\n",
              "    padding: 0;\n",
              "    width: 32px;\n",
              "  }\n",
              "\n",
              "  .colab-df-quickchart:hover {\n",
              "    background-color: var(--hover-bg-color);\n",
              "    box-shadow: 0 1px 2px rgba(60, 64, 67, 0.3), 0 1px 3px 1px rgba(60, 64, 67, 0.15);\n",
              "    fill: var(--button-hover-fill-color);\n",
              "  }\n",
              "\n",
              "  .colab-df-quickchart-complete:disabled,\n",
              "  .colab-df-quickchart-complete:disabled:hover {\n",
              "    background-color: var(--disabled-bg-color);\n",
              "    fill: var(--disabled-fill-color);\n",
              "    box-shadow: none;\n",
              "  }\n",
              "\n",
              "  .colab-df-spinner {\n",
              "    border: 2px solid var(--fill-color);\n",
              "    border-color: transparent;\n",
              "    border-bottom-color: var(--fill-color);\n",
              "    animation:\n",
              "      spin 1s steps(1) infinite;\n",
              "  }\n",
              "\n",
              "  @keyframes spin {\n",
              "    0% {\n",
              "      border-color: transparent;\n",
              "      border-bottom-color: var(--fill-color);\n",
              "      border-left-color: var(--fill-color);\n",
              "    }\n",
              "    20% {\n",
              "      border-color: transparent;\n",
              "      border-left-color: var(--fill-color);\n",
              "      border-top-color: var(--fill-color);\n",
              "    }\n",
              "    30% {\n",
              "      border-color: transparent;\n",
              "      border-left-color: var(--fill-color);\n",
              "      border-top-color: var(--fill-color);\n",
              "      border-right-color: var(--fill-color);\n",
              "    }\n",
              "    40% {\n",
              "      border-color: transparent;\n",
              "      border-right-color: var(--fill-color);\n",
              "      border-top-color: var(--fill-color);\n",
              "    }\n",
              "    60% {\n",
              "      border-color: transparent;\n",
              "      border-right-color: var(--fill-color);\n",
              "    }\n",
              "    80% {\n",
              "      border-color: transparent;\n",
              "      border-right-color: var(--fill-color);\n",
              "      border-bottom-color: var(--fill-color);\n",
              "    }\n",
              "    90% {\n",
              "      border-color: transparent;\n",
              "      border-bottom-color: var(--fill-color);\n",
              "    }\n",
              "  }\n",
              "</style>\n",
              "\n",
              "  <script>\n",
              "    async function quickchart(key) {\n",
              "      const quickchartButtonEl =\n",
              "        document.querySelector('#' + key + ' button');\n",
              "      quickchartButtonEl.disabled = true;  // To prevent multiple clicks.\n",
              "      quickchartButtonEl.classList.add('colab-df-spinner');\n",
              "      try {\n",
              "        const charts = await google.colab.kernel.invokeFunction(\n",
              "            'suggestCharts', [key], {});\n",
              "      } catch (error) {\n",
              "        console.error('Error during call to suggestCharts:', error);\n",
              "      }\n",
              "      quickchartButtonEl.classList.remove('colab-df-spinner');\n",
              "      quickchartButtonEl.classList.add('colab-df-quickchart-complete');\n",
              "    }\n",
              "    (() => {\n",
              "      let quickchartButtonEl =\n",
              "        document.querySelector('#df-45af6d11-0b99-4754-9731-72540463de81 button');\n",
              "      quickchartButtonEl.style.display =\n",
              "        google.colab.kernel.accessAllowed ? 'block' : 'none';\n",
              "    })();\n",
              "  </script>\n",
              "</div>\n",
              "\n",
              "  <div id=\"id_4652c86e-6bb2-4e6c-8dbc-4de36233df2d\">\n",
              "    <style>\n",
              "      .colab-df-generate {\n",
              "        background-color: #E8F0FE;\n",
              "        border: none;\n",
              "        border-radius: 50%;\n",
              "        cursor: pointer;\n",
              "        display: none;\n",
              "        fill: #1967D2;\n",
              "        height: 32px;\n",
              "        padding: 0 0 0 0;\n",
              "        width: 32px;\n",
              "      }\n",
              "\n",
              "      .colab-df-generate:hover {\n",
              "        background-color: #E2EBFA;\n",
              "        box-shadow: 0px 1px 2px rgba(60, 64, 67, 0.3), 0px 1px 3px 1px rgba(60, 64, 67, 0.15);\n",
              "        fill: #174EA6;\n",
              "      }\n",
              "\n",
              "      [theme=dark] .colab-df-generate {\n",
              "        background-color: #3B4455;\n",
              "        fill: #D2E3FC;\n",
              "      }\n",
              "\n",
              "      [theme=dark] .colab-df-generate:hover {\n",
              "        background-color: #434B5C;\n",
              "        box-shadow: 0px 1px 3px 1px rgba(0, 0, 0, 0.15);\n",
              "        filter: drop-shadow(0px 1px 2px rgba(0, 0, 0, 0.3));\n",
              "        fill: #FFFFFF;\n",
              "      }\n",
              "    </style>\n",
              "    <button class=\"colab-df-generate\" onclick=\"generateWithVariable('subjects')\"\n",
              "            title=\"Generate code using this dataframe.\"\n",
              "            style=\"display:none;\">\n",
              "\n",
              "  <svg xmlns=\"http://www.w3.org/2000/svg\" height=\"24px\"viewBox=\"0 0 24 24\"\n",
              "       width=\"24px\">\n",
              "    <path d=\"M7,19H8.4L18.45,9,17,7.55,7,17.6ZM5,21V16.75L18.45,3.32a2,2,0,0,1,2.83,0l1.4,1.43a1.91,1.91,0,0,1,.58,1.4,1.91,1.91,0,0,1-.58,1.4L9.25,21ZM18.45,9,17,7.55Zm-12,3A5.31,5.31,0,0,0,4.9,8.1,5.31,5.31,0,0,0,1,6.5,5.31,5.31,0,0,0,4.9,4.9,5.31,5.31,0,0,0,6.5,1,5.31,5.31,0,0,0,8.1,4.9,5.31,5.31,0,0,0,12,6.5,5.46,5.46,0,0,0,6.5,12Z\"/>\n",
              "  </svg>\n",
              "    </button>\n",
              "    <script>\n",
              "      (() => {\n",
              "      const buttonEl =\n",
              "        document.querySelector('#id_4652c86e-6bb2-4e6c-8dbc-4de36233df2d button.colab-df-generate');\n",
              "      buttonEl.style.display =\n",
              "        google.colab.kernel.accessAllowed ? 'block' : 'none';\n",
              "\n",
              "      buttonEl.onclick = () => {\n",
              "        google.colab.notebook.generateWithVariable('subjects');\n",
              "      }\n",
              "      })();\n",
              "    </script>\n",
              "  </div>\n",
              "\n",
              "    </div>\n",
              "  </div>\n"
            ],
            "application/vnd.google.colaboratory.intrinsic+json": {
              "type": "dataframe",
              "variable_name": "subjects",
              "summary": "{\n  \"name\": \"subjects\",\n  \"rows\": 5,\n  \"fields\": [\n    {\n      \"column\": \"Grades\",\n      \"properties\": {\n        \"dtype\": \"number\",\n        \"std\": 1.6926310879810755,\n        \"min\": 4.3,\n        \"max\": 8.6,\n        \"num_unique_values\": 5,\n        \"samples\": [\n          7.6,\n          6.5,\n          4.3\n        ],\n        \"semantic_type\": \"\",\n        \"description\": \"\"\n      }\n    }\n  ]\n}"
            }
          },
          "metadata": {},
          "execution_count": 83
        }
      ],
      "source": [
        "subjects"
      ]
    },
    {
      "cell_type": "code",
      "execution_count": null,
      "metadata": {
        "id": "UXPorUu-bizp"
      },
      "outputs": [],
      "source": [
        "teachers = pd.Series([\"Dave\",\"Ana\",\"John\",\"Grace\",\"Mike\"],name=\"Teacher\",index = [\"Maths\",\"Spanish\",\"Catalan\",\"Physics\",\"German\"])"
      ]
    },
    {
      "cell_type": "code",
      "execution_count": null,
      "metadata": {
        "id": "B-cCWy-nbizq"
      },
      "outputs": [],
      "source": [
        "subjects = subjects.join(teachers)"
      ]
    },
    {
      "cell_type": "code",
      "execution_count": null,
      "metadata": {
        "colab": {
          "base_uri": "https://localhost:8080/",
          "height": 206
        },
        "id": "O8qm2Nu3bizq",
        "outputId": "fcd9a5d0-97f5-4898-a4e4-c8b710e6662b"
      },
      "outputs": [
        {
          "output_type": "execute_result",
          "data": {
            "text/plain": [
              "         Grades Teacher\n",
              "Maths       5.5    Dave\n",
              "Spanish     7.6     Ana\n",
              "Catalan     4.3    John\n",
              "Physics     8.6   Grace\n",
              "German      6.5    Mike"
            ],
            "text/html": [
              "\n",
              "  <div id=\"df-0c5797a4-6bdf-4699-893b-aff64c54db2f\" class=\"colab-df-container\">\n",
              "    <div>\n",
              "<style scoped>\n",
              "    .dataframe tbody tr th:only-of-type {\n",
              "        vertical-align: middle;\n",
              "    }\n",
              "\n",
              "    .dataframe tbody tr th {\n",
              "        vertical-align: top;\n",
              "    }\n",
              "\n",
              "    .dataframe thead th {\n",
              "        text-align: right;\n",
              "    }\n",
              "</style>\n",
              "<table border=\"1\" class=\"dataframe\">\n",
              "  <thead>\n",
              "    <tr style=\"text-align: right;\">\n",
              "      <th></th>\n",
              "      <th>Grades</th>\n",
              "      <th>Teacher</th>\n",
              "    </tr>\n",
              "  </thead>\n",
              "  <tbody>\n",
              "    <tr>\n",
              "      <th>Maths</th>\n",
              "      <td>5.5</td>\n",
              "      <td>Dave</td>\n",
              "    </tr>\n",
              "    <tr>\n",
              "      <th>Spanish</th>\n",
              "      <td>7.6</td>\n",
              "      <td>Ana</td>\n",
              "    </tr>\n",
              "    <tr>\n",
              "      <th>Catalan</th>\n",
              "      <td>4.3</td>\n",
              "      <td>John</td>\n",
              "    </tr>\n",
              "    <tr>\n",
              "      <th>Physics</th>\n",
              "      <td>8.6</td>\n",
              "      <td>Grace</td>\n",
              "    </tr>\n",
              "    <tr>\n",
              "      <th>German</th>\n",
              "      <td>6.5</td>\n",
              "      <td>Mike</td>\n",
              "    </tr>\n",
              "  </tbody>\n",
              "</table>\n",
              "</div>\n",
              "    <div class=\"colab-df-buttons\">\n",
              "\n",
              "  <div class=\"colab-df-container\">\n",
              "    <button class=\"colab-df-convert\" onclick=\"convertToInteractive('df-0c5797a4-6bdf-4699-893b-aff64c54db2f')\"\n",
              "            title=\"Convert this dataframe to an interactive table.\"\n",
              "            style=\"display:none;\">\n",
              "\n",
              "  <svg xmlns=\"http://www.w3.org/2000/svg\" height=\"24px\" viewBox=\"0 -960 960 960\">\n",
              "    <path d=\"M120-120v-720h720v720H120Zm60-500h600v-160H180v160Zm220 220h160v-160H400v160Zm0 220h160v-160H400v160ZM180-400h160v-160H180v160Zm440 0h160v-160H620v160ZM180-180h160v-160H180v160Zm440 0h160v-160H620v160Z\"/>\n",
              "  </svg>\n",
              "    </button>\n",
              "\n",
              "  <style>\n",
              "    .colab-df-container {\n",
              "      display:flex;\n",
              "      gap: 12px;\n",
              "    }\n",
              "\n",
              "    .colab-df-convert {\n",
              "      background-color: #E8F0FE;\n",
              "      border: none;\n",
              "      border-radius: 50%;\n",
              "      cursor: pointer;\n",
              "      display: none;\n",
              "      fill: #1967D2;\n",
              "      height: 32px;\n",
              "      padding: 0 0 0 0;\n",
              "      width: 32px;\n",
              "    }\n",
              "\n",
              "    .colab-df-convert:hover {\n",
              "      background-color: #E2EBFA;\n",
              "      box-shadow: 0px 1px 2px rgba(60, 64, 67, 0.3), 0px 1px 3px 1px rgba(60, 64, 67, 0.15);\n",
              "      fill: #174EA6;\n",
              "    }\n",
              "\n",
              "    .colab-df-buttons div {\n",
              "      margin-bottom: 4px;\n",
              "    }\n",
              "\n",
              "    [theme=dark] .colab-df-convert {\n",
              "      background-color: #3B4455;\n",
              "      fill: #D2E3FC;\n",
              "    }\n",
              "\n",
              "    [theme=dark] .colab-df-convert:hover {\n",
              "      background-color: #434B5C;\n",
              "      box-shadow: 0px 1px 3px 1px rgba(0, 0, 0, 0.15);\n",
              "      filter: drop-shadow(0px 1px 2px rgba(0, 0, 0, 0.3));\n",
              "      fill: #FFFFFF;\n",
              "    }\n",
              "  </style>\n",
              "\n",
              "    <script>\n",
              "      const buttonEl =\n",
              "        document.querySelector('#df-0c5797a4-6bdf-4699-893b-aff64c54db2f button.colab-df-convert');\n",
              "      buttonEl.style.display =\n",
              "        google.colab.kernel.accessAllowed ? 'block' : 'none';\n",
              "\n",
              "      async function convertToInteractive(key) {\n",
              "        const element = document.querySelector('#df-0c5797a4-6bdf-4699-893b-aff64c54db2f');\n",
              "        const dataTable =\n",
              "          await google.colab.kernel.invokeFunction('convertToInteractive',\n",
              "                                                    [key], {});\n",
              "        if (!dataTable) return;\n",
              "\n",
              "        const docLinkHtml = 'Like what you see? Visit the ' +\n",
              "          '<a target=\"_blank\" href=https://colab.research.google.com/notebooks/data_table.ipynb>data table notebook</a>'\n",
              "          + ' to learn more about interactive tables.';\n",
              "        element.innerHTML = '';\n",
              "        dataTable['output_type'] = 'display_data';\n",
              "        await google.colab.output.renderOutput(dataTable, element);\n",
              "        const docLink = document.createElement('div');\n",
              "        docLink.innerHTML = docLinkHtml;\n",
              "        element.appendChild(docLink);\n",
              "      }\n",
              "    </script>\n",
              "  </div>\n",
              "\n",
              "\n",
              "<div id=\"df-0d0fa280-f2b6-45f9-965c-3bc9e0d20533\">\n",
              "  <button class=\"colab-df-quickchart\" onclick=\"quickchart('df-0d0fa280-f2b6-45f9-965c-3bc9e0d20533')\"\n",
              "            title=\"Suggest charts\"\n",
              "            style=\"display:none;\">\n",
              "\n",
              "<svg xmlns=\"http://www.w3.org/2000/svg\" height=\"24px\"viewBox=\"0 0 24 24\"\n",
              "     width=\"24px\">\n",
              "    <g>\n",
              "        <path d=\"M19 3H5c-1.1 0-2 .9-2 2v14c0 1.1.9 2 2 2h14c1.1 0 2-.9 2-2V5c0-1.1-.9-2-2-2zM9 17H7v-7h2v7zm4 0h-2V7h2v10zm4 0h-2v-4h2v4z\"/>\n",
              "    </g>\n",
              "</svg>\n",
              "  </button>\n",
              "\n",
              "<style>\n",
              "  .colab-df-quickchart {\n",
              "      --bg-color: #E8F0FE;\n",
              "      --fill-color: #1967D2;\n",
              "      --hover-bg-color: #E2EBFA;\n",
              "      --hover-fill-color: #174EA6;\n",
              "      --disabled-fill-color: #AAA;\n",
              "      --disabled-bg-color: #DDD;\n",
              "  }\n",
              "\n",
              "  [theme=dark] .colab-df-quickchart {\n",
              "      --bg-color: #3B4455;\n",
              "      --fill-color: #D2E3FC;\n",
              "      --hover-bg-color: #434B5C;\n",
              "      --hover-fill-color: #FFFFFF;\n",
              "      --disabled-bg-color: #3B4455;\n",
              "      --disabled-fill-color: #666;\n",
              "  }\n",
              "\n",
              "  .colab-df-quickchart {\n",
              "    background-color: var(--bg-color);\n",
              "    border: none;\n",
              "    border-radius: 50%;\n",
              "    cursor: pointer;\n",
              "    display: none;\n",
              "    fill: var(--fill-color);\n",
              "    height: 32px;\n",
              "    padding: 0;\n",
              "    width: 32px;\n",
              "  }\n",
              "\n",
              "  .colab-df-quickchart:hover {\n",
              "    background-color: var(--hover-bg-color);\n",
              "    box-shadow: 0 1px 2px rgba(60, 64, 67, 0.3), 0 1px 3px 1px rgba(60, 64, 67, 0.15);\n",
              "    fill: var(--button-hover-fill-color);\n",
              "  }\n",
              "\n",
              "  .colab-df-quickchart-complete:disabled,\n",
              "  .colab-df-quickchart-complete:disabled:hover {\n",
              "    background-color: var(--disabled-bg-color);\n",
              "    fill: var(--disabled-fill-color);\n",
              "    box-shadow: none;\n",
              "  }\n",
              "\n",
              "  .colab-df-spinner {\n",
              "    border: 2px solid var(--fill-color);\n",
              "    border-color: transparent;\n",
              "    border-bottom-color: var(--fill-color);\n",
              "    animation:\n",
              "      spin 1s steps(1) infinite;\n",
              "  }\n",
              "\n",
              "  @keyframes spin {\n",
              "    0% {\n",
              "      border-color: transparent;\n",
              "      border-bottom-color: var(--fill-color);\n",
              "      border-left-color: var(--fill-color);\n",
              "    }\n",
              "    20% {\n",
              "      border-color: transparent;\n",
              "      border-left-color: var(--fill-color);\n",
              "      border-top-color: var(--fill-color);\n",
              "    }\n",
              "    30% {\n",
              "      border-color: transparent;\n",
              "      border-left-color: var(--fill-color);\n",
              "      border-top-color: var(--fill-color);\n",
              "      border-right-color: var(--fill-color);\n",
              "    }\n",
              "    40% {\n",
              "      border-color: transparent;\n",
              "      border-right-color: var(--fill-color);\n",
              "      border-top-color: var(--fill-color);\n",
              "    }\n",
              "    60% {\n",
              "      border-color: transparent;\n",
              "      border-right-color: var(--fill-color);\n",
              "    }\n",
              "    80% {\n",
              "      border-color: transparent;\n",
              "      border-right-color: var(--fill-color);\n",
              "      border-bottom-color: var(--fill-color);\n",
              "    }\n",
              "    90% {\n",
              "      border-color: transparent;\n",
              "      border-bottom-color: var(--fill-color);\n",
              "    }\n",
              "  }\n",
              "</style>\n",
              "\n",
              "  <script>\n",
              "    async function quickchart(key) {\n",
              "      const quickchartButtonEl =\n",
              "        document.querySelector('#' + key + ' button');\n",
              "      quickchartButtonEl.disabled = true;  // To prevent multiple clicks.\n",
              "      quickchartButtonEl.classList.add('colab-df-spinner');\n",
              "      try {\n",
              "        const charts = await google.colab.kernel.invokeFunction(\n",
              "            'suggestCharts', [key], {});\n",
              "      } catch (error) {\n",
              "        console.error('Error during call to suggestCharts:', error);\n",
              "      }\n",
              "      quickchartButtonEl.classList.remove('colab-df-spinner');\n",
              "      quickchartButtonEl.classList.add('colab-df-quickchart-complete');\n",
              "    }\n",
              "    (() => {\n",
              "      let quickchartButtonEl =\n",
              "        document.querySelector('#df-0d0fa280-f2b6-45f9-965c-3bc9e0d20533 button');\n",
              "      quickchartButtonEl.style.display =\n",
              "        google.colab.kernel.accessAllowed ? 'block' : 'none';\n",
              "    })();\n",
              "  </script>\n",
              "</div>\n",
              "\n",
              "  <div id=\"id_90ba35e3-d173-476a-8dfe-ae60ff966f76\">\n",
              "    <style>\n",
              "      .colab-df-generate {\n",
              "        background-color: #E8F0FE;\n",
              "        border: none;\n",
              "        border-radius: 50%;\n",
              "        cursor: pointer;\n",
              "        display: none;\n",
              "        fill: #1967D2;\n",
              "        height: 32px;\n",
              "        padding: 0 0 0 0;\n",
              "        width: 32px;\n",
              "      }\n",
              "\n",
              "      .colab-df-generate:hover {\n",
              "        background-color: #E2EBFA;\n",
              "        box-shadow: 0px 1px 2px rgba(60, 64, 67, 0.3), 0px 1px 3px 1px rgba(60, 64, 67, 0.15);\n",
              "        fill: #174EA6;\n",
              "      }\n",
              "\n",
              "      [theme=dark] .colab-df-generate {\n",
              "        background-color: #3B4455;\n",
              "        fill: #D2E3FC;\n",
              "      }\n",
              "\n",
              "      [theme=dark] .colab-df-generate:hover {\n",
              "        background-color: #434B5C;\n",
              "        box-shadow: 0px 1px 3px 1px rgba(0, 0, 0, 0.15);\n",
              "        filter: drop-shadow(0px 1px 2px rgba(0, 0, 0, 0.3));\n",
              "        fill: #FFFFFF;\n",
              "      }\n",
              "    </style>\n",
              "    <button class=\"colab-df-generate\" onclick=\"generateWithVariable('subjects')\"\n",
              "            title=\"Generate code using this dataframe.\"\n",
              "            style=\"display:none;\">\n",
              "\n",
              "  <svg xmlns=\"http://www.w3.org/2000/svg\" height=\"24px\"viewBox=\"0 0 24 24\"\n",
              "       width=\"24px\">\n",
              "    <path d=\"M7,19H8.4L18.45,9,17,7.55,7,17.6ZM5,21V16.75L18.45,3.32a2,2,0,0,1,2.83,0l1.4,1.43a1.91,1.91,0,0,1,.58,1.4,1.91,1.91,0,0,1-.58,1.4L9.25,21ZM18.45,9,17,7.55Zm-12,3A5.31,5.31,0,0,0,4.9,8.1,5.31,5.31,0,0,0,1,6.5,5.31,5.31,0,0,0,4.9,4.9,5.31,5.31,0,0,0,6.5,1,5.31,5.31,0,0,0,8.1,4.9,5.31,5.31,0,0,0,12,6.5,5.46,5.46,0,0,0,6.5,12Z\"/>\n",
              "  </svg>\n",
              "    </button>\n",
              "    <script>\n",
              "      (() => {\n",
              "      const buttonEl =\n",
              "        document.querySelector('#id_90ba35e3-d173-476a-8dfe-ae60ff966f76 button.colab-df-generate');\n",
              "      buttonEl.style.display =\n",
              "        google.colab.kernel.accessAllowed ? 'block' : 'none';\n",
              "\n",
              "      buttonEl.onclick = () => {\n",
              "        google.colab.notebook.generateWithVariable('subjects');\n",
              "      }\n",
              "      })();\n",
              "    </script>\n",
              "  </div>\n",
              "\n",
              "    </div>\n",
              "  </div>\n"
            ],
            "application/vnd.google.colaboratory.intrinsic+json": {
              "type": "dataframe",
              "variable_name": "subjects",
              "summary": "{\n  \"name\": \"subjects\",\n  \"rows\": 5,\n  \"fields\": [\n    {\n      \"column\": \"Grades\",\n      \"properties\": {\n        \"dtype\": \"number\",\n        \"std\": 1.6926310879810755,\n        \"min\": 4.3,\n        \"max\": 8.6,\n        \"num_unique_values\": 5,\n        \"samples\": [\n          7.6,\n          6.5,\n          4.3\n        ],\n        \"semantic_type\": \"\",\n        \"description\": \"\"\n      }\n    },\n    {\n      \"column\": \"Teacher\",\n      \"properties\": {\n        \"dtype\": \"string\",\n        \"num_unique_values\": 5,\n        \"samples\": [\n          \"Ana\",\n          \"Mike\",\n          \"John\"\n        ],\n        \"semantic_type\": \"\",\n        \"description\": \"\"\n      }\n    }\n  ]\n}"
            }
          },
          "metadata": {},
          "execution_count": 86
        }
      ],
      "source": [
        "subjects"
      ]
    },
    {
      "cell_type": "code",
      "execution_count": null,
      "metadata": {
        "colab": {
          "base_uri": "https://localhost:8080/",
          "height": 37
        },
        "id": "AGxt-_p2bizq",
        "outputId": "58bdacb2-8431-4749-a42d-fc5880b75030"
      },
      "outputs": [
        {
          "output_type": "execute_result",
          "data": {
            "text/plain": [
              "6.5"
            ],
            "text/latex": "$\\displaystyle 6.5$"
          },
          "metadata": {},
          "execution_count": 87
        }
      ],
      "source": [
        "subjects.Grades.mean()"
      ]
    },
    {
      "cell_type": "code",
      "execution_count": null,
      "metadata": {
        "colab": {
          "base_uri": "https://localhost:8080/",
          "height": 147
        },
        "id": "hbNRpmbDbizq",
        "outputId": "6ad10cec-f1df-4ca3-bdd0-868e0517a4d7"
      },
      "outputs": [
        {
          "output_type": "execute_result",
          "data": {
            "text/plain": [
              "Grades      5.5\n",
              "Teacher    Dave\n",
              "Name: Maths, dtype: object"
            ],
            "text/html": [
              "<div>\n",
              "<style scoped>\n",
              "    .dataframe tbody tr th:only-of-type {\n",
              "        vertical-align: middle;\n",
              "    }\n",
              "\n",
              "    .dataframe tbody tr th {\n",
              "        vertical-align: top;\n",
              "    }\n",
              "\n",
              "    .dataframe thead th {\n",
              "        text-align: right;\n",
              "    }\n",
              "</style>\n",
              "<table border=\"1\" class=\"dataframe\">\n",
              "  <thead>\n",
              "    <tr style=\"text-align: right;\">\n",
              "      <th></th>\n",
              "      <th>Maths</th>\n",
              "    </tr>\n",
              "  </thead>\n",
              "  <tbody>\n",
              "    <tr>\n",
              "      <th>Grades</th>\n",
              "      <td>5.5</td>\n",
              "    </tr>\n",
              "    <tr>\n",
              "      <th>Teacher</th>\n",
              "      <td>Dave</td>\n",
              "    </tr>\n",
              "  </tbody>\n",
              "</table>\n",
              "</div><br><label><b>dtype:</b> object</label>"
            ]
          },
          "metadata": {},
          "execution_count": 88
        }
      ],
      "source": [
        "subjects.loc[\"Maths\"]"
      ]
    },
    {
      "cell_type": "code",
      "execution_count": null,
      "metadata": {
        "colab": {
          "base_uri": "https://localhost:8080/",
          "height": 241
        },
        "id": "LgeXLQJsbizq",
        "outputId": "87f259c1-0e2b-40c5-d736-b0c354caec3e"
      },
      "outputs": [
        {
          "output_type": "execute_result",
          "data": {
            "text/plain": [
              "Maths       Dave\n",
              "Spanish      Ana\n",
              "Catalan     John\n",
              "Physics    Grace\n",
              "German      Mike\n",
              "Name: Teacher, dtype: object"
            ],
            "text/html": [
              "<div>\n",
              "<style scoped>\n",
              "    .dataframe tbody tr th:only-of-type {\n",
              "        vertical-align: middle;\n",
              "    }\n",
              "\n",
              "    .dataframe tbody tr th {\n",
              "        vertical-align: top;\n",
              "    }\n",
              "\n",
              "    .dataframe thead th {\n",
              "        text-align: right;\n",
              "    }\n",
              "</style>\n",
              "<table border=\"1\" class=\"dataframe\">\n",
              "  <thead>\n",
              "    <tr style=\"text-align: right;\">\n",
              "      <th></th>\n",
              "      <th>Teacher</th>\n",
              "    </tr>\n",
              "  </thead>\n",
              "  <tbody>\n",
              "    <tr>\n",
              "      <th>Maths</th>\n",
              "      <td>Dave</td>\n",
              "    </tr>\n",
              "    <tr>\n",
              "      <th>Spanish</th>\n",
              "      <td>Ana</td>\n",
              "    </tr>\n",
              "    <tr>\n",
              "      <th>Catalan</th>\n",
              "      <td>John</td>\n",
              "    </tr>\n",
              "    <tr>\n",
              "      <th>Physics</th>\n",
              "      <td>Grace</td>\n",
              "    </tr>\n",
              "    <tr>\n",
              "      <th>German</th>\n",
              "      <td>Mike</td>\n",
              "    </tr>\n",
              "  </tbody>\n",
              "</table>\n",
              "</div><br><label><b>dtype:</b> object</label>"
            ]
          },
          "metadata": {},
          "execution_count": 89
        }
      ],
      "source": [
        "subjects.Teacher"
      ]
    },
    {
      "cell_type": "markdown",
      "metadata": {
        "id": "qe7VlRDSbizq"
      },
      "source": [
        "## 4. Data fitting"
      ]
    },
    {
      "cell_type": "markdown",
      "metadata": {
        "id": "6vtNubrMbizr"
      },
      "source": [
        "### Linear regression"
      ]
    },
    {
      "cell_type": "markdown",
      "metadata": {
        "id": "QZzBOjEnbizr"
      },
      "source": [
        "Some times we need to fit experimental data in order to create a model (a math expression). There are two main python modules to make it: [statsmodels](https://www.statsmodels.org/stable/index.html) and [patsy](https://patsy.readthedocs.io/en/latest/). Actually, statsmodel calls internally to patsy, and it is usually not necessary to explicitely import it, but we are doing it for the sake of clarity"
      ]
    },
    {
      "cell_type": "code",
      "execution_count": null,
      "metadata": {
        "id": "cUZxwbSRbizr"
      },
      "outputs": [],
      "source": [
        "#This command resets the python kernel, and remove all modules, variables and data\n",
        "%reset -f"
      ]
    },
    {
      "cell_type": "markdown",
      "metadata": {
        "id": "h79Ob9tmbizr"
      },
      "source": [
        ":::{note}\n",
        "If not done, you have to install the `statsmodels` module with\n",
        "\n",
        "> pip install statsmodel\n",
        "\n",
        ":::"
      ]
    },
    {
      "cell_type": "code",
      "execution_count": null,
      "metadata": {
        "id": "D4xVY7F7bizr"
      },
      "outputs": [],
      "source": [
        "try:\n",
        "    import statsmodels.api as sm\n",
        "except:\n",
        "    !pip install statsmodel\n",
        "import statsmodels.formula.api as smf\n",
        "import statsmodels.graphics.api as smg\n",
        "import patsy\n",
        "import matplotlib.pyplot as plt\n",
        "import numpy as np\n",
        "import pandas as pd"
      ]
    },
    {
      "cell_type": "markdown",
      "metadata": {
        "id": "CQONvloSbizs"
      },
      "source": [
        "Let's consider the next image, taken from [Wikipedia-Scatter Plot](https://en.wikipedia.org/wiki/Scatter_plot)\n",
        "\n",
        "<!--- <img src=\"https://github.com/rclUPC/AdvancedFluidMechanics/blob/main/0-Intro/Scatter_plot.png?raw=1\" width=\"400\"> --->\n",
        "\n",
        "![Scatter_plot.png](https://github.com/rclUPC/AdvancedFluidMechanics/blob/main/0-Intro/Scatter_plot.png?raw=1)\n",
        "\n",
        "The first step is to get the data. It is done with a plot digitizer. There are several tools to do that: [3gdata](https://github.com/pn2200/g3data) for linux, the Java app [Plot Digitizer](http://plotdigitizer.sourceforge.net/) or the online app [Web Plot Digitizer, version 4](https://apps.automeris.io/wpd4/). I recommend this last one (there is now a version 5, but I have still to check it...). With this app we can generate a CSV file, that I have called \"Scatter_data.csv\".\n",
        "\n",
        "The second step is to load this data file into a pandas DataFrame"
      ]
    },
    {
      "cell_type": "code",
      "execution_count": null,
      "metadata": {
        "colab": {
          "base_uri": "https://localhost:8080/",
          "height": 206
        },
        "id": "SNx1h-x3bizs",
        "outputId": "f159da97-f4f1-4e4b-c131-baee7daa237b"
      },
      "outputs": [
        {
          "output_type": "execute_result",
          "data": {
            "text/plain": [
              "       x        y\n",
              "0  0.011  103.186\n",
              "1  0.344  101.689\n",
              "2  0.678  102.855\n",
              "3  1.011  101.286\n",
              "4  1.344  100.897"
            ],
            "text/html": [
              "\n",
              "  <div id=\"df-39895efb-8ef5-410e-8f6f-a183af776627\" class=\"colab-df-container\">\n",
              "    <div>\n",
              "<style scoped>\n",
              "    .dataframe tbody tr th:only-of-type {\n",
              "        vertical-align: middle;\n",
              "    }\n",
              "\n",
              "    .dataframe tbody tr th {\n",
              "        vertical-align: top;\n",
              "    }\n",
              "\n",
              "    .dataframe thead th {\n",
              "        text-align: right;\n",
              "    }\n",
              "</style>\n",
              "<table border=\"1\" class=\"dataframe\">\n",
              "  <thead>\n",
              "    <tr style=\"text-align: right;\">\n",
              "      <th></th>\n",
              "      <th>x</th>\n",
              "      <th>y</th>\n",
              "    </tr>\n",
              "  </thead>\n",
              "  <tbody>\n",
              "    <tr>\n",
              "      <th>0</th>\n",
              "      <td>0.011</td>\n",
              "      <td>103.186</td>\n",
              "    </tr>\n",
              "    <tr>\n",
              "      <th>1</th>\n",
              "      <td>0.344</td>\n",
              "      <td>101.689</td>\n",
              "    </tr>\n",
              "    <tr>\n",
              "      <th>2</th>\n",
              "      <td>0.678</td>\n",
              "      <td>102.855</td>\n",
              "    </tr>\n",
              "    <tr>\n",
              "      <th>3</th>\n",
              "      <td>1.011</td>\n",
              "      <td>101.286</td>\n",
              "    </tr>\n",
              "    <tr>\n",
              "      <th>4</th>\n",
              "      <td>1.344</td>\n",
              "      <td>100.897</td>\n",
              "    </tr>\n",
              "  </tbody>\n",
              "</table>\n",
              "</div>\n",
              "    <div class=\"colab-df-buttons\">\n",
              "\n",
              "  <div class=\"colab-df-container\">\n",
              "    <button class=\"colab-df-convert\" onclick=\"convertToInteractive('df-39895efb-8ef5-410e-8f6f-a183af776627')\"\n",
              "            title=\"Convert this dataframe to an interactive table.\"\n",
              "            style=\"display:none;\">\n",
              "\n",
              "  <svg xmlns=\"http://www.w3.org/2000/svg\" height=\"24px\" viewBox=\"0 -960 960 960\">\n",
              "    <path d=\"M120-120v-720h720v720H120Zm60-500h600v-160H180v160Zm220 220h160v-160H400v160Zm0 220h160v-160H400v160ZM180-400h160v-160H180v160Zm440 0h160v-160H620v160ZM180-180h160v-160H180v160Zm440 0h160v-160H620v160Z\"/>\n",
              "  </svg>\n",
              "    </button>\n",
              "\n",
              "  <style>\n",
              "    .colab-df-container {\n",
              "      display:flex;\n",
              "      gap: 12px;\n",
              "    }\n",
              "\n",
              "    .colab-df-convert {\n",
              "      background-color: #E8F0FE;\n",
              "      border: none;\n",
              "      border-radius: 50%;\n",
              "      cursor: pointer;\n",
              "      display: none;\n",
              "      fill: #1967D2;\n",
              "      height: 32px;\n",
              "      padding: 0 0 0 0;\n",
              "      width: 32px;\n",
              "    }\n",
              "\n",
              "    .colab-df-convert:hover {\n",
              "      background-color: #E2EBFA;\n",
              "      box-shadow: 0px 1px 2px rgba(60, 64, 67, 0.3), 0px 1px 3px 1px rgba(60, 64, 67, 0.15);\n",
              "      fill: #174EA6;\n",
              "    }\n",
              "\n",
              "    .colab-df-buttons div {\n",
              "      margin-bottom: 4px;\n",
              "    }\n",
              "\n",
              "    [theme=dark] .colab-df-convert {\n",
              "      background-color: #3B4455;\n",
              "      fill: #D2E3FC;\n",
              "    }\n",
              "\n",
              "    [theme=dark] .colab-df-convert:hover {\n",
              "      background-color: #434B5C;\n",
              "      box-shadow: 0px 1px 3px 1px rgba(0, 0, 0, 0.15);\n",
              "      filter: drop-shadow(0px 1px 2px rgba(0, 0, 0, 0.3));\n",
              "      fill: #FFFFFF;\n",
              "    }\n",
              "  </style>\n",
              "\n",
              "    <script>\n",
              "      const buttonEl =\n",
              "        document.querySelector('#df-39895efb-8ef5-410e-8f6f-a183af776627 button.colab-df-convert');\n",
              "      buttonEl.style.display =\n",
              "        google.colab.kernel.accessAllowed ? 'block' : 'none';\n",
              "\n",
              "      async function convertToInteractive(key) {\n",
              "        const element = document.querySelector('#df-39895efb-8ef5-410e-8f6f-a183af776627');\n",
              "        const dataTable =\n",
              "          await google.colab.kernel.invokeFunction('convertToInteractive',\n",
              "                                                    [key], {});\n",
              "        if (!dataTable) return;\n",
              "\n",
              "        const docLinkHtml = 'Like what you see? Visit the ' +\n",
              "          '<a target=\"_blank\" href=https://colab.research.google.com/notebooks/data_table.ipynb>data table notebook</a>'\n",
              "          + ' to learn more about interactive tables.';\n",
              "        element.innerHTML = '';\n",
              "        dataTable['output_type'] = 'display_data';\n",
              "        await google.colab.output.renderOutput(dataTable, element);\n",
              "        const docLink = document.createElement('div');\n",
              "        docLink.innerHTML = docLinkHtml;\n",
              "        element.appendChild(docLink);\n",
              "      }\n",
              "    </script>\n",
              "  </div>\n",
              "\n",
              "\n",
              "<div id=\"df-85a85a38-59ea-4b95-9b32-e797e42a770f\">\n",
              "  <button class=\"colab-df-quickchart\" onclick=\"quickchart('df-85a85a38-59ea-4b95-9b32-e797e42a770f')\"\n",
              "            title=\"Suggest charts\"\n",
              "            style=\"display:none;\">\n",
              "\n",
              "<svg xmlns=\"http://www.w3.org/2000/svg\" height=\"24px\"viewBox=\"0 0 24 24\"\n",
              "     width=\"24px\">\n",
              "    <g>\n",
              "        <path d=\"M19 3H5c-1.1 0-2 .9-2 2v14c0 1.1.9 2 2 2h14c1.1 0 2-.9 2-2V5c0-1.1-.9-2-2-2zM9 17H7v-7h2v7zm4 0h-2V7h2v10zm4 0h-2v-4h2v4z\"/>\n",
              "    </g>\n",
              "</svg>\n",
              "  </button>\n",
              "\n",
              "<style>\n",
              "  .colab-df-quickchart {\n",
              "      --bg-color: #E8F0FE;\n",
              "      --fill-color: #1967D2;\n",
              "      --hover-bg-color: #E2EBFA;\n",
              "      --hover-fill-color: #174EA6;\n",
              "      --disabled-fill-color: #AAA;\n",
              "      --disabled-bg-color: #DDD;\n",
              "  }\n",
              "\n",
              "  [theme=dark] .colab-df-quickchart {\n",
              "      --bg-color: #3B4455;\n",
              "      --fill-color: #D2E3FC;\n",
              "      --hover-bg-color: #434B5C;\n",
              "      --hover-fill-color: #FFFFFF;\n",
              "      --disabled-bg-color: #3B4455;\n",
              "      --disabled-fill-color: #666;\n",
              "  }\n",
              "\n",
              "  .colab-df-quickchart {\n",
              "    background-color: var(--bg-color);\n",
              "    border: none;\n",
              "    border-radius: 50%;\n",
              "    cursor: pointer;\n",
              "    display: none;\n",
              "    fill: var(--fill-color);\n",
              "    height: 32px;\n",
              "    padding: 0;\n",
              "    width: 32px;\n",
              "  }\n",
              "\n",
              "  .colab-df-quickchart:hover {\n",
              "    background-color: var(--hover-bg-color);\n",
              "    box-shadow: 0 1px 2px rgba(60, 64, 67, 0.3), 0 1px 3px 1px rgba(60, 64, 67, 0.15);\n",
              "    fill: var(--button-hover-fill-color);\n",
              "  }\n",
              "\n",
              "  .colab-df-quickchart-complete:disabled,\n",
              "  .colab-df-quickchart-complete:disabled:hover {\n",
              "    background-color: var(--disabled-bg-color);\n",
              "    fill: var(--disabled-fill-color);\n",
              "    box-shadow: none;\n",
              "  }\n",
              "\n",
              "  .colab-df-spinner {\n",
              "    border: 2px solid var(--fill-color);\n",
              "    border-color: transparent;\n",
              "    border-bottom-color: var(--fill-color);\n",
              "    animation:\n",
              "      spin 1s steps(1) infinite;\n",
              "  }\n",
              "\n",
              "  @keyframes spin {\n",
              "    0% {\n",
              "      border-color: transparent;\n",
              "      border-bottom-color: var(--fill-color);\n",
              "      border-left-color: var(--fill-color);\n",
              "    }\n",
              "    20% {\n",
              "      border-color: transparent;\n",
              "      border-left-color: var(--fill-color);\n",
              "      border-top-color: var(--fill-color);\n",
              "    }\n",
              "    30% {\n",
              "      border-color: transparent;\n",
              "      border-left-color: var(--fill-color);\n",
              "      border-top-color: var(--fill-color);\n",
              "      border-right-color: var(--fill-color);\n",
              "    }\n",
              "    40% {\n",
              "      border-color: transparent;\n",
              "      border-right-color: var(--fill-color);\n",
              "      border-top-color: var(--fill-color);\n",
              "    }\n",
              "    60% {\n",
              "      border-color: transparent;\n",
              "      border-right-color: var(--fill-color);\n",
              "    }\n",
              "    80% {\n",
              "      border-color: transparent;\n",
              "      border-right-color: var(--fill-color);\n",
              "      border-bottom-color: var(--fill-color);\n",
              "    }\n",
              "    90% {\n",
              "      border-color: transparent;\n",
              "      border-bottom-color: var(--fill-color);\n",
              "    }\n",
              "  }\n",
              "</style>\n",
              "\n",
              "  <script>\n",
              "    async function quickchart(key) {\n",
              "      const quickchartButtonEl =\n",
              "        document.querySelector('#' + key + ' button');\n",
              "      quickchartButtonEl.disabled = true;  // To prevent multiple clicks.\n",
              "      quickchartButtonEl.classList.add('colab-df-spinner');\n",
              "      try {\n",
              "        const charts = await google.colab.kernel.invokeFunction(\n",
              "            'suggestCharts', [key], {});\n",
              "      } catch (error) {\n",
              "        console.error('Error during call to suggestCharts:', error);\n",
              "      }\n",
              "      quickchartButtonEl.classList.remove('colab-df-spinner');\n",
              "      quickchartButtonEl.classList.add('colab-df-quickchart-complete');\n",
              "    }\n",
              "    (() => {\n",
              "      let quickchartButtonEl =\n",
              "        document.querySelector('#df-85a85a38-59ea-4b95-9b32-e797e42a770f button');\n",
              "      quickchartButtonEl.style.display =\n",
              "        google.colab.kernel.accessAllowed ? 'block' : 'none';\n",
              "    })();\n",
              "  </script>\n",
              "</div>\n",
              "\n",
              "    </div>\n",
              "  </div>\n"
            ],
            "application/vnd.google.colaboratory.intrinsic+json": {
              "type": "dataframe",
              "variable_name": "ScatterData",
              "summary": "{\n  \"name\": \"ScatterData\",\n  \"rows\": 61,\n  \"fields\": [\n    {\n      \"column\": \"x\",\n      \"properties\": {\n        \"dtype\": \"number\",\n        \"std\": 5.9180890007472025,\n        \"min\": 0.011,\n        \"max\": 20.08,\n        \"num_unique_values\": 61,\n        \"samples\": [\n          0.011,\n          1.677,\n          15.307\n        ],\n        \"semantic_type\": \"\",\n        \"description\": \"\"\n      }\n    },\n    {\n      \"column\": \"y\",\n      \"properties\": {\n        \"dtype\": \"number\",\n        \"std\": 2.415205314106778,\n        \"min\": 93.151,\n        \"max\": 103.186,\n        \"num_unique_values\": 59,\n        \"samples\": [\n          103.186,\n          100.364,\n          97.254\n        ],\n        \"semantic_type\": \"\",\n        \"description\": \"\"\n      }\n    }\n  ]\n}"
            }
          },
          "metadata": {},
          "execution_count": 93
        }
      ],
      "source": [
        "ScatterData = pd.read_csv(\"Scatter_data.csv\",header=None,names=[\"x\",\"y\"]) # It's important the names for the columns data\n",
        "ScatterData.head()"
      ]
    },
    {
      "cell_type": "markdown",
      "metadata": {
        "id": "yvuS1_aIbizs"
      },
      "source": [
        "We can plot it to check it..."
      ]
    },
    {
      "cell_type": "code",
      "execution_count": null,
      "metadata": {
        "colab": {
          "base_uri": "https://localhost:8080/",
          "height": 447
        },
        "id": "WyMSkfEDbizs",
        "outputId": "e5961529-22ea-4821-e360-7ece87fbb3fa"
      },
      "outputs": [
        {
          "output_type": "execute_result",
          "data": {
            "text/plain": [
              "<matplotlib.collections.PathCollection at 0x7936ad537fd0>"
            ]
          },
          "metadata": {},
          "execution_count": 94
        },
        {
          "output_type": "display_data",
          "data": {
            "text/plain": [
              "<Figure size 640x480 with 1 Axes>"
            ],
            "image/png": "[encoded data removed]"
          },
          "metadata": {}
        }
      ],
      "source": [
        "plt.scatter(ScatterData[\"x\"],ScatterData[\"y\"])"
      ]
    },
    {
      "cell_type": "markdown",
      "metadata": {
        "id": "ED96OhTzbizs"
      },
      "source": [
        "The third step is to create a model. We are using a formula for the model. Actually, it is just a linear regression, made with [ordinary least square](https://en.wikipedia.org/wiki/Ordinary_least_squares) estimation. Check [here](https://patsy.readthedocs.io/en/latest/formulas.html#) how is the syntax for the formulae in patsy."
      ]
    },
    {
      "cell_type": "code",
      "execution_count": null,
      "metadata": {
        "id": "sZyoXTEMbizs"
      },
      "outputs": [],
      "source": [
        "model = smf.ols(\"y~x\",ScatterData)"
      ]
    },
    {
      "cell_type": "markdown",
      "metadata": {
        "id": "rGYJRjy7bizt"
      },
      "source": [
        "That only creates the model, but does not compute anything. The computation is made with the fit method."
      ]
    },
    {
      "cell_type": "code",
      "execution_count": null,
      "metadata": {
        "id": "MHrkWlW4bizt"
      },
      "outputs": [],
      "source": [
        "result = model.fit()"
      ]
    },
    {
      "cell_type": "markdown",
      "metadata": {
        "id": "P9vNlOCibizt"
      },
      "source": [
        "We check the result"
      ]
    },
    {
      "cell_type": "code",
      "execution_count": null,
      "metadata": {
        "colab": {
          "base_uri": "https://localhost:8080/",
          "height": 452
        },
        "id": "ipWsMBiTbizt",
        "outputId": "34d7742d-787c-46c4-8d7f-91ae76ac7bfa"
      },
      "outputs": [
        {
          "output_type": "execute_result",
          "data": {
            "text/plain": [
              "<class 'statsmodels.iolib.summary.Summary'>\n",
              "\"\"\"\n",
              "                            OLS Regression Results                            \n",
              "==============================================================================\n",
              "Dep. Variable:                      y   R-squared:                       0.703\n",
              "Model:                            OLS   Adj. R-squared:                  0.698\n",
              "Method:                 Least Squares   F-statistic:                     139.8\n",
              "Date:                Tue, 18 Feb 2025   Prob (F-statistic):           3.34e-17\n",
              "Time:                        11:34:32   Log-Likelihood:                -102.79\n",
              "No. Observations:                  61   AIC:                             209.6\n",
              "Df Residuals:                      59   BIC:                             213.8\n",
              "Df Model:                           1                                         \n",
              "Covariance Type:            nonrobust                                         \n",
              "==============================================================================\n",
              "                 coef    std err          t      P>|t|      [0.025      0.975]\n",
              "------------------------------------------------------------------------------\n",
              "Intercept    101.0919      0.336    300.828      0.000     100.420     101.764\n",
              "x             -0.3422      0.029    -11.824      0.000      -0.400      -0.284\n",
              "==============================================================================\n",
              "Omnibus:                        0.117   Durbin-Watson:                   1.789\n",
              "Prob(Omnibus):                  0.943   Jarque-Bera (JB):                0.155\n",
              "Skew:                           0.095   Prob(JB):                        0.925\n",
              "Kurtosis:                       2.841   Cond. No.                         23.1\n",
              "==============================================================================\n",
              "\n",
              "Notes:\n",
              "[1] Standard Errors assume that the covariance matrix of the errors is correctly specified.\n",
              "\"\"\""
            ],
            "text/html": [
              "<table class=\"simpletable\">\n",
              "<caption>OLS Regression Results</caption>\n",
              "<tr>\n",
              "  <th>Dep. Variable:</th>            <td>y</td>        <th>  R-squared:         </th> <td>   0.703</td>\n",
              "</tr>\n",
              "<tr>\n",
              "  <th>Model:</th>                   <td>OLS</td>       <th>  Adj. R-squared:    </th> <td>   0.698</td>\n",
              "</tr>\n",
              "<tr>\n",
              "  <th>Method:</th>             <td>Least Squares</td>  <th>  F-statistic:       </th> <td>   139.8</td>\n",
              "</tr>\n",
              "<tr>\n",
              "  <th>Date:</th>             <td>Tue, 18 Feb 2025</td> <th>  Prob (F-statistic):</th> <td>3.34e-17</td>\n",
              "</tr>\n",
              "<tr>\n",
              "  <th>Time:</th>                 <td>11:34:32</td>     <th>  Log-Likelihood:    </th> <td> -102.79</td>\n",
              "</tr>\n",
              "<tr>\n",
              "  <th>No. Observations:</th>      <td>    61</td>      <th>  AIC:               </th> <td>   209.6</td>\n",
              "</tr>\n",
              "<tr>\n",
              "  <th>Df Residuals:</th>          <td>    59</td>      <th>  BIC:               </th> <td>   213.8</td>\n",
              "</tr>\n",
              "<tr>\n",
              "  <th>Df Model:</th>              <td>     1</td>      <th>                     </th>     <td> </td>   \n",
              "</tr>\n",
              "<tr>\n",
              "  <th>Covariance Type:</th>      <td>nonrobust</td>    <th>                     </th>     <td> </td>   \n",
              "</tr>\n",
              "</table>\n",
              "<table class=\"simpletable\">\n",
              "<tr>\n",
              "      <td></td>         <th>coef</th>     <th>std err</th>      <th>t</th>      <th>P>|t|</th>  <th>[0.025</th>    <th>0.975]</th>  \n",
              "</tr>\n",
              "<tr>\n",
              "  <th>Intercept</th> <td>  101.0919</td> <td>    0.336</td> <td>  300.828</td> <td> 0.000</td> <td>  100.420</td> <td>  101.764</td>\n",
              "</tr>\n",
              "<tr>\n",
              "  <th>x</th>         <td>   -0.3422</td> <td>    0.029</td> <td>  -11.824</td> <td> 0.000</td> <td>   -0.400</td> <td>   -0.284</td>\n",
              "</tr>\n",
              "</table>\n",
              "<table class=\"simpletable\">\n",
              "<tr>\n",
              "  <th>Omnibus:</th>       <td> 0.117</td> <th>  Durbin-Watson:     </th> <td>   1.789</td>\n",
              "</tr>\n",
              "<tr>\n",
              "  <th>Prob(Omnibus):</th> <td> 0.943</td> <th>  Jarque-Bera (JB):  </th> <td>   0.155</td>\n",
              "</tr>\n",
              "<tr>\n",
              "  <th>Skew:</th>          <td> 0.095</td> <th>  Prob(JB):          </th> <td>   0.925</td>\n",
              "</tr>\n",
              "<tr>\n",
              "  <th>Kurtosis:</th>      <td> 2.841</td> <th>  Cond. No.          </th> <td>    23.1</td>\n",
              "</tr>\n",
              "</table><br/><br/>Notes:<br/>[1] Standard Errors assume that the covariance matrix of the errors is correctly specified."
            ],
            "text/latex": "\\begin{center}\n\\begin{tabular}{lclc}\n\\toprule\n\\textbf{Dep. Variable:}    &        y         & \\textbf{  R-squared:         } &     0.703   \\\\\n\\textbf{Model:}            &       OLS        & \\textbf{  Adj. R-squared:    } &     0.698   \\\\\n\\textbf{Method:}           &  Least Squares   & \\textbf{  F-statistic:       } &     139.8   \\\\\n\\textbf{Date:}             & Tue, 18 Feb 2025 & \\textbf{  Prob (F-statistic):} &  3.34e-17   \\\\\n\\textbf{Time:}             &     11:34:32     & \\textbf{  Log-Likelihood:    } &   -102.79   \\\\\n\\textbf{No. Observations:} &          61      & \\textbf{  AIC:               } &     209.6   \\\\\n\\textbf{Df Residuals:}     &          59      & \\textbf{  BIC:               } &     213.8   \\\\\n\\textbf{Df Model:}         &           1      & \\textbf{                     } &             \\\\\n\\textbf{Covariance Type:}  &    nonrobust     & \\textbf{                     } &             \\\\\n\\bottomrule\n\\end{tabular}\n\\begin{tabular}{lcccccc}\n                   & \\textbf{coef} & \\textbf{std err} & \\textbf{t} & \\textbf{P$> |$t$|$} & \\textbf{[0.025} & \\textbf{0.975]}  \\\\\n\\midrule\n\\textbf{Intercept} &     101.0919  &        0.336     &   300.828  &         0.000        &      100.420    &      101.764     \\\\\n\\textbf{x}         &      -0.3422  &        0.029     &   -11.824  &         0.000        &       -0.400    &       -0.284     \\\\\n\\bottomrule\n\\end{tabular}\n\\begin{tabular}{lclc}\n\\textbf{Omnibus:}       &  0.117 & \\textbf{  Durbin-Watson:     } &    1.789  \\\\\n\\textbf{Prob(Omnibus):} &  0.943 & \\textbf{  Jarque-Bera (JB):  } &    0.155  \\\\\n\\textbf{Skew:}          &  0.095 & \\textbf{  Prob(JB):          } &    0.925  \\\\\n\\textbf{Kurtosis:}      &  2.841 & \\textbf{  Cond. No.          } &     23.1  \\\\\n\\bottomrule\n\\end{tabular}\n%\\caption{OLS Regression Results}\n\\end{center}\n\nNotes: \\newline\n [1] Standard Errors assume that the covariance matrix of the errors is correctly specified."
          },
          "metadata": {},
          "execution_count": 97
        }
      ],
      "source": [
        "result.summary()"
      ]
    },
    {
      "cell_type": "markdown",
      "metadata": {
        "id": "cpyoAktnbizt"
      },
      "source": [
        "The result object has a lot of components. One is the _params_: the coefficient _Intercept_ which is the independent term, and the _x_, which is, in this case, the kinear term coefficient."
      ]
    },
    {
      "cell_type": "code",
      "execution_count": null,
      "metadata": {
        "colab": {
          "base_uri": "https://localhost:8080/",
          "height": 58
        },
        "id": "JwIyrDZbbizt",
        "outputId": "60571ca0-f977-471d-8b82-7e6a10b44dbb"
      },
      "outputs": [
        {
          "output_type": "display_data",
          "data": {
            "text/plain": [
              "101.09192882234693"
            ],
            "text/latex": "$\\displaystyle 101.091928822347$"
          },
          "metadata": {}
        },
        {
          "output_type": "display_data",
          "data": {
            "text/plain": [
              "-0.3422335982194442"
            ],
            "text/latex": "$\\displaystyle -0.342233598219444$"
          },
          "metadata": {}
        }
      ],
      "source": [
        "display(result.params[\"Intercept\"])\n",
        "display(result.params[\"x\"])"
      ]
    },
    {
      "cell_type": "markdown",
      "metadata": {
        "id": "tdJ5zB-Nbizt"
      },
      "source": [
        "In the last step, let's now plot it to see how it looks like.\n",
        "\n",
        "First, we create the set of _x_ points to make the plot. It has to be a pandas DataFrame."
      ]
    },
    {
      "cell_type": "code",
      "execution_count": null,
      "metadata": {
        "id": "s4PgcyRzbizt"
      },
      "outputs": [],
      "source": [
        "x_plot = pd.DataFrame(pd.Series(np.linspace(0,20,250),name=\"x\"))"
      ]
    },
    {
      "cell_type": "markdown",
      "metadata": {
        "id": "qJGKeOO5bizt"
      },
      "source": [
        "and now we calculate the prediction, according to our linear model"
      ]
    },
    {
      "cell_type": "code",
      "execution_count": null,
      "metadata": {
        "id": "ts3j9Z_zbizt"
      },
      "outputs": [],
      "source": [
        "y_plot = result.predict(x_plot)"
      ]
    },
    {
      "cell_type": "code",
      "execution_count": null,
      "metadata": {
        "colab": {
          "base_uri": "https://localhost:8080/",
          "height": 424
        },
        "id": "3TOuq9OWbizu",
        "outputId": "9dad8c47-f5d1-46fd-fda4-17cfe9e97de2"
      },
      "outputs": [
        {
          "output_type": "execute_result",
          "data": {
            "text/plain": [
              "             x\n",
              "0     0.000000\n",
              "1     0.080321\n",
              "2     0.160643\n",
              "3     0.240964\n",
              "4     0.321285\n",
              "..         ...\n",
              "245  19.678715\n",
              "246  19.759036\n",
              "247  19.839357\n",
              "248  19.919679\n",
              "249  20.000000\n",
              "\n",
              "[250 rows x 1 columns]"
            ],
            "text/html": [
              "\n",
              "  <div id=\"df-e1ebce58-975e-48be-be77-4c50e11659ae\" class=\"colab-df-container\">\n",
              "    <div>\n",
              "<style scoped>\n",
              "    .dataframe tbody tr th:only-of-type {\n",
              "        vertical-align: middle;\n",
              "    }\n",
              "\n",
              "    .dataframe tbody tr th {\n",
              "        vertical-align: top;\n",
              "    }\n",
              "\n",
              "    .dataframe thead th {\n",
              "        text-align: right;\n",
              "    }\n",
              "</style>\n",
              "<table border=\"1\" class=\"dataframe\">\n",
              "  <thead>\n",
              "    <tr style=\"text-align: right;\">\n",
              "      <th></th>\n",
              "      <th>x</th>\n",
              "    </tr>\n",
              "  </thead>\n",
              "  <tbody>\n",
              "    <tr>\n",
              "      <th>0</th>\n",
              "      <td>0.000000</td>\n",
              "    </tr>\n",
              "    <tr>\n",
              "      <th>1</th>\n",
              "      <td>0.080321</td>\n",
              "    </tr>\n",
              "    <tr>\n",
              "      <th>2</th>\n",
              "      <td>0.160643</td>\n",
              "    </tr>\n",
              "    <tr>\n",
              "      <th>3</th>\n",
              "      <td>0.240964</td>\n",
              "    </tr>\n",
              "    <tr>\n",
              "      <th>4</th>\n",
              "      <td>0.321285</td>\n",
              "    </tr>\n",
              "    <tr>\n",
              "      <th>...</th>\n",
              "      <td>...</td>\n",
              "    </tr>\n",
              "    <tr>\n",
              "      <th>245</th>\n",
              "      <td>19.678715</td>\n",
              "    </tr>\n",
              "    <tr>\n",
              "      <th>246</th>\n",
              "      <td>19.759036</td>\n",
              "    </tr>\n",
              "    <tr>\n",
              "      <th>247</th>\n",
              "      <td>19.839357</td>\n",
              "    </tr>\n",
              "    <tr>\n",
              "      <th>248</th>\n",
              "      <td>19.919679</td>\n",
              "    </tr>\n",
              "    <tr>\n",
              "      <th>249</th>\n",
              "      <td>20.000000</td>\n",
              "    </tr>\n",
              "  </tbody>\n",
              "</table>\n",
              "<p>250 rows × 1 columns</p>\n",
              "</div>\n",
              "    <div class=\"colab-df-buttons\">\n",
              "\n",
              "  <div class=\"colab-df-container\">\n",
              "    <button class=\"colab-df-convert\" onclick=\"convertToInteractive('df-e1ebce58-975e-48be-be77-4c50e11659ae')\"\n",
              "            title=\"Convert this dataframe to an interactive table.\"\n",
              "            style=\"display:none;\">\n",
              "\n",
              "  <svg xmlns=\"http://www.w3.org/2000/svg\" height=\"24px\" viewBox=\"0 -960 960 960\">\n",
              "    <path d=\"M120-120v-720h720v720H120Zm60-500h600v-160H180v160Zm220 220h160v-160H400v160Zm0 220h160v-160H400v160ZM180-400h160v-160H180v160Zm440 0h160v-160H620v160ZM180-180h160v-160H180v160Zm440 0h160v-160H620v160Z\"/>\n",
              "  </svg>\n",
              "    </button>\n",
              "\n",
              "  <style>\n",
              "    .colab-df-container {\n",
              "      display:flex;\n",
              "      gap: 12px;\n",
              "    }\n",
              "\n",
              "    .colab-df-convert {\n",
              "      background-color: #E8F0FE;\n",
              "      border: none;\n",
              "      border-radius: 50%;\n",
              "      cursor: pointer;\n",
              "      display: none;\n",
              "      fill: #1967D2;\n",
              "      height: 32px;\n",
              "      padding: 0 0 0 0;\n",
              "      width: 32px;\n",
              "    }\n",
              "\n",
              "    .colab-df-convert:hover {\n",
              "      background-color: #E2EBFA;\n",
              "      box-shadow: 0px 1px 2px rgba(60, 64, 67, 0.3), 0px 1px 3px 1px rgba(60, 64, 67, 0.15);\n",
              "      fill: #174EA6;\n",
              "    }\n",
              "\n",
              "    .colab-df-buttons div {\n",
              "      margin-bottom: 4px;\n",
              "    }\n",
              "\n",
              "    [theme=dark] .colab-df-convert {\n",
              "      background-color: #3B4455;\n",
              "      fill: #D2E3FC;\n",
              "    }\n",
              "\n",
              "    [theme=dark] .colab-df-convert:hover {\n",
              "      background-color: #434B5C;\n",
              "      box-shadow: 0px 1px 3px 1px rgba(0, 0, 0, 0.15);\n",
              "      filter: drop-shadow(0px 1px 2px rgba(0, 0, 0, 0.3));\n",
              "      fill: #FFFFFF;\n",
              "    }\n",
              "  </style>\n",
              "\n",
              "    <script>\n",
              "      const buttonEl =\n",
              "        document.querySelector('#df-e1ebce58-975e-48be-be77-4c50e11659ae button.colab-df-convert');\n",
              "      buttonEl.style.display =\n",
              "        google.colab.kernel.accessAllowed ? 'block' : 'none';\n",
              "\n",
              "      async function convertToInteractive(key) {\n",
              "        const element = document.querySelector('#df-e1ebce58-975e-48be-be77-4c50e11659ae');\n",
              "        const dataTable =\n",
              "          await google.colab.kernel.invokeFunction('convertToInteractive',\n",
              "                                                    [key], {});\n",
              "        if (!dataTable) return;\n",
              "\n",
              "        const docLinkHtml = 'Like what you see? Visit the ' +\n",
              "          '<a target=\"_blank\" href=https://colab.research.google.com/notebooks/data_table.ipynb>data table notebook</a>'\n",
              "          + ' to learn more about interactive tables.';\n",
              "        element.innerHTML = '';\n",
              "        dataTable['output_type'] = 'display_data';\n",
              "        await google.colab.output.renderOutput(dataTable, element);\n",
              "        const docLink = document.createElement('div');\n",
              "        docLink.innerHTML = docLinkHtml;\n",
              "        element.appendChild(docLink);\n",
              "      }\n",
              "    </script>\n",
              "  </div>\n",
              "\n",
              "\n",
              "<div id=\"df-f6082188-773d-4bb3-bc2c-e0360e454b96\">\n",
              "  <button class=\"colab-df-quickchart\" onclick=\"quickchart('df-f6082188-773d-4bb3-bc2c-e0360e454b96')\"\n",
              "            title=\"Suggest charts\"\n",
              "            style=\"display:none;\">\n",
              "\n",
              "<svg xmlns=\"http://www.w3.org/2000/svg\" height=\"24px\"viewBox=\"0 0 24 24\"\n",
              "     width=\"24px\">\n",
              "    <g>\n",
              "        <path d=\"M19 3H5c-1.1 0-2 .9-2 2v14c0 1.1.9 2 2 2h14c1.1 0 2-.9 2-2V5c0-1.1-.9-2-2-2zM9 17H7v-7h2v7zm4 0h-2V7h2v10zm4 0h-2v-4h2v4z\"/>\n",
              "    </g>\n",
              "</svg>\n",
              "  </button>\n",
              "\n",
              "<style>\n",
              "  .colab-df-quickchart {\n",
              "      --bg-color: #E8F0FE;\n",
              "      --fill-color: #1967D2;\n",
              "      --hover-bg-color: #E2EBFA;\n",
              "      --hover-fill-color: #174EA6;\n",
              "      --disabled-fill-color: #AAA;\n",
              "      --disabled-bg-color: #DDD;\n",
              "  }\n",
              "\n",
              "  [theme=dark] .colab-df-quickchart {\n",
              "      --bg-color: #3B4455;\n",
              "      --fill-color: #D2E3FC;\n",
              "      --hover-bg-color: #434B5C;\n",
              "      --hover-fill-color: #FFFFFF;\n",
              "      --disabled-bg-color: #3B4455;\n",
              "      --disabled-fill-color: #666;\n",
              "  }\n",
              "\n",
              "  .colab-df-quickchart {\n",
              "    background-color: var(--bg-color);\n",
              "    border: none;\n",
              "    border-radius: 50%;\n",
              "    cursor: pointer;\n",
              "    display: none;\n",
              "    fill: var(--fill-color);\n",
              "    height: 32px;\n",
              "    padding: 0;\n",
              "    width: 32px;\n",
              "  }\n",
              "\n",
              "  .colab-df-quickchart:hover {\n",
              "    background-color: var(--hover-bg-color);\n",
              "    box-shadow: 0 1px 2px rgba(60, 64, 67, 0.3), 0 1px 3px 1px rgba(60, 64, 67, 0.15);\n",
              "    fill: var(--button-hover-fill-color);\n",
              "  }\n",
              "\n",
              "  .colab-df-quickchart-complete:disabled,\n",
              "  .colab-df-quickchart-complete:disabled:hover {\n",
              "    background-color: var(--disabled-bg-color);\n",
              "    fill: var(--disabled-fill-color);\n",
              "    box-shadow: none;\n",
              "  }\n",
              "\n",
              "  .colab-df-spinner {\n",
              "    border: 2px solid var(--fill-color);\n",
              "    border-color: transparent;\n",
              "    border-bottom-color: var(--fill-color);\n",
              "    animation:\n",
              "      spin 1s steps(1) infinite;\n",
              "  }\n",
              "\n",
              "  @keyframes spin {\n",
              "    0% {\n",
              "      border-color: transparent;\n",
              "      border-bottom-color: var(--fill-color);\n",
              "      border-left-color: var(--fill-color);\n",
              "    }\n",
              "    20% {\n",
              "      border-color: transparent;\n",
              "      border-left-color: var(--fill-color);\n",
              "      border-top-color: var(--fill-color);\n",
              "    }\n",
              "    30% {\n",
              "      border-color: transparent;\n",
              "      border-left-color: var(--fill-color);\n",
              "      border-top-color: var(--fill-color);\n",
              "      border-right-color: var(--fill-color);\n",
              "    }\n",
              "    40% {\n",
              "      border-color: transparent;\n",
              "      border-right-color: var(--fill-color);\n",
              "      border-top-color: var(--fill-color);\n",
              "    }\n",
              "    60% {\n",
              "      border-color: transparent;\n",
              "      border-right-color: var(--fill-color);\n",
              "    }\n",
              "    80% {\n",
              "      border-color: transparent;\n",
              "      border-right-color: var(--fill-color);\n",
              "      border-bottom-color: var(--fill-color);\n",
              "    }\n",
              "    90% {\n",
              "      border-color: transparent;\n",
              "      border-bottom-color: var(--fill-color);\n",
              "    }\n",
              "  }\n",
              "</style>\n",
              "\n",
              "  <script>\n",
              "    async function quickchart(key) {\n",
              "      const quickchartButtonEl =\n",
              "        document.querySelector('#' + key + ' button');\n",
              "      quickchartButtonEl.disabled = true;  // To prevent multiple clicks.\n",
              "      quickchartButtonEl.classList.add('colab-df-spinner');\n",
              "      try {\n",
              "        const charts = await google.colab.kernel.invokeFunction(\n",
              "            'suggestCharts', [key], {});\n",
              "      } catch (error) {\n",
              "        console.error('Error during call to suggestCharts:', error);\n",
              "      }\n",
              "      quickchartButtonEl.classList.remove('colab-df-spinner');\n",
              "      quickchartButtonEl.classList.add('colab-df-quickchart-complete');\n",
              "    }\n",
              "    (() => {\n",
              "      let quickchartButtonEl =\n",
              "        document.querySelector('#df-f6082188-773d-4bb3-bc2c-e0360e454b96 button');\n",
              "      quickchartButtonEl.style.display =\n",
              "        google.colab.kernel.accessAllowed ? 'block' : 'none';\n",
              "    })();\n",
              "  </script>\n",
              "</div>\n",
              "\n",
              "  <div id=\"id_578a5029-a6c6-4bc4-b32d-4000008bf85c\">\n",
              "    <style>\n",
              "      .colab-df-generate {\n",
              "        background-color: #E8F0FE;\n",
              "        border: none;\n",
              "        border-radius: 50%;\n",
              "        cursor: pointer;\n",
              "        display: none;\n",
              "        fill: #1967D2;\n",
              "        height: 32px;\n",
              "        padding: 0 0 0 0;\n",
              "        width: 32px;\n",
              "      }\n",
              "\n",
              "      .colab-df-generate:hover {\n",
              "        background-color: #E2EBFA;\n",
              "        box-shadow: 0px 1px 2px rgba(60, 64, 67, 0.3), 0px 1px 3px 1px rgba(60, 64, 67, 0.15);\n",
              "        fill: #174EA6;\n",
              "      }\n",
              "\n",
              "      [theme=dark] .colab-df-generate {\n",
              "        background-color: #3B4455;\n",
              "        fill: #D2E3FC;\n",
              "      }\n",
              "\n",
              "      [theme=dark] .colab-df-generate:hover {\n",
              "        background-color: #434B5C;\n",
              "        box-shadow: 0px 1px 3px 1px rgba(0, 0, 0, 0.15);\n",
              "        filter: drop-shadow(0px 1px 2px rgba(0, 0, 0, 0.3));\n",
              "        fill: #FFFFFF;\n",
              "      }\n",
              "    </style>\n",
              "    <button class=\"colab-df-generate\" onclick=\"generateWithVariable('x_plot')\"\n",
              "            title=\"Generate code using this dataframe.\"\n",
              "            style=\"display:none;\">\n",
              "\n",
              "  <svg xmlns=\"http://www.w3.org/2000/svg\" height=\"24px\"viewBox=\"0 0 24 24\"\n",
              "       width=\"24px\">\n",
              "    <path d=\"M7,19H8.4L18.45,9,17,7.55,7,17.6ZM5,21V16.75L18.45,3.32a2,2,0,0,1,2.83,0l1.4,1.43a1.91,1.91,0,0,1,.58,1.4,1.91,1.91,0,0,1-.58,1.4L9.25,21ZM18.45,9,17,7.55Zm-12,3A5.31,5.31,0,0,0,4.9,8.1,5.31,5.31,0,0,0,1,6.5,5.31,5.31,0,0,0,4.9,4.9,5.31,5.31,0,0,0,6.5,1,5.31,5.31,0,0,0,8.1,4.9,5.31,5.31,0,0,0,12,6.5,5.46,5.46,0,0,0,6.5,12Z\"/>\n",
              "  </svg>\n",
              "    </button>\n",
              "    <script>\n",
              "      (() => {\n",
              "      const buttonEl =\n",
              "        document.querySelector('#id_578a5029-a6c6-4bc4-b32d-4000008bf85c button.colab-df-generate');\n",
              "      buttonEl.style.display =\n",
              "        google.colab.kernel.accessAllowed ? 'block' : 'none';\n",
              "\n",
              "      buttonEl.onclick = () => {\n",
              "        google.colab.notebook.generateWithVariable('x_plot');\n",
              "      }\n",
              "      })();\n",
              "    </script>\n",
              "  </div>\n",
              "\n",
              "    </div>\n",
              "  </div>\n"
            ],
            "application/vnd.google.colaboratory.intrinsic+json": {
              "type": "dataframe",
              "variable_name": "x_plot",
              "summary": "{\n  \"name\": \"x_plot\",\n  \"rows\": 250,\n  \"fields\": [\n    {\n      \"column\": \"x\",\n      \"properties\": {\n        \"dtype\": \"number\",\n        \"std\": 5.80827125834448,\n        \"min\": 0.0,\n        \"max\": 20.0,\n        \"num_unique_values\": 250,\n        \"samples\": [\n          11.405622489959839,\n          0.4819277108433735,\n          7.791164658634538\n        ],\n        \"semantic_type\": \"\",\n        \"description\": \"\"\n      }\n    }\n  ]\n}"
            }
          },
          "metadata": {},
          "execution_count": 101
        }
      ],
      "source": [
        "x_plot"
      ]
    },
    {
      "cell_type": "markdown",
      "metadata": {
        "id": "oMCzHcNHbizu"
      },
      "source": [
        "and, finally, we plot it"
      ]
    },
    {
      "cell_type": "code",
      "execution_count": null,
      "metadata": {
        "colab": {
          "base_uri": "https://localhost:8080/",
          "height": 447
        },
        "id": "tT3ao-qbbizu",
        "outputId": "f8b091bc-8b4f-4128-8774-dc92733b69c9"
      },
      "outputs": [
        {
          "output_type": "execute_result",
          "data": {
            "text/plain": [
              "Text(9.0, 101, '$y = 101.09 -0.34x$')"
            ]
          },
          "metadata": {},
          "execution_count": 102
        },
        {
          "output_type": "display_data",
          "data": {
            "text/plain": [
              "<Figure size 640x480 with 1 Axes>"
            ],
            "image/png": "[encoded data removed]"
          },
          "metadata": {}
        }
      ],
      "source": [
        "a = result.params[\"Intercept\"]\n",
        "b = result.params[\"x\"]\n",
        "plt.scatter(ScatterData[\"x\"],ScatterData[\"y\"])\n",
        "plt.plot(x_plot.values,y_plot,\"r-\",linewidth=3)\n",
        "plt.text(9.0,101,r\"$y = {:.2f} {:+.2f}x$\".format(a,b),color=\"red\")"
      ]
    },
    {
      "cell_type": "markdown",
      "metadata": {
        "id": "jWi3w2OMbizu"
      },
      "source": [
        "If we want to make another fit, for example, with a quadratic expression, we have to create another column in the DataFrame with the new data (in this case, with $x^2$). This is still considered a linear regression, since it can be written as linear combination of polynomical terms $ y = \\sum_{n=0}^{N} a_n x^n$. Note also that a model as $y=a_0x^{a_1}$, or $y=a_0\\exp(a_1x)$, can be tranformed into a linear model just calculating logarithm of both sides."
      ]
    },
    {
      "cell_type": "code",
      "execution_count": null,
      "metadata": {
        "id": "vQnl8Ag1bizu"
      },
      "outputs": [],
      "source": [
        "ScatterData[\"x2\"] = ScatterData[\"x\"]**2"
      ]
    },
    {
      "cell_type": "code",
      "execution_count": null,
      "metadata": {
        "tags": [],
        "colab": {
          "base_uri": "https://localhost:8080/",
          "height": 143
        },
        "id": "nCqrmwNQbizu",
        "outputId": "c5c1fcb4-0c53-4c73-f20b-8bd6eb510095"
      },
      "outputs": [
        {
          "output_type": "execute_result",
          "data": {
            "text/plain": [
              "       x        y        x2\n",
              "0  0.011  103.186  0.000121\n",
              "1  0.344  101.689  0.118336\n",
              "2  0.678  102.855  0.459684"
            ],
            "text/html": [
              "\n",
              "  <div id=\"df-dc7b48d7-6f05-4ed3-95bc-53b61136c36c\" class=\"colab-df-container\">\n",
              "    <div>\n",
              "<style scoped>\n",
              "    .dataframe tbody tr th:only-of-type {\n",
              "        vertical-align: middle;\n",
              "    }\n",
              "\n",
              "    .dataframe tbody tr th {\n",
              "        vertical-align: top;\n",
              "    }\n",
              "\n",
              "    .dataframe thead th {\n",
              "        text-align: right;\n",
              "    }\n",
              "</style>\n",
              "<table border=\"1\" class=\"dataframe\">\n",
              "  <thead>\n",
              "    <tr style=\"text-align: right;\">\n",
              "      <th></th>\n",
              "      <th>x</th>\n",
              "      <th>y</th>\n",
              "      <th>x2</th>\n",
              "    </tr>\n",
              "  </thead>\n",
              "  <tbody>\n",
              "    <tr>\n",
              "      <th>0</th>\n",
              "      <td>0.011</td>\n",
              "      <td>103.186</td>\n",
              "      <td>0.000121</td>\n",
              "    </tr>\n",
              "    <tr>\n",
              "      <th>1</th>\n",
              "      <td>0.344</td>\n",
              "      <td>101.689</td>\n",
              "      <td>0.118336</td>\n",
              "    </tr>\n",
              "    <tr>\n",
              "      <th>2</th>\n",
              "      <td>0.678</td>\n",
              "      <td>102.855</td>\n",
              "      <td>0.459684</td>\n",
              "    </tr>\n",
              "  </tbody>\n",
              "</table>\n",
              "</div>\n",
              "    <div class=\"colab-df-buttons\">\n",
              "\n",
              "  <div class=\"colab-df-container\">\n",
              "    <button class=\"colab-df-convert\" onclick=\"convertToInteractive('df-dc7b48d7-6f05-4ed3-95bc-53b61136c36c')\"\n",
              "            title=\"Convert this dataframe to an interactive table.\"\n",
              "            style=\"display:none;\">\n",
              "\n",
              "  <svg xmlns=\"http://www.w3.org/2000/svg\" height=\"24px\" viewBox=\"0 -960 960 960\">\n",
              "    <path d=\"M120-120v-720h720v720H120Zm60-500h600v-160H180v160Zm220 220h160v-160H400v160Zm0 220h160v-160H400v160ZM180-400h160v-160H180v160Zm440 0h160v-160H620v160ZM180-180h160v-160H180v160Zm440 0h160v-160H620v160Z\"/>\n",
              "  </svg>\n",
              "    </button>\n",
              "\n",
              "  <style>\n",
              "    .colab-df-container {\n",
              "      display:flex;\n",
              "      gap: 12px;\n",
              "    }\n",
              "\n",
              "    .colab-df-convert {\n",
              "      background-color: #E8F0FE;\n",
              "      border: none;\n",
              "      border-radius: 50%;\n",
              "      cursor: pointer;\n",
              "      display: none;\n",
              "      fill: #1967D2;\n",
              "      height: 32px;\n",
              "      padding: 0 0 0 0;\n",
              "      width: 32px;\n",
              "    }\n",
              "\n",
              "    .colab-df-convert:hover {\n",
              "      background-color: #E2EBFA;\n",
              "      box-shadow: 0px 1px 2px rgba(60, 64, 67, 0.3), 0px 1px 3px 1px rgba(60, 64, 67, 0.15);\n",
              "      fill: #174EA6;\n",
              "    }\n",
              "\n",
              "    .colab-df-buttons div {\n",
              "      margin-bottom: 4px;\n",
              "    }\n",
              "\n",
              "    [theme=dark] .colab-df-convert {\n",
              "      background-color: #3B4455;\n",
              "      fill: #D2E3FC;\n",
              "    }\n",
              "\n",
              "    [theme=dark] .colab-df-convert:hover {\n",
              "      background-color: #434B5C;\n",
              "      box-shadow: 0px 1px 3px 1px rgba(0, 0, 0, 0.15);\n",
              "      filter: drop-shadow(0px 1px 2px rgba(0, 0, 0, 0.3));\n",
              "      fill: #FFFFFF;\n",
              "    }\n",
              "  </style>\n",
              "\n",
              "    <script>\n",
              "      const buttonEl =\n",
              "        document.querySelector('#df-dc7b48d7-6f05-4ed3-95bc-53b61136c36c button.colab-df-convert');\n",
              "      buttonEl.style.display =\n",
              "        google.colab.kernel.accessAllowed ? 'block' : 'none';\n",
              "\n",
              "      async function convertToInteractive(key) {\n",
              "        const element = document.querySelector('#df-dc7b48d7-6f05-4ed3-95bc-53b61136c36c');\n",
              "        const dataTable =\n",
              "          await google.colab.kernel.invokeFunction('convertToInteractive',\n",
              "                                                    [key], {});\n",
              "        if (!dataTable) return;\n",
              "\n",
              "        const docLinkHtml = 'Like what you see? Visit the ' +\n",
              "          '<a target=\"_blank\" href=https://colab.research.google.com/notebooks/data_table.ipynb>data table notebook</a>'\n",
              "          + ' to learn more about interactive tables.';\n",
              "        element.innerHTML = '';\n",
              "        dataTable['output_type'] = 'display_data';\n",
              "        await google.colab.output.renderOutput(dataTable, element);\n",
              "        const docLink = document.createElement('div');\n",
              "        docLink.innerHTML = docLinkHtml;\n",
              "        element.appendChild(docLink);\n",
              "      }\n",
              "    </script>\n",
              "  </div>\n",
              "\n",
              "\n",
              "<div id=\"df-6e5e1bb3-b70f-407f-9f72-153e1fd769a1\">\n",
              "  <button class=\"colab-df-quickchart\" onclick=\"quickchart('df-6e5e1bb3-b70f-407f-9f72-153e1fd769a1')\"\n",
              "            title=\"Suggest charts\"\n",
              "            style=\"display:none;\">\n",
              "\n",
              "<svg xmlns=\"http://www.w3.org/2000/svg\" height=\"24px\"viewBox=\"0 0 24 24\"\n",
              "     width=\"24px\">\n",
              "    <g>\n",
              "        <path d=\"M19 3H5c-1.1 0-2 .9-2 2v14c0 1.1.9 2 2 2h14c1.1 0 2-.9 2-2V5c0-1.1-.9-2-2-2zM9 17H7v-7h2v7zm4 0h-2V7h2v10zm4 0h-2v-4h2v4z\"/>\n",
              "    </g>\n",
              "</svg>\n",
              "  </button>\n",
              "\n",
              "<style>\n",
              "  .colab-df-quickchart {\n",
              "      --bg-color: #E8F0FE;\n",
              "      --fill-color: #1967D2;\n",
              "      --hover-bg-color: #E2EBFA;\n",
              "      --hover-fill-color: #174EA6;\n",
              "      --disabled-fill-color: #AAA;\n",
              "      --disabled-bg-color: #DDD;\n",
              "  }\n",
              "\n",
              "  [theme=dark] .colab-df-quickchart {\n",
              "      --bg-color: #3B4455;\n",
              "      --fill-color: #D2E3FC;\n",
              "      --hover-bg-color: #434B5C;\n",
              "      --hover-fill-color: #FFFFFF;\n",
              "      --disabled-bg-color: #3B4455;\n",
              "      --disabled-fill-color: #666;\n",
              "  }\n",
              "\n",
              "  .colab-df-quickchart {\n",
              "    background-color: var(--bg-color);\n",
              "    border: none;\n",
              "    border-radius: 50%;\n",
              "    cursor: pointer;\n",
              "    display: none;\n",
              "    fill: var(--fill-color);\n",
              "    height: 32px;\n",
              "    padding: 0;\n",
              "    width: 32px;\n",
              "  }\n",
              "\n",
              "  .colab-df-quickchart:hover {\n",
              "    background-color: var(--hover-bg-color);\n",
              "    box-shadow: 0 1px 2px rgba(60, 64, 67, 0.3), 0 1px 3px 1px rgba(60, 64, 67, 0.15);\n",
              "    fill: var(--button-hover-fill-color);\n",
              "  }\n",
              "\n",
              "  .colab-df-quickchart-complete:disabled,\n",
              "  .colab-df-quickchart-complete:disabled:hover {\n",
              "    background-color: var(--disabled-bg-color);\n",
              "    fill: var(--disabled-fill-color);\n",
              "    box-shadow: none;\n",
              "  }\n",
              "\n",
              "  .colab-df-spinner {\n",
              "    border: 2px solid var(--fill-color);\n",
              "    border-color: transparent;\n",
              "    border-bottom-color: var(--fill-color);\n",
              "    animation:\n",
              "      spin 1s steps(1) infinite;\n",
              "  }\n",
              "\n",
              "  @keyframes spin {\n",
              "    0% {\n",
              "      border-color: transparent;\n",
              "      border-bottom-color: var(--fill-color);\n",
              "      border-left-color: var(--fill-color);\n",
              "    }\n",
              "    20% {\n",
              "      border-color: transparent;\n",
              "      border-left-color: var(--fill-color);\n",
              "      border-top-color: var(--fill-color);\n",
              "    }\n",
              "    30% {\n",
              "      border-color: transparent;\n",
              "      border-left-color: var(--fill-color);\n",
              "      border-top-color: var(--fill-color);\n",
              "      border-right-color: var(--fill-color);\n",
              "    }\n",
              "    40% {\n",
              "      border-color: transparent;\n",
              "      border-right-color: var(--fill-color);\n",
              "      border-top-color: var(--fill-color);\n",
              "    }\n",
              "    60% {\n",
              "      border-color: transparent;\n",
              "      border-right-color: var(--fill-color);\n",
              "    }\n",
              "    80% {\n",
              "      border-color: transparent;\n",
              "      border-right-color: var(--fill-color);\n",
              "      border-bottom-color: var(--fill-color);\n",
              "    }\n",
              "    90% {\n",
              "      border-color: transparent;\n",
              "      border-bottom-color: var(--fill-color);\n",
              "    }\n",
              "  }\n",
              "</style>\n",
              "\n",
              "  <script>\n",
              "    async function quickchart(key) {\n",
              "      const quickchartButtonEl =\n",
              "        document.querySelector('#' + key + ' button');\n",
              "      quickchartButtonEl.disabled = true;  // To prevent multiple clicks.\n",
              "      quickchartButtonEl.classList.add('colab-df-spinner');\n",
              "      try {\n",
              "        const charts = await google.colab.kernel.invokeFunction(\n",
              "            'suggestCharts', [key], {});\n",
              "      } catch (error) {\n",
              "        console.error('Error during call to suggestCharts:', error);\n",
              "      }\n",
              "      quickchartButtonEl.classList.remove('colab-df-spinner');\n",
              "      quickchartButtonEl.classList.add('colab-df-quickchart-complete');\n",
              "    }\n",
              "    (() => {\n",
              "      let quickchartButtonEl =\n",
              "        document.querySelector('#df-6e5e1bb3-b70f-407f-9f72-153e1fd769a1 button');\n",
              "      quickchartButtonEl.style.display =\n",
              "        google.colab.kernel.accessAllowed ? 'block' : 'none';\n",
              "    })();\n",
              "  </script>\n",
              "</div>\n",
              "\n",
              "    </div>\n",
              "  </div>\n"
            ],
            "application/vnd.google.colaboratory.intrinsic+json": {
              "type": "dataframe",
              "variable_name": "ScatterData",
              "summary": "{\n  \"name\": \"ScatterData\",\n  \"rows\": 61,\n  \"fields\": [\n    {\n      \"column\": \"x\",\n      \"properties\": {\n        \"dtype\": \"number\",\n        \"std\": 5.9180890007472025,\n        \"min\": 0.011,\n        \"max\": 20.08,\n        \"num_unique_values\": 61,\n        \"samples\": [\n          0.011,\n          1.677,\n          15.307\n        ],\n        \"semantic_type\": \"\",\n        \"description\": \"\"\n      }\n    },\n    {\n      \"column\": \"y\",\n      \"properties\": {\n        \"dtype\": \"number\",\n        \"std\": 2.415205314106778,\n        \"min\": 93.151,\n        \"max\": 103.186,\n        \"num_unique_values\": 59,\n        \"samples\": [\n          103.186,\n          100.364,\n          97.254\n        ],\n        \"semantic_type\": \"\",\n        \"description\": \"\"\n      }\n    },\n    {\n      \"column\": \"x2\",\n      \"properties\": {\n        \"dtype\": \"number\",\n        \"std\": 122.60913479089893,\n        \"min\": 0.00012099999999999999,\n        \"max\": 403.2063999999999,\n        \"num_unique_values\": 61,\n        \"samples\": [\n          0.00012099999999999999,\n          2.812329,\n          234.304249\n        ],\n        \"semantic_type\": \"\",\n        \"description\": \"\"\n      }\n    }\n  ]\n}"
            }
          },
          "metadata": {},
          "execution_count": 104
        }
      ],
      "source": [
        "ScatterData.head(3)"
      ]
    },
    {
      "cell_type": "markdown",
      "metadata": {
        "id": "R8ORfWbRbizu"
      },
      "source": [
        "and then we create the new model, and perform the `fit()` method"
      ]
    },
    {
      "cell_type": "code",
      "execution_count": null,
      "metadata": {
        "id": "RvFmPNcjbizu"
      },
      "outputs": [],
      "source": [
        "sqr_model = smf.ols('y~ x + x2',ScatterData)"
      ]
    },
    {
      "cell_type": "code",
      "execution_count": null,
      "metadata": {
        "id": "FWyN7VvDbizu"
      },
      "outputs": [],
      "source": [
        "sqr_result = sqr_model.fit()"
      ]
    },
    {
      "cell_type": "code",
      "execution_count": null,
      "metadata": {
        "colab": {
          "base_uri": "https://localhost:8080/",
          "height": 473
        },
        "id": "r_N7Ns7fbizv",
        "outputId": "a6d80984-4cfa-40b4-bb31-52022670e8ac"
      },
      "outputs": [
        {
          "output_type": "execute_result",
          "data": {
            "text/plain": [
              "<class 'statsmodels.iolib.summary.Summary'>\n",
              "\"\"\"\n",
              "                            OLS Regression Results                            \n",
              "==============================================================================\n",
              "Dep. Variable:                      y   R-squared:                       0.706\n",
              "Model:                            OLS   Adj. R-squared:                  0.696\n",
              "Method:                 Least Squares   F-statistic:                     69.69\n",
              "Date:                Tue, 18 Feb 2025   Prob (F-statistic):           3.76e-16\n",
              "Time:                        11:35:09   Log-Likelihood:                -102.49\n",
              "No. Observations:                  61   AIC:                             211.0\n",
              "Df Residuals:                      58   BIC:                             217.3\n",
              "Df Model:                           2                                         \n",
              "Covariance Type:            nonrobust                                         \n",
              "==============================================================================\n",
              "                 coef    std err          t      P>|t|      [0.025      0.975]\n",
              "------------------------------------------------------------------------------\n",
              "Intercept    101.3684      0.496    204.170      0.000     100.375     102.362\n",
              "x             -0.4262      0.114     -3.724      0.000      -0.655      -0.197\n",
              "x2             0.0042      0.006      0.759      0.451      -0.007       0.015\n",
              "==============================================================================\n",
              "Omnibus:                        0.048   Durbin-Watson:                   1.807\n",
              "Prob(Omnibus):                  0.976   Jarque-Bera (JB):                0.166\n",
              "Skew:                           0.061   Prob(JB):                        0.920\n",
              "Kurtosis:                       2.775   Cond. No.                         540.\n",
              "==============================================================================\n",
              "\n",
              "Notes:\n",
              "[1] Standard Errors assume that the covariance matrix of the errors is correctly specified.\n",
              "\"\"\""
            ],
            "text/html": [
              "<table class=\"simpletable\">\n",
              "<caption>OLS Regression Results</caption>\n",
              "<tr>\n",
              "  <th>Dep. Variable:</th>            <td>y</td>        <th>  R-squared:         </th> <td>   0.706</td>\n",
              "</tr>\n",
              "<tr>\n",
              "  <th>Model:</th>                   <td>OLS</td>       <th>  Adj. R-squared:    </th> <td>   0.696</td>\n",
              "</tr>\n",
              "<tr>\n",
              "  <th>Method:</th>             <td>Least Squares</td>  <th>  F-statistic:       </th> <td>   69.69</td>\n",
              "</tr>\n",
              "<tr>\n",
              "  <th>Date:</th>             <td>Tue, 18 Feb 2025</td> <th>  Prob (F-statistic):</th> <td>3.76e-16</td>\n",
              "</tr>\n",
              "<tr>\n",
              "  <th>Time:</th>                 <td>11:35:09</td>     <th>  Log-Likelihood:    </th> <td> -102.49</td>\n",
              "</tr>\n",
              "<tr>\n",
              "  <th>No. Observations:</th>      <td>    61</td>      <th>  AIC:               </th> <td>   211.0</td>\n",
              "</tr>\n",
              "<tr>\n",
              "  <th>Df Residuals:</th>          <td>    58</td>      <th>  BIC:               </th> <td>   217.3</td>\n",
              "</tr>\n",
              "<tr>\n",
              "  <th>Df Model:</th>              <td>     2</td>      <th>                     </th>     <td> </td>   \n",
              "</tr>\n",
              "<tr>\n",
              "  <th>Covariance Type:</th>      <td>nonrobust</td>    <th>                     </th>     <td> </td>   \n",
              "</tr>\n",
              "</table>\n",
              "<table class=\"simpletable\">\n",
              "<tr>\n",
              "      <td></td>         <th>coef</th>     <th>std err</th>      <th>t</th>      <th>P>|t|</th>  <th>[0.025</th>    <th>0.975]</th>  \n",
              "</tr>\n",
              "<tr>\n",
              "  <th>Intercept</th> <td>  101.3684</td> <td>    0.496</td> <td>  204.170</td> <td> 0.000</td> <td>  100.375</td> <td>  102.362</td>\n",
              "</tr>\n",
              "<tr>\n",
              "  <th>x</th>         <td>   -0.4262</td> <td>    0.114</td> <td>   -3.724</td> <td> 0.000</td> <td>   -0.655</td> <td>   -0.197</td>\n",
              "</tr>\n",
              "<tr>\n",
              "  <th>x2</th>        <td>    0.0042</td> <td>    0.006</td> <td>    0.759</td> <td> 0.451</td> <td>   -0.007</td> <td>    0.015</td>\n",
              "</tr>\n",
              "</table>\n",
              "<table class=\"simpletable\">\n",
              "<tr>\n",
              "  <th>Omnibus:</th>       <td> 0.048</td> <th>  Durbin-Watson:     </th> <td>   1.807</td>\n",
              "</tr>\n",
              "<tr>\n",
              "  <th>Prob(Omnibus):</th> <td> 0.976</td> <th>  Jarque-Bera (JB):  </th> <td>   0.166</td>\n",
              "</tr>\n",
              "<tr>\n",
              "  <th>Skew:</th>          <td> 0.061</td> <th>  Prob(JB):          </th> <td>   0.920</td>\n",
              "</tr>\n",
              "<tr>\n",
              "  <th>Kurtosis:</th>      <td> 2.775</td> <th>  Cond. No.          </th> <td>    540.</td>\n",
              "</tr>\n",
              "</table><br/><br/>Notes:<br/>[1] Standard Errors assume that the covariance matrix of the errors is correctly specified."
            ],
            "text/latex": "\\begin{center}\n\\begin{tabular}{lclc}\n\\toprule\n\\textbf{Dep. Variable:}    &        y         & \\textbf{  R-squared:         } &     0.706   \\\\\n\\textbf{Model:}            &       OLS        & \\textbf{  Adj. R-squared:    } &     0.696   \\\\\n\\textbf{Method:}           &  Least Squares   & \\textbf{  F-statistic:       } &     69.69   \\\\\n\\textbf{Date:}             & Tue, 18 Feb 2025 & \\textbf{  Prob (F-statistic):} &  3.76e-16   \\\\\n\\textbf{Time:}             &     11:35:09     & \\textbf{  Log-Likelihood:    } &   -102.49   \\\\\n\\textbf{No. Observations:} &          61      & \\textbf{  AIC:               } &     211.0   \\\\\n\\textbf{Df Residuals:}     &          58      & \\textbf{  BIC:               } &     217.3   \\\\\n\\textbf{Df Model:}         &           2      & \\textbf{                     } &             \\\\\n\\textbf{Covariance Type:}  &    nonrobust     & \\textbf{                     } &             \\\\\n\\bottomrule\n\\end{tabular}\n\\begin{tabular}{lcccccc}\n                   & \\textbf{coef} & \\textbf{std err} & \\textbf{t} & \\textbf{P$> |$t$|$} & \\textbf{[0.025} & \\textbf{0.975]}  \\\\\n\\midrule\n\\textbf{Intercept} &     101.3684  &        0.496     &   204.170  &         0.000        &      100.375    &      102.362     \\\\\n\\textbf{x}         &      -0.4262  &        0.114     &    -3.724  &         0.000        &       -0.655    &       -0.197     \\\\\n\\textbf{x2}        &       0.0042  &        0.006     &     0.759  &         0.451        &       -0.007    &        0.015     \\\\\n\\bottomrule\n\\end{tabular}\n\\begin{tabular}{lclc}\n\\textbf{Omnibus:}       &  0.048 & \\textbf{  Durbin-Watson:     } &    1.807  \\\\\n\\textbf{Prob(Omnibus):} &  0.976 & \\textbf{  Jarque-Bera (JB):  } &    0.166  \\\\\n\\textbf{Skew:}          &  0.061 & \\textbf{  Prob(JB):          } &    0.920  \\\\\n\\textbf{Kurtosis:}      &  2.775 & \\textbf{  Cond. No.          } &     540.  \\\\\n\\bottomrule\n\\end{tabular}\n%\\caption{OLS Regression Results}\n\\end{center}\n\nNotes: \\newline\n [1] Standard Errors assume that the covariance matrix of the errors is correctly specified."
          },
          "metadata": {},
          "execution_count": 107
        }
      ],
      "source": [
        "sqr_result.summary()"
      ]
    },
    {
      "cell_type": "code",
      "execution_count": null,
      "metadata": {
        "colab": {
          "base_uri": "https://localhost:8080/",
          "height": 178
        },
        "id": "3UMGL8NNbizv",
        "outputId": "ceff86a7-c9c0-4406-df45-f86fa2011b82"
      },
      "outputs": [
        {
          "output_type": "execute_result",
          "data": {
            "text/plain": [
              "Intercept    101.368371\n",
              "x             -0.426238\n",
              "x2             0.004192\n",
              "dtype: float64"
            ],
            "text/html": [
              "<div>\n",
              "<style scoped>\n",
              "    .dataframe tbody tr th:only-of-type {\n",
              "        vertical-align: middle;\n",
              "    }\n",
              "\n",
              "    .dataframe tbody tr th {\n",
              "        vertical-align: top;\n",
              "    }\n",
              "\n",
              "    .dataframe thead th {\n",
              "        text-align: right;\n",
              "    }\n",
              "</style>\n",
              "<table border=\"1\" class=\"dataframe\">\n",
              "  <thead>\n",
              "    <tr style=\"text-align: right;\">\n",
              "      <th></th>\n",
              "      <th>0</th>\n",
              "    </tr>\n",
              "  </thead>\n",
              "  <tbody>\n",
              "    <tr>\n",
              "      <th>Intercept</th>\n",
              "      <td>101.368371</td>\n",
              "    </tr>\n",
              "    <tr>\n",
              "      <th>x</th>\n",
              "      <td>-0.426238</td>\n",
              "    </tr>\n",
              "    <tr>\n",
              "      <th>x2</th>\n",
              "      <td>0.004192</td>\n",
              "    </tr>\n",
              "  </tbody>\n",
              "</table>\n",
              "</div><br><label><b>dtype:</b> float64</label>"
            ]
          },
          "metadata": {},
          "execution_count": 108
        }
      ],
      "source": [
        "sqr_result.params"
      ]
    },
    {
      "cell_type": "code",
      "execution_count": null,
      "metadata": {
        "id": "6BuUbllQbizv"
      },
      "outputs": [],
      "source": [
        "x2_plot = x_plot.join(pd.Series(x_plot[\"x\"]**2,name=\"x2\"))"
      ]
    },
    {
      "cell_type": "code",
      "execution_count": null,
      "metadata": {
        "colab": {
          "base_uri": "https://localhost:8080/",
          "height": 424
        },
        "id": "unAHaIOHbizv",
        "outputId": "840db4ec-fef9-4c4b-ff3f-51d3d74e51b4"
      },
      "outputs": [
        {
          "output_type": "execute_result",
          "data": {
            "text/plain": [
              "             x          x2\n",
              "0     0.000000    0.000000\n",
              "1     0.080321    0.006452\n",
              "2     0.160643    0.025806\n",
              "3     0.240964    0.058064\n",
              "4     0.321285    0.103224\n",
              "..         ...         ...\n",
              "245  19.678715  387.251819\n",
              "246  19.759036  390.419509\n",
              "247  19.839357  393.600103\n",
              "248  19.919679  396.793600\n",
              "249  20.000000  400.000000\n",
              "\n",
              "[250 rows x 2 columns]"
            ],
            "text/html": [
              "\n",
              "  <div id=\"df-1a65d476-ac7e-4e6c-bf2a-f3321cdf79d4\" class=\"colab-df-container\">\n",
              "    <div>\n",
              "<style scoped>\n",
              "    .dataframe tbody tr th:only-of-type {\n",
              "        vertical-align: middle;\n",
              "    }\n",
              "\n",
              "    .dataframe tbody tr th {\n",
              "        vertical-align: top;\n",
              "    }\n",
              "\n",
              "    .dataframe thead th {\n",
              "        text-align: right;\n",
              "    }\n",
              "</style>\n",
              "<table border=\"1\" class=\"dataframe\">\n",
              "  <thead>\n",
              "    <tr style=\"text-align: right;\">\n",
              "      <th></th>\n",
              "      <th>x</th>\n",
              "      <th>x2</th>\n",
              "    </tr>\n",
              "  </thead>\n",
              "  <tbody>\n",
              "    <tr>\n",
              "      <th>0</th>\n",
              "      <td>0.000000</td>\n",
              "      <td>0.000000</td>\n",
              "    </tr>\n",
              "    <tr>\n",
              "      <th>1</th>\n",
              "      <td>0.080321</td>\n",
              "      <td>0.006452</td>\n",
              "    </tr>\n",
              "    <tr>\n",
              "      <th>2</th>\n",
              "      <td>0.160643</td>\n",
              "      <td>0.025806</td>\n",
              "    </tr>\n",
              "    <tr>\n",
              "      <th>3</th>\n",
              "      <td>0.240964</td>\n",
              "      <td>0.058064</td>\n",
              "    </tr>\n",
              "    <tr>\n",
              "      <th>4</th>\n",
              "      <td>0.321285</td>\n",
              "      <td>0.103224</td>\n",
              "    </tr>\n",
              "    <tr>\n",
              "      <th>...</th>\n",
              "      <td>...</td>\n",
              "      <td>...</td>\n",
              "    </tr>\n",
              "    <tr>\n",
              "      <th>245</th>\n",
              "      <td>19.678715</td>\n",
              "      <td>387.251819</td>\n",
              "    </tr>\n",
              "    <tr>\n",
              "      <th>246</th>\n",
              "      <td>19.759036</td>\n",
              "      <td>390.419509</td>\n",
              "    </tr>\n",
              "    <tr>\n",
              "      <th>247</th>\n",
              "      <td>19.839357</td>\n",
              "      <td>393.600103</td>\n",
              "    </tr>\n",
              "    <tr>\n",
              "      <th>248</th>\n",
              "      <td>19.919679</td>\n",
              "      <td>396.793600</td>\n",
              "    </tr>\n",
              "    <tr>\n",
              "      <th>249</th>\n",
              "      <td>20.000000</td>\n",
              "      <td>400.000000</td>\n",
              "    </tr>\n",
              "  </tbody>\n",
              "</table>\n",
              "<p>250 rows × 2 columns</p>\n",
              "</div>\n",
              "    <div class=\"colab-df-buttons\">\n",
              "\n",
              "  <div class=\"colab-df-container\">\n",
              "    <button class=\"colab-df-convert\" onclick=\"convertToInteractive('df-1a65d476-ac7e-4e6c-bf2a-f3321cdf79d4')\"\n",
              "            title=\"Convert this dataframe to an interactive table.\"\n",
              "            style=\"display:none;\">\n",
              "\n",
              "  <svg xmlns=\"http://www.w3.org/2000/svg\" height=\"24px\" viewBox=\"0 -960 960 960\">\n",
              "    <path d=\"M120-120v-720h720v720H120Zm60-500h600v-160H180v160Zm220 220h160v-160H400v160Zm0 220h160v-160H400v160ZM180-400h160v-160H180v160Zm440 0h160v-160H620v160ZM180-180h160v-160H180v160Zm440 0h160v-160H620v160Z\"/>\n",
              "  </svg>\n",
              "    </button>\n",
              "\n",
              "  <style>\n",
              "    .colab-df-container {\n",
              "      display:flex;\n",
              "      gap: 12px;\n",
              "    }\n",
              "\n",
              "    .colab-df-convert {\n",
              "      background-color: #E8F0FE;\n",
              "      border: none;\n",
              "      border-radius: 50%;\n",
              "      cursor: pointer;\n",
              "      display: none;\n",
              "      fill: #1967D2;\n",
              "      height: 32px;\n",
              "      padding: 0 0 0 0;\n",
              "      width: 32px;\n",
              "    }\n",
              "\n",
              "    .colab-df-convert:hover {\n",
              "      background-color: #E2EBFA;\n",
              "      box-shadow: 0px 1px 2px rgba(60, 64, 67, 0.3), 0px 1px 3px 1px rgba(60, 64, 67, 0.15);\n",
              "      fill: #174EA6;\n",
              "    }\n",
              "\n",
              "    .colab-df-buttons div {\n",
              "      margin-bottom: 4px;\n",
              "    }\n",
              "\n",
              "    [theme=dark] .colab-df-convert {\n",
              "      background-color: #3B4455;\n",
              "      fill: #D2E3FC;\n",
              "    }\n",
              "\n",
              "    [theme=dark] .colab-df-convert:hover {\n",
              "      background-color: #434B5C;\n",
              "      box-shadow: 0px 1px 3px 1px rgba(0, 0, 0, 0.15);\n",
              "      filter: drop-shadow(0px 1px 2px rgba(0, 0, 0, 0.3));\n",
              "      fill: #FFFFFF;\n",
              "    }\n",
              "  </style>\n",
              "\n",
              "    <script>\n",
              "      const buttonEl =\n",
              "        document.querySelector('#df-1a65d476-ac7e-4e6c-bf2a-f3321cdf79d4 button.colab-df-convert');\n",
              "      buttonEl.style.display =\n",
              "        google.colab.kernel.accessAllowed ? 'block' : 'none';\n",
              "\n",
              "      async function convertToInteractive(key) {\n",
              "        const element = document.querySelector('#df-1a65d476-ac7e-4e6c-bf2a-f3321cdf79d4');\n",
              "        const dataTable =\n",
              "          await google.colab.kernel.invokeFunction('convertToInteractive',\n",
              "                                                    [key], {});\n",
              "        if (!dataTable) return;\n",
              "\n",
              "        const docLinkHtml = 'Like what you see? Visit the ' +\n",
              "          '<a target=\"_blank\" href=https://colab.research.google.com/notebooks/data_table.ipynb>data table notebook</a>'\n",
              "          + ' to learn more about interactive tables.';\n",
              "        element.innerHTML = '';\n",
              "        dataTable['output_type'] = 'display_data';\n",
              "        await google.colab.output.renderOutput(dataTable, element);\n",
              "        const docLink = document.createElement('div');\n",
              "        docLink.innerHTML = docLinkHtml;\n",
              "        element.appendChild(docLink);\n",
              "      }\n",
              "    </script>\n",
              "  </div>\n",
              "\n",
              "\n",
              "<div id=\"df-a32ddac2-4fa3-4747-8019-a3e700b7ec04\">\n",
              "  <button class=\"colab-df-quickchart\" onclick=\"quickchart('df-a32ddac2-4fa3-4747-8019-a3e700b7ec04')\"\n",
              "            title=\"Suggest charts\"\n",
              "            style=\"display:none;\">\n",
              "\n",
              "<svg xmlns=\"http://www.w3.org/2000/svg\" height=\"24px\"viewBox=\"0 0 24 24\"\n",
              "     width=\"24px\">\n",
              "    <g>\n",
              "        <path d=\"M19 3H5c-1.1 0-2 .9-2 2v14c0 1.1.9 2 2 2h14c1.1 0 2-.9 2-2V5c0-1.1-.9-2-2-2zM9 17H7v-7h2v7zm4 0h-2V7h2v10zm4 0h-2v-4h2v4z\"/>\n",
              "    </g>\n",
              "</svg>\n",
              "  </button>\n",
              "\n",
              "<style>\n",
              "  .colab-df-quickchart {\n",
              "      --bg-color: #E8F0FE;\n",
              "      --fill-color: #1967D2;\n",
              "      --hover-bg-color: #E2EBFA;\n",
              "      --hover-fill-color: #174EA6;\n",
              "      --disabled-fill-color: #AAA;\n",
              "      --disabled-bg-color: #DDD;\n",
              "  }\n",
              "\n",
              "  [theme=dark] .colab-df-quickchart {\n",
              "      --bg-color: #3B4455;\n",
              "      --fill-color: #D2E3FC;\n",
              "      --hover-bg-color: #434B5C;\n",
              "      --hover-fill-color: #FFFFFF;\n",
              "      --disabled-bg-color: #3B4455;\n",
              "      --disabled-fill-color: #666;\n",
              "  }\n",
              "\n",
              "  .colab-df-quickchart {\n",
              "    background-color: var(--bg-color);\n",
              "    border: none;\n",
              "    border-radius: 50%;\n",
              "    cursor: pointer;\n",
              "    display: none;\n",
              "    fill: var(--fill-color);\n",
              "    height: 32px;\n",
              "    padding: 0;\n",
              "    width: 32px;\n",
              "  }\n",
              "\n",
              "  .colab-df-quickchart:hover {\n",
              "    background-color: var(--hover-bg-color);\n",
              "    box-shadow: 0 1px 2px rgba(60, 64, 67, 0.3), 0 1px 3px 1px rgba(60, 64, 67, 0.15);\n",
              "    fill: var(--button-hover-fill-color);\n",
              "  }\n",
              "\n",
              "  .colab-df-quickchart-complete:disabled,\n",
              "  .colab-df-quickchart-complete:disabled:hover {\n",
              "    background-color: var(--disabled-bg-color);\n",
              "    fill: var(--disabled-fill-color);\n",
              "    box-shadow: none;\n",
              "  }\n",
              "\n",
              "  .colab-df-spinner {\n",
              "    border: 2px solid var(--fill-color);\n",
              "    border-color: transparent;\n",
              "    border-bottom-color: var(--fill-color);\n",
              "    animation:\n",
              "      spin 1s steps(1) infinite;\n",
              "  }\n",
              "\n",
              "  @keyframes spin {\n",
              "    0% {\n",
              "      border-color: transparent;\n",
              "      border-bottom-color: var(--fill-color);\n",
              "      border-left-color: var(--fill-color);\n",
              "    }\n",
              "    20% {\n",
              "      border-color: transparent;\n",
              "      border-left-color: var(--fill-color);\n",
              "      border-top-color: var(--fill-color);\n",
              "    }\n",
              "    30% {\n",
              "      border-color: transparent;\n",
              "      border-left-color: var(--fill-color);\n",
              "      border-top-color: var(--fill-color);\n",
              "      border-right-color: var(--fill-color);\n",
              "    }\n",
              "    40% {\n",
              "      border-color: transparent;\n",
              "      border-right-color: var(--fill-color);\n",
              "      border-top-color: var(--fill-color);\n",
              "    }\n",
              "    60% {\n",
              "      border-color: transparent;\n",
              "      border-right-color: var(--fill-color);\n",
              "    }\n",
              "    80% {\n",
              "      border-color: transparent;\n",
              "      border-right-color: var(--fill-color);\n",
              "      border-bottom-color: var(--fill-color);\n",
              "    }\n",
              "    90% {\n",
              "      border-color: transparent;\n",
              "      border-bottom-color: var(--fill-color);\n",
              "    }\n",
              "  }\n",
              "</style>\n",
              "\n",
              "  <script>\n",
              "    async function quickchart(key) {\n",
              "      const quickchartButtonEl =\n",
              "        document.querySelector('#' + key + ' button');\n",
              "      quickchartButtonEl.disabled = true;  // To prevent multiple clicks.\n",
              "      quickchartButtonEl.classList.add('colab-df-spinner');\n",
              "      try {\n",
              "        const charts = await google.colab.kernel.invokeFunction(\n",
              "            'suggestCharts', [key], {});\n",
              "      } catch (error) {\n",
              "        console.error('Error during call to suggestCharts:', error);\n",
              "      }\n",
              "      quickchartButtonEl.classList.remove('colab-df-spinner');\n",
              "      quickchartButtonEl.classList.add('colab-df-quickchart-complete');\n",
              "    }\n",
              "    (() => {\n",
              "      let quickchartButtonEl =\n",
              "        document.querySelector('#df-a32ddac2-4fa3-4747-8019-a3e700b7ec04 button');\n",
              "      quickchartButtonEl.style.display =\n",
              "        google.colab.kernel.accessAllowed ? 'block' : 'none';\n",
              "    })();\n",
              "  </script>\n",
              "</div>\n",
              "\n",
              "  <div id=\"id_235c7f8c-3848-40f5-a58d-4a9253e798f8\">\n",
              "    <style>\n",
              "      .colab-df-generate {\n",
              "        background-color: #E8F0FE;\n",
              "        border: none;\n",
              "        border-radius: 50%;\n",
              "        cursor: pointer;\n",
              "        display: none;\n",
              "        fill: #1967D2;\n",
              "        height: 32px;\n",
              "        padding: 0 0 0 0;\n",
              "        width: 32px;\n",
              "      }\n",
              "\n",
              "      .colab-df-generate:hover {\n",
              "        background-color: #E2EBFA;\n",
              "        box-shadow: 0px 1px 2px rgba(60, 64, 67, 0.3), 0px 1px 3px 1px rgba(60, 64, 67, 0.15);\n",
              "        fill: #174EA6;\n",
              "      }\n",
              "\n",
              "      [theme=dark] .colab-df-generate {\n",
              "        background-color: #3B4455;\n",
              "        fill: #D2E3FC;\n",
              "      }\n",
              "\n",
              "      [theme=dark] .colab-df-generate:hover {\n",
              "        background-color: #434B5C;\n",
              "        box-shadow: 0px 1px 3px 1px rgba(0, 0, 0, 0.15);\n",
              "        filter: drop-shadow(0px 1px 2px rgba(0, 0, 0, 0.3));\n",
              "        fill: #FFFFFF;\n",
              "      }\n",
              "    </style>\n",
              "    <button class=\"colab-df-generate\" onclick=\"generateWithVariable('x2_plot')\"\n",
              "            title=\"Generate code using this dataframe.\"\n",
              "            style=\"display:none;\">\n",
              "\n",
              "  <svg xmlns=\"http://www.w3.org/2000/svg\" height=\"24px\"viewBox=\"0 0 24 24\"\n",
              "       width=\"24px\">\n",
              "    <path d=\"M7,19H8.4L18.45,9,17,7.55,7,17.6ZM5,21V16.75L18.45,3.32a2,2,0,0,1,2.83,0l1.4,1.43a1.91,1.91,0,0,1,.58,1.4,1.91,1.91,0,0,1-.58,1.4L9.25,21ZM18.45,9,17,7.55Zm-12,3A5.31,5.31,0,0,0,4.9,8.1,5.31,5.31,0,0,0,1,6.5,5.31,5.31,0,0,0,4.9,4.9,5.31,5.31,0,0,0,6.5,1,5.31,5.31,0,0,0,8.1,4.9,5.31,5.31,0,0,0,12,6.5,5.46,5.46,0,0,0,6.5,12Z\"/>\n",
              "  </svg>\n",
              "    </button>\n",
              "    <script>\n",
              "      (() => {\n",
              "      const buttonEl =\n",
              "        document.querySelector('#id_235c7f8c-3848-40f5-a58d-4a9253e798f8 button.colab-df-generate');\n",
              "      buttonEl.style.display =\n",
              "        google.colab.kernel.accessAllowed ? 'block' : 'none';\n",
              "\n",
              "      buttonEl.onclick = () => {\n",
              "        google.colab.notebook.generateWithVariable('x2_plot');\n",
              "      }\n",
              "      })();\n",
              "    </script>\n",
              "  </div>\n",
              "\n",
              "    </div>\n",
              "  </div>\n"
            ],
            "application/vnd.google.colaboratory.intrinsic+json": {
              "type": "dataframe",
              "variable_name": "x2_plot",
              "summary": "{\n  \"name\": \"x2_plot\",\n  \"rows\": 250,\n  \"fields\": [\n    {\n      \"column\": \"x\",\n      \"properties\": {\n        \"dtype\": \"number\",\n        \"std\": 5.80827125834448,\n        \"min\": 0.0,\n        \"max\": 20.0,\n        \"num_unique_values\": 250,\n        \"samples\": [\n          11.405622489959839,\n          0.4819277108433735,\n          7.791164658634538\n        ],\n        \"semantic_type\": \"\",\n        \"description\": \"\"\n      }\n    },\n    {\n      \"column\": \"x2\",\n      \"properties\": {\n        \"dtype\": \"number\",\n        \"std\": 120.00506431700191,\n        \"min\": 0.0,\n        \"max\": 400.0,\n        \"num_unique_values\": 250,\n        \"samples\": [\n          130.08822438347767,\n          0.2322543184787342,\n          60.70224673795584\n        ],\n        \"semantic_type\": \"\",\n        \"description\": \"\"\n      }\n    }\n  ]\n}"
            }
          },
          "metadata": {},
          "execution_count": 110
        }
      ],
      "source": [
        "x2_plot"
      ]
    },
    {
      "cell_type": "code",
      "execution_count": null,
      "metadata": {
        "id": "6cBiSZ2Dbizv"
      },
      "outputs": [],
      "source": [
        "y2_plot = sqr_result.predict(x2_plot)"
      ]
    },
    {
      "cell_type": "code",
      "execution_count": null,
      "metadata": {
        "colab": {
          "base_uri": "https://localhost:8080/",
          "height": 466
        },
        "id": "HPab04Bjbizv",
        "outputId": "9830de46-5669-42f9-fa7f-af46e849e2a6"
      },
      "outputs": [
        {
          "output_type": "execute_result",
          "data": {
            "text/plain": [
              "Text(9.0, 100, '$y = 101.37 -0.43x +0.0042x^2$')"
            ]
          },
          "metadata": {},
          "execution_count": 112
        },
        {
          "output_type": "display_data",
          "data": {
            "text/plain": [
              "<Figure size 640x480 with 1 Axes>"
            ],
            "image/png": "[encoded data removed]"
          },
          "metadata": {}
        }
      ],
      "source": [
        "a = result.params[\"Intercept\"]\n",
        "b = result.params[\"x\"]\n",
        "a0 = sqr_result.params[\"Intercept\"]\n",
        "a1 = sqr_result.params[\"x\"]\n",
        "a2 = sqr_result.params[\"x2\"]\n",
        "fig,ax = plt.subplots()\n",
        "ax.set_xlabel(r'$x$')\n",
        "ax.set_ylabel(r'$y$')\n",
        "ax.scatter(ScatterData[\"x\"],ScatterData[\"y\"])\n",
        "ax.plot(x_plot.values,y_plot,\"r-\",linewidth=3)\n",
        "ax.plot(x_plot.values,y2_plot,\"g-\",linewidth=3)\n",
        "ax.text(9.0,101,r\"$y = {:.2f} {:+.2g}x$\".format(a,b),color=\"red\")\n",
        "ax.text(9.0,100,r\"$y = {:.2f} {:+.2g}x {:+.2g}x^2$\".format(a0,a1,a2),color=\"green\")"
      ]
    },
    {
      "cell_type": "markdown",
      "metadata": {
        "id": "SidhCMnZbizv"
      },
      "source": [
        "### Non linear regression"
      ]
    },
    {
      "cell_type": "markdown",
      "metadata": {
        "id": "csoJuot9bizw"
      },
      "source": [
        "When we want to make a non linear regression, for instance to fit with a model as $y=a_0+a_1*\\exp{a_2*x}$, an optimization method to compute mininum squares has to be performed. We use then the [_optimize_](https://docs.scipy.org/doc/scipy/reference/tutorial/optimize.html) module of scipy, and, in particular, the [curve_fit](https://docs.scipy.org/doc/scipy/reference/generated/scipy.optimize.curve_fit.html#scipy.optimize.curve_fit) method."
      ]
    },
    {
      "cell_type": "code",
      "execution_count": null,
      "metadata": {
        "id": "KFnaszEDbizw"
      },
      "outputs": [],
      "source": [
        "import scipy.optimize as opt\n",
        "import numpy as np\n",
        "import matplotlib.pyplot as plt"
      ]
    },
    {
      "cell_type": "markdown",
      "metadata": {
        "id": "PQAUMPZDbizw"
      },
      "source": [
        "We load the data. Now it can be just with an array instead of a pandas DataFrame."
      ]
    },
    {
      "cell_type": "code",
      "execution_count": null,
      "metadata": {
        "id": "vFICcKNibizw"
      },
      "outputs": [],
      "source": [
        "[xdata,ydata] = np.loadtxt(\"Scatter_data.csv\",delimiter=',').T #The traspose has to be made in order to load columns instead of rows"
      ]
    },
    {
      "cell_type": "code",
      "execution_count": null,
      "metadata": {
        "colab": {
          "base_uri": "https://localhost:8080/",
          "height": 447
        },
        "id": "LGIfWhEtbizw",
        "outputId": "589144f9-e865-4fcd-b748-5fc3a03144e2"
      },
      "outputs": [
        {
          "output_type": "execute_result",
          "data": {
            "text/plain": [
              "<matplotlib.collections.PathCollection at 0x7936ad18c7d0>"
            ]
          },
          "metadata": {},
          "execution_count": 115
        },
        {
          "output_type": "display_data",
          "data": {
            "text/plain": [
              "<Figure size 640x480 with 1 Axes>"
            ],
            "image/png": "[encoded data removed]"
          },
          "metadata": {}
        }
      ],
      "source": [
        "fig,ac = plt.subplots()\n",
        "ac.scatter(xdata,ydata)"
      ]
    },
    {
      "cell_type": "markdown",
      "metadata": {
        "id": "P_M1WB0Bbizw"
      },
      "source": [
        "We define the fitting function (our model) with the independent variable $x$, and the set of parameters (the parameters name is free)"
      ]
    },
    {
      "cell_type": "code",
      "execution_count": null,
      "metadata": {
        "id": "tDxxx7Rfbizw"
      },
      "outputs": [],
      "source": [
        "def f(x,a0,a1,a2):\n",
        "    return a0+a1*np.exp(a2*x)"
      ]
    },
    {
      "cell_type": "markdown",
      "metadata": {
        "id": "7O0h6AOFbizw"
      },
      "source": [
        "And we perform the curve fitting. Note the `p0` argument. It gives an initial guess. Otherwise the iterative process can be very long and eventually, it an fail. It gives two results. The first is the solution. The second is the covariance matrix. The diagonal of this matrix is the statistical variance of the solutions."
      ]
    },
    {
      "cell_type": "code",
      "execution_count": null,
      "metadata": {
        "id": "RcShYiF9bizw"
      },
      "outputs": [],
      "source": [
        "popt, pcov = opt.curve_fit(f,xdata,ydata, p0=[100,1,-1])"
      ]
    },
    {
      "cell_type": "code",
      "execution_count": null,
      "metadata": {
        "id": "Hs6wJVYJbizx"
      },
      "outputs": [],
      "source": [
        "[a0,a1,a2] = popt"
      ]
    },
    {
      "cell_type": "markdown",
      "metadata": {
        "id": "Y3JjjLVLbizx"
      },
      "source": [
        "Let's calculate the predicted values of a uniform $x$ distribution"
      ]
    },
    {
      "cell_type": "code",
      "execution_count": null,
      "metadata": {
        "id": "mwDo-0U-bizx"
      },
      "outputs": [],
      "source": [
        "xdata_plot = np.linspace(0,20,250)\n",
        "ydata_plot = f(xdata_plot,a0,a1,a2)"
      ]
    },
    {
      "cell_type": "markdown",
      "metadata": {
        "id": "EpfrJY4vbizx"
      },
      "source": [
        "And let's plot it, with comparison with linear regression."
      ]
    },
    {
      "cell_type": "code",
      "execution_count": null,
      "metadata": {
        "colab": {
          "base_uri": "https://localhost:8080/",
          "height": 447
        },
        "id": "-hhN0-zubizx",
        "outputId": "29cf515a-99e3-4cb1-a558-e3b25b7c53dc"
      },
      "outputs": [
        {
          "output_type": "execute_result",
          "data": {
            "text/plain": [
              "Text(9.0, 100, '$y = 84.38 +17e^{a2 x}$')"
            ]
          },
          "metadata": {},
          "execution_count": 120
        },
        {
          "output_type": "display_data",
          "data": {
            "text/plain": [
              "<Figure size 640x480 with 1 Axes>"
            ],
            "image/png": "[encoded data removed]"
          },
          "metadata": {}
        }
      ],
      "source": [
        "fig,ax = plt.subplots()\n",
        "ax.scatter(xdata,ydata)\n",
        "ax.plot(x_plot.values,y_plot,\"r-\",linewidth=3)\n",
        "ax.plot(xdata_plot,ydata_plot,\"g-\",linewidth=3)\n",
        "ax.text(9.0,101,r\"$y = {:.2f} {:+.2g}x$\".format(a,b),color=\"red\")\n",
        "ax.text(9.0,100,r\"$y = {:.2f} {:+.2g}e^{{a2 x}}$\".format(a0,a1,a2),color=\"green\")"
      ]
    },
    {
      "cell_type": "markdown",
      "metadata": {
        "id": "SNSB-Y4Vbizx"
      },
      "source": [
        "The statsmodel ols gives the R-squared as part of the results."
      ]
    },
    {
      "cell_type": "code",
      "execution_count": null,
      "metadata": {
        "colab": {
          "base_uri": "https://localhost:8080/",
          "height": 37
        },
        "id": "MQl0jNspbizx",
        "outputId": "1aea0765-26ce-4492-e0bb-217e249c3d79"
      },
      "outputs": [
        {
          "output_type": "execute_result",
          "data": {
            "text/plain": [
              "0.7032344859482857"
            ],
            "text/latex": "$\\displaystyle 0.703234485948286$"
          },
          "metadata": {},
          "execution_count": 121
        }
      ],
      "source": [
        "result.rsquared"
      ]
    },
    {
      "cell_type": "markdown",
      "metadata": {
        "id": "jKuT5LHfbizy"
      },
      "source": [
        "The scipy optimize doesn't do this computation, but it is easy to perform by hand, as stated in this [stackoverflow](https://stackoverflow.com/questions/19189362/getting-the-r-squared-value-using-curve-fit) answer, according to [wikipedia page](https://en.wikipedia.org/wiki/Coefficient_of_determination#Definitions)."
      ]
    },
    {
      "cell_type": "code",
      "execution_count": null,
      "metadata": {
        "id": "51E3H7ISbizy"
      },
      "outputs": [],
      "source": [
        "residuals = ydata - f(xdata,a0,a1,a2)\n",
        "ss_res = np.sum(residuals**2)\n",
        "ss_tot = np.sum((ydata-np.mean(ydata))**2)\n",
        "r_squared = 1 - (ss_res / ss_tot)"
      ]
    },
    {
      "cell_type": "code",
      "execution_count": null,
      "metadata": {
        "colab": {
          "base_uri": "https://localhost:8080/",
          "height": 37
        },
        "id": "fu9CGDrzbizy",
        "outputId": "bb4bb3f2-5a2b-48fc-933b-027f7e2e4636"
      },
      "outputs": [
        {
          "output_type": "execute_result",
          "data": {
            "text/plain": [
              "0.7062968765510402"
            ],
            "text/latex": "$\\displaystyle 0.70629687655104$"
          },
          "metadata": {},
          "execution_count": 123
        }
      ],
      "source": [
        "r_squared"
      ]
    },
    {
      "cell_type": "markdown",
      "metadata": {
        "id": "akqhBj0-bizy"
      },
      "source": [
        "In the next command, the [watermark](https://github.com/rasbt/watermark/blob/master/README.md) extension is used in order to register the version of the libraries used in the Notebook. This is useful for the reproductibility."
      ]
    },
    {
      "cell_type": "code",
      "execution_count": null,
      "metadata": {
        "colab": {
          "base_uri": "https://localhost:8080/"
        },
        "id": "GJhn25S5bizy",
        "outputId": "1f105ccd-d122-4f34-fcdc-a2f5c9fae8a9"
      },
      "outputs": [
        {
          "output_type": "stream",
          "name": "stdout",
          "text": [
            "Python implementation: CPython\n",
            "Python version       : 3.11.11\n",
            "IPython version      : 7.34.0\n",
            "\n",
            "Compiler    : GCC 11.4.0\n",
            "OS          : Linux\n",
            "Release     : 6.1.85+\n",
            "Machine     : x86_64\n",
            "Processor   : x86_64\n",
            "CPU cores   : 2\n",
            "Architecture: 64bit\n",
            "\n",
            "pandas     : 2.2.2\n",
            "patsy      : 1.0.1\n",
            "numpy      : 1.26.4\n",
            "matplotlib : 3.10.0\n",
            "scipy      : 1.13.1\n",
            "statsmodels: 0.14.4\n",
            "\n"
          ]
        }
      ],
      "source": [
        "try:\n",
        "    %load_ext watermark\n",
        "except:\n",
        "    !pip install watermark\n",
        "%watermark -v -m -iv"
      ]
    },
    {
      "cell_type": "code",
      "execution_count": null,
      "metadata": {
        "id": "rg7Zo0a1bizy"
      },
      "outputs": [],
      "source": []
    }
  ],
  "metadata": {
    "kernelspec": {
      "display_name": "Python 3 (ipykernel)",
      "language": "python",
      "name": "python3"
    },
    "language_info": {
      "codemirror_mode": {
        "name": "ipython",
        "version": 3
      },
      "file_extension": ".py",
      "mimetype": "text/x-python",
      "name": "python",
      "nbconvert_exporter": "python",
      "pygments_lexer": "ipython3",
      "version": "3.8.15"
    },
    "toc-autonumbering": false,
    "toc-showcode": false,
    "colab": {
      "provenance": [],
      "include_colab_link": true
    }
  },
  "nbformat": 4,
  "nbformat_minor": 0
}