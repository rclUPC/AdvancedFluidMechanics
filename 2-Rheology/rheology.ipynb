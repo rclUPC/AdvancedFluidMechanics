{
  "cells": [
    {
      "cell_type": "markdown",
      "metadata": {
        "id": "view-in-github",
        "colab_type": "text"
      },
      "source": [
        "<a href=\"https://colab.research.google.com/github/rclUPC/AdvancedFluidMechanics/blob/main/2-Rheology/rheology.ipynb\" target=\"_parent\"><img src=\"https://colab.research.google.com/assets/colab-badge.svg\" alt=\"Open In Colab\"/></a>"
      ]
    },
    {
      "cell_type": "markdown",
      "metadata": {
        "id": "-_e1QsuKorpH"
      },
      "source": [
        "# Rheology. A brief introduction\n",
        "\n",
        "## 1. Classification of fluids\n",
        "\n",
        "This notebook is based principally on the [book by Irgens](https://discovery.upc.edu/permalink/34CSUC_UPC/rdgucl/alma991004877454506711) and also on the classical [book by Bird](https://discovery.upc.edu/permalink/34CSUC_UPC/rdgucl/alma991000497999706711). Also chapter chapter 7 in the book of [Engineerign Fluid Mechanics, by H. Yamaguchi](https://discovery.upc.edu/permalink/34CSUC_UPC/rdgucl/alma991004878455306711) has been used.\n",
        "\n",
        "Very briefly, when we have studied Fluid Mechanics, we have focused on fluids that meet Newton's law for shear stress,\n",
        "\n",
        "$$ \\tau = \\mu \\dot\\gamma \\tag{1}$$\n",
        "\n",
        "for 2-D flow, where $\\tau$ is the shear stres, $\\dot\\gamma$ is the shear rate. $\\mu$ is the _dynamic viscosity_, or just _viscosity_, of the fluid.\n",
        "\n",
        "Water, air and other molecularly simple fluids obey this law. But most of the liquids do not. [Rheology](https://en.wikipedia.org/wiki/Rheology) is the branch of science and technology that studies this kind of non-linear behaviour, both in solids and in fluids. We are focusing in this part in the rheology of fluids.\n",
        "\n",
        "A fluid is called _pure viscous_ if the shear rate is only function of shear stress\n",
        "\n",
        "$$ \\tau = f(\\dot\\gamma) \\tag{2}$$\n",
        "\n",
        "This function can be linear in the case of **Newtonian fluids** or non-linear in the case of **non Newtonian fluids** (also known as rheological fluids).\n",
        "\n",
        "In general, for pure viscous fluids, an _apparent viscosity_ can be defined as\n",
        "\n",
        "$$ \\mu (\\dot\\gamma) = \\frac{\\tau}{\\dot\\gamma} \\tag{3}$$\n",
        "\n",
        "The most common model is the **Generalized Newtonian Fluids**, that is modeled with the [**power law**](https://en.wikipedia.org/wiki/Power-law_fluid), also known as Ostwald-de Waele law, where shear stress is modelled as\n",
        "\n",
        "$$ \\tau = K \\dot\\gamma^n \\tag{4}$$\n",
        "\n",
        "so\n",
        "\n",
        "$$ \\mu(\\dot\\gamma) = K (\\dot{\\gamma})^{n-1} \\tag{5}$$\n",
        "\n",
        "$K$ is the _consistency parameter_ and $n$ is the power law index\n",
        "\n",
        "* When $n = 1$ the fluid is Newtonian and $K$ is just its viscosity\n",
        "* When $n < 1$ apparent viscosity decreases with shear rate and the fluid is classified as _pseudoplastic_ or [_shear thinning_](https://en.wikipedia.org/wiki/Shear_thinning). Most non-Newtonian fluids are of this type, like paints, [blood](http://www.maths.gla.ac.uk/~xl/Arasu-biofluid.pdf), and most of food liquids (juices, creams, soups,...)\n",
        "* When $n > 1$ apparent viscosity increases with shear rate and the fluid is known as dilatant or [_shear thickening_](https://en.wikipedia.org/wiki/Dilatant#Examples). This is much less common, and the typical example is the cornstarch (maicena) which allow [funny experiments](https://www.youtube.com/watch?v=q-DZ0f0_NCA)\n",
        "\n",
        "![image.png](https://github.com/rclUPC/AdvancedFluidMechanics/blob/main/2-Rheology/powerLawRheogram.png?raw=1)\n",
        "\n",
        "Other type of behavior is the [**viscoplastic fluid**](https://en.wikipedia.org/wiki/Viscoplasticity) that behave as solid for a shear stress lower than a limit value, known as _yield shear stress_, and as a fluid fow larger values of the shear stress.\n",
        "\n",
        "![image.png](https://github.com/rclUPC/AdvancedFluidMechanics/blob/main/2-Rheology/BinghamRheogram.png?raw=1)\n",
        "\n",
        "The most simple model is the [_Bingham fluid_](https://en.wikipedia.org/wiki/Bingham_plastic) ([Bingham](https://en.wikipedia.org/wiki/Eugene_C._Bingham) was the inventor of the name \"Rheology\"). Theses fluids behave like newtonian for shear stress larger than the yield shear stress. This model is tipycally used for toothpaste, mud or slurries. It is mathematically modeled as\n",
        "\n",
        "$$ \\tau(\\dot\\gamma) = \\tau_y + \\mu \\dot\\gamma \\tag{6}$$\n",
        "\n",
        "There are also some **Time Dependent** models as [_Thixotropic fluids_](https://en.wikipedia.org/wiki/Thixotropy) when shear stress decreases in time for a constant shear rate, and [_Rheopectic fluids_](https://en.wikipedia.org/wiki/Rheopecty) otherwise. These kind of fluids are beyond the scope of this course\n",
        "\n",
        "\n",
        "## 2. Generalized Newtonian Fluids\n",
        "\n",
        "### Power Law Fluid in a pipe\n",
        "\n",
        "Let's consider a very slow flow and/or very small, so that inertial and time terms can be neglected.\n",
        "\n",
        "We have seen in Fluid Mechanics that for a Newtonian Fluid, [Hagen-Poiseuille law](https://en.wikipedia.org/wiki/Hagen%E2%80%93Poiseuille_equation#Derivation) holds, according to the Navier Stokes equation for a laminar, viscous flow\n",
        "\n",
        "$$\n",
        "0 =  -\\frac{\\partial p}{\\partial z} + \\frac{1}{r}\\frac{\\partial}{\\partial r}\\left(r \\tau_{rz}\\right) \\tag{7}\n",
        "$$\n",
        "\n",
        "giving a paraboloid velocity profile and a flowrate\n",
        "\n",
        "$$ Q = \\frac{\\Delta p \\pi R^4}{8\\mu L} \\tag{8}$$\n",
        "\n",
        "provided that, as a Newtonian fluid, $\\tau_{rz} = \\mu \\dot\\gamma = \\mu \\frac{\\partial u_z}{\\partial r} $.\n",
        "\n",
        "Now, with a Power Law Fluid, $\\tau_{rz} = K(\\dot\\gamma)^n$, it leads to\n",
        "\n",
        "$$ \\frac{\\text{d} u_z}{\\text{d}r} = \\left[ \\frac{1}{2K}\\left(\\frac{\\text{d}p}{\\text{d}z}\\right)r\\right]^\\frac{1}{n} = \\left[ \\frac{1}{2K}\\left(-\\frac{\\Delta p}{L}\\right)r\\right]^\\frac{1}{n} \\tag{9} $$"
      ]
    },
    {
      "cell_type": "code",
      "execution_count": 1,
      "metadata": {
        "id": "LZZ5geKgorpR"
      },
      "outputs": [],
      "source": [
        "import numpy as np\n",
        "import sympy as sp\n",
        "sp.init_printing()\n",
        "from IPython.display import display, Math"
      ]
    },
    {
      "cell_type": "code",
      "execution_count": 2,
      "metadata": {
        "id": "R_no7H9SorpR"
      },
      "outputs": [],
      "source": [
        "K,Deltap,L,r,n,R = sp.symbols('K {\\Delta}p L r n R',positive=True)\n",
        "uz = sp.Function('u_z')"
      ]
    },
    {
      "cell_type": "code",
      "execution_count": 3,
      "metadata": {
        "id": "8wT6JZ-HorpR",
        "outputId": "a14583ef-540d-4cf0-ba37-3b59b68dbd2a",
        "colab": {
          "base_uri": "https://localhost:8080/",
          "height": 63
        }
      },
      "outputs": [
        {
          "output_type": "display_data",
          "data": {
            "text/plain": [
              "                 _______________\n",
              "d               ╱ -r⋅{\\Delta}p  \n",
              "──(u_z(r)) = n ╱  ───────────── \n",
              "dr           ╲╱       2⋅K⋅L     "
            ],
            "text/latex": "$\\displaystyle \\frac{d}{d r} u_{z}{\\left(r \\right)} = \\left(- \\frac{r {\\Delta}p}{2 K L}\\right)^{\\frac{1}{n}}$"
          },
          "metadata": {}
        }
      ],
      "source": [
        "Eq = sp.Eq(uz(r).diff(r),(1/(2*K)*(-Deltap/L)*r)**(1/n))\n",
        "display(Eq)"
      ]
    },
    {
      "cell_type": "markdown",
      "metadata": {
        "id": "u8sUzbmaorpR"
      },
      "source": [
        "First, we integrate it and try to simplify it a little bit ..."
      ]
    },
    {
      "cell_type": "code",
      "execution_count": 4,
      "metadata": {
        "id": "FtF9EUn-orpR"
      },
      "outputs": [],
      "source": [
        "exp = (1/(2*K)*(-Deltap/L)*r)**(1/n)"
      ]
    },
    {
      "cell_type": "code",
      "execution_count": 5,
      "metadata": {
        "id": "2tdc7bEborpS",
        "outputId": "5981db1c-5878-46ea-87c0-9b5d31aabca5",
        "colab": {
          "base_uri": "https://localhost:8080/",
          "height": 71
        }
      },
      "outputs": [
        {
          "output_type": "display_data",
          "data": {
            "text/plain": [
              "<IPython.core.display.Math object>"
            ],
            "text/latex": "$\\displaystyle u_z(r) =\\frac{2 K L n \\left(\\frac{1}{2 K L}\\right)^{\\frac{n + 1}{n}} \\left(- \\left(- R {\\Delta}p\\right)^{\\frac{n + 1}{n}} + \\left(- r {\\Delta}p\\right)^{\\frac{n + 1}{n}}\\right)}{{\\Delta}p \\left(n + 1\\right)}$"
          },
          "metadata": {}
        }
      ],
      "source": [
        "uz = sp.integrate(exp,(r,r,R)).simplify()\n",
        "uz.simplify()\n",
        "display(Math('u_z(r) ='+sp.latex(uz)))"
      ]
    },
    {
      "cell_type": "code",
      "execution_count": 6,
      "metadata": {
        "id": "GdfvsvKhorpS",
        "outputId": "433d5ff3-e52b-4caf-e71f-e8dec02d0508",
        "colab": {
          "base_uri": "https://localhost:8080/",
          "height": 67
        }
      },
      "outputs": [
        {
          "output_type": "display_data",
          "data": {
            "text/plain": [
              "<IPython.core.display.Math object>"
            ],
            "text/latex": "$\\displaystyle u_z(r) =\\frac{\\left(-1\\right)^{\\frac{n + 1}{n}} n {\\Delta}p^{-1 + \\frac{n + 1}{n}} \\left(2 K L\\right)^{1 - \\frac{n + 1}{n}} \\left(- R^{1 + \\frac{1}{n}} + r^{1 + \\frac{1}{n}}\\right)}{n + 1}$"
          },
          "metadata": {}
        }
      ],
      "source": [
        "uz = uz.factor(deep=True).powsimp()\n",
        "display(Math('u_z(r) ='+sp.latex(uz)))"
      ]
    },
    {
      "cell_type": "markdown",
      "metadata": {
        "id": "wDwBxKmuorpS"
      },
      "source": [
        "... just to integrate it again and obtain the flow rate in the pipe."
      ]
    },
    {
      "cell_type": "code",
      "execution_count": 7,
      "metadata": {
        "id": "whPSBOoAorpS",
        "outputId": "285085a5-28bc-4042-9a61-a91782206e12",
        "colab": {
          "base_uri": "https://localhost:8080/",
          "height": 73
        }
      },
      "outputs": [
        {
          "output_type": "display_data",
          "data": {
            "text/plain": [
              "<IPython.core.display.Math object>"
            ],
            "text/latex": "$\\displaystyle Q =\\frac{2 \\pi R^{3 + \\frac{1}{n}} n \\left(- \\frac{{\\Delta}p}{2 K L}\\right)^{\\frac{1}{n}}}{6 n + 2}$"
          },
          "metadata": {}
        }
      ],
      "source": [
        "Q = 2*sp.pi*sp.integrate(uz*r,(r,0,R)).simplify().powsimp()\n",
        "display(Math('Q ='+sp.latex(Q)))"
      ]
    },
    {
      "cell_type": "code",
      "execution_count": 8,
      "metadata": {
        "id": "DpJMNQxWorpS",
        "outputId": "ab093b2c-da40-4103-e1af-df91a8b0fac1",
        "colab": {
          "base_uri": "https://localhost:8080/",
          "height": 73
        }
      },
      "outputs": [
        {
          "output_type": "display_data",
          "data": {
            "text/plain": [
              "<IPython.core.display.Math object>"
            ],
            "text/latex": "$\\displaystyle Q =\\frac{\\pi R^{\\frac{3 n + 1}{n}} n \\left(- \\frac{{\\Delta}p}{2 K L}\\right)^{\\frac{1}{n}}}{3 n + 1}$"
          },
          "metadata": {}
        }
      ],
      "source": [
        "Q = Q.simplify()\n",
        "display(Math('Q ='+sp.latex(Q)))"
      ]
    },
    {
      "cell_type": "markdown",
      "metadata": {
        "id": "X8-Vr8bborpS"
      },
      "source": [
        "and, from here, the average velocity, so that we can normalize velocity profile"
      ]
    },
    {
      "cell_type": "code",
      "execution_count": 9,
      "metadata": {
        "id": "5M1p1OHHorpS",
        "outputId": "9ec9c3d5-90fb-4cae-e756-eb11420f36ce",
        "colab": {
          "base_uri": "https://localhost:8080/",
          "height": 76
        }
      },
      "outputs": [
        {
          "output_type": "display_data",
          "data": {
            "text/plain": [
              "<IPython.core.display.Math object>"
            ],
            "text/latex": "$\\displaystyle \\overline{u} = \\frac{R^{\\frac{3 n + 1}{n}} n \\left(- \\frac{{\\Delta}p}{2 K L}\\right)^{\\frac{1}{n}}}{R^{2} \\left(3 n + 1\\right)}$"
          },
          "metadata": {}
        }
      ],
      "source": [
        "u_avg = Q/(sp.pi*R**2)\n",
        "display(Math('\\overline{u} = '+sp.latex(u_avg)))"
      ]
    },
    {
      "cell_type": "code",
      "execution_count": 10,
      "metadata": {
        "id": "XCWXhh0lorpT",
        "outputId": "c8060a0f-d08d-4fd9-aaff-0404b216a7bb",
        "colab": {
          "base_uri": "https://localhost:8080/",
          "height": 67
        }
      },
      "outputs": [
        {
          "output_type": "display_data",
          "data": {
            "text/plain": [
              "<IPython.core.display.Math object>"
            ],
            "text/latex": "$\\displaystyle u^* = \\frac{R^{- \\frac{n + 1}{n}} \\left(R^{\\frac{n + 1}{n}} - r^{\\frac{n + 1}{n}}\\right) \\left(3 n + 1\\right)}{n + 1}$"
          },
          "metadata": {}
        }
      ],
      "source": [
        "u_dimless = uz/u_avg\n",
        "u_dimless = u_dimless.simplify()\n",
        "display(Math('u^* = '+sp.latex(u_dimless)))"
      ]
    },
    {
      "cell_type": "markdown",
      "metadata": {
        "id": "Ge2VDmd9orpT"
      },
      "source": [
        "In order to get it in dimensionless form, we just impose $R=1$ so that now $r$ is the dimensionless radius $0<r/R<1$"
      ]
    },
    {
      "cell_type": "code",
      "execution_count": 11,
      "metadata": {
        "id": "6Ng686kDorpT",
        "outputId": "3d9e4822-c24f-457a-fc16-c5dad1f42b84",
        "colab": {
          "base_uri": "https://localhost:8080/",
          "height": 67
        }
      },
      "outputs": [
        {
          "output_type": "display_data",
          "data": {
            "text/plain": [
              "<IPython.core.display.Math object>"
            ],
            "text/latex": "$\\displaystyle u^* = \\frac{\\left(1 - r^{\\frac{n + 1}{n}}\\right) \\left(3 n + 1\\right)}{n + 1}$"
          },
          "metadata": {}
        }
      ],
      "source": [
        "u_dimless = u_dimless.subs(R,1)\n",
        "display(Math('u^* = '+sp.latex(u_dimless)))"
      ]
    },
    {
      "cell_type": "markdown",
      "metadata": {
        "id": "__cwfacgorpT"
      },
      "source": [
        "### Plot of the velocity profile\n",
        "\n",
        "We are now plotting this dimensionless profile in order to see the effect of the parameter $n$.\n",
        "\n",
        "First we _lambdify_ the expression (that is, remember, to convert it to a numerical function of two variables in this case)"
      ]
    },
    {
      "cell_type": "code",
      "execution_count": 12,
      "metadata": {
        "id": "RYucL0MhorpT"
      },
      "outputs": [],
      "source": [
        "u_np = sp.lambdify((n,r),u_dimless)"
      ]
    },
    {
      "cell_type": "code",
      "execution_count": 13,
      "metadata": {
        "id": "fsjIZiAyorpT",
        "outputId": "f1400ded-2a74-46a7-b611-9f92d3bc9935",
        "colab": {
          "base_uri": "https://localhost:8080/",
          "height": 37
        }
      },
      "outputs": [
        {
          "output_type": "execute_result",
          "data": {
            "text/plain": [
              "1.875"
            ],
            "text/latex": "$\\displaystyle 1.875$"
          },
          "metadata": {},
          "execution_count": 13
        }
      ],
      "source": [
        "u_np(1,0.25) # Just to check it"
      ]
    },
    {
      "cell_type": "markdown",
      "metadata": {
        "id": "BFMI5xtNorpT"
      },
      "source": [
        "Now the [ipywidgets](https://ipywidgets.readthedocs.io/en/latest/) module is used. It is very useful to make interactive widgets. It only works in a dynamic environment, with a kernel; so you have to download the notebook and run it in Jupyterlab or Google Colaborative."
      ]
    },
    {
      "cell_type": "code",
      "execution_count": 14,
      "metadata": {
        "id": "MT7v5GKiorpU"
      },
      "outputs": [],
      "source": [
        "from ipywidgets import interactive\n",
        "import matplotlib.pyplot as plt"
      ]
    },
    {
      "cell_type": "code",
      "execution_count": 15,
      "metadata": {
        "colab": {
          "referenced_widgets": [
            "7850406e09024beab92f228033d21dfe",
            "584fef9fb98a4adda3194150eacf9a31",
            "f81c26f2f16142af918311ca69c264df",
            "c5e310aa69e840a885cbc1c7114ab0d4",
            "78f43d8a742a49aa9d6ab5e38aaf5b04",
            "6491e51f654c44d6a36b1247b835e336",
            "52296451b94747ccbd0cf6d4b18811d7"
          ],
          "base_uri": "https://localhost:8080/",
          "height": 399
        },
        "id": "N55x8goMorpU",
        "outputId": "080af45d-030a-4ae3-8e23-47d9f21977cb"
      },
      "outputs": [
        {
          "output_type": "display_data",
          "data": {
            "text/plain": [
              "interactive(children=(FloatSlider(value=1.0, description='n', max=2.0, min=0.01, step=0.01), Output(layout=Lay…"
            ],
            "application/vnd.jupyter.widget-view+json": {
              "version_major": 2,
              "version_minor": 0,
              "model_id": "7850406e09024beab92f228033d21dfe"
            }
          },
          "metadata": {}
        }
      ],
      "source": [
        "def f(n):\n",
        "    plt.figure(1,frameon=False)\n",
        "    x = np.linspace(-1, 1, num=500)\n",
        "    plt.xlim(-1, 1)\n",
        "    plt.ylim(0,3)\n",
        "    plt.plot(x,u_np(n,np.abs(x)),linewidth=4)\n",
        "    plt.plot(x,u_np(1,np.abs(x)),'--',label=r'$n=1$')\n",
        "    plt.legend()\n",
        "    plt.show()\n",
        "\n",
        "interactive_plot = interactive(f, n=(0.01, 2,0.01))\n",
        "output = interactive_plot.children[-1]\n",
        "output.layout.height = '350px'\n",
        "interactive_plot"
      ]
    },
    {
      "cell_type": "markdown",
      "metadata": {
        "id": "HEiG2AayorpV"
      },
      "source": [
        "### Exercise 1\n",
        "Check that dimensionless flowrate is independent of $n$. What is its value?\n",
        "\n",
        "### Exercise 2\n",
        "\n",
        "Reynolds number for power law fluids is defined differently than for a Newtonian fluid. Provided that the dimensionless stress $\\tau^*$ should be written in terms of a dimensionless strain rate $\\gamma^*$ as\n",
        "\n",
        "$$ \\tau^* = \\frac{1}{\\text{Re}_n}\\left(\\gamma^*\\right)^n $$\n",
        "\n",
        "Find the definition of $\\text{Re}_n$\n",
        "\n",
        "This number defines the similarity when experiments with two different power law fluids are performed.\n",
        "\n",
        "### Exercise 3\n",
        "\n",
        "As an exercise for this topic, it is proposed to make a similar study: the laminar velocity profile in a pipe for a Bingham plastic\n",
        "\n",
        "\n",
        "\n",
        "## 3. Viscoelastic fluids\n",
        "\n",
        "This is a complicated topic. Several constitutive equations have been proposed according to experimental results. Viscoelastic materials have both viscous and elastic behavior. Some examples are rubbers, melted glass and also some complex biofluids, as cytoplasm.\n",
        "\n",
        "Most of the cases in engineering can only be solved with CFD, due to the high non-linearity between constitutive equations, continuity and momentum balance. Here we are only focusing in simple cases with linear viscoelastic flows.\n",
        "\n",
        "In general, constitutive equations for linear viscoelastic material are linear relationship between shear stress, shear rate and its time derivative.\n",
        "\n",
        "$$ f(\\tau, \\frac{\\text{d}^n \\tau}{\\text{d}t^n},\\gamma, \\frac{\\text{d}^n \\gamma}{\\text{d}t^n}) = \\sum_{n=0}^{N} \\left( a_n \\frac{\\text{d}^n \\tau}{\\text{d}t^n} + b_n \\frac{\\text{d}^n \\gamma}{\\text{d}t^n}\\right)= 0$$\n",
        "\n",
        "\n",
        "### Maxwell element\n",
        "\n",
        "The most fundamental model is the so-called **Maxwell element**, composed of a combination in series of a viscous element, with viscosity $\\eta$ and a spring, with constant $G$.\n",
        "\n",
        "\n",
        "![Image](https://github.com/rclUPC/AdvancedFluidMechanics/blob/main/2-Rheology/Maxwell.png?raw=1)\n",
        "\n",
        "In this case, both stresses are the same, $\\tau_1= \\tau_2$, and the displacements$\\gamma$ are additive, $\\gamma = \\gamma_1 +\\gamma_2$. By deriving this last expression an arranging terms, we get\n",
        "\n",
        "$$ \\tau + \\lambda \\dot\\tau = \\eta \\dot\\gamma $$\n",
        "\n",
        "where $\\lambda = \\frac{\\eta}{G}$ is the _relaxation time_."
      ]
    },
    {
      "cell_type": "code",
      "execution_count": 16,
      "metadata": {
        "id": "YtSfebLOorpV"
      },
      "outputs": [],
      "source": [
        "%reset -f"
      ]
    },
    {
      "cell_type": "code",
      "execution_count": 17,
      "metadata": {
        "id": "i9CsiWJcorpV",
        "tags": []
      },
      "outputs": [],
      "source": [
        "import sympy as sp\n",
        "import numpy as np"
      ]
    },
    {
      "cell_type": "code",
      "execution_count": 18,
      "metadata": {
        "id": "Og6ypg0rorpV",
        "tags": []
      },
      "outputs": [],
      "source": [
        "t = sp.symbols('t')\n",
        "eta,G = sp.symbols('eta,G',positive=True,real=True)"
      ]
    },
    {
      "cell_type": "code",
      "execution_count": 19,
      "metadata": {
        "id": "5ReecJV3orpV",
        "tags": []
      },
      "outputs": [],
      "source": [
        "gamma = sp.Function('gamma')\n",
        "tau = sp.Function('tau')\n",
        "gammaDot = sp.Function('gammaDot')"
      ]
    },
    {
      "cell_type": "code",
      "execution_count": 20,
      "metadata": {
        "tags": [],
        "id": "IkKHZ2J0n6Cu",
        "outputId": "8aae5cae-2328-48c2-920d-2a7ee8ebd4fc",
        "colab": {
          "base_uri": "https://localhost:8080/",
          "height": 56
        }
      },
      "outputs": [
        {
          "output_type": "display_data",
          "data": {
            "text/plain": [
              "         d                    \n",
              "       η⋅──(τ(t))             \n",
              "         dt           d       \n",
              "τ(t) + ────────── = η⋅──(γ(t))\n",
              "           G          dt      "
            ],
            "text/latex": "$\\displaystyle \\tau{\\left(t \\right)} + \\frac{\\eta \\frac{d}{d t} \\tau{\\left(t \\right)}}{G} = \\eta \\frac{d}{d t} \\gamma{\\left(t \\right)}$"
          },
          "metadata": {}
        }
      ],
      "source": [
        "eq = sp.Eq(tau(t)+eta/G*tau(t).diff(t),eta*gamma(t).diff(t))\n",
        "display(eq)"
      ]
    },
    {
      "cell_type": "markdown",
      "metadata": {
        "id": "xbkbPNbin6Cu"
      },
      "source": [
        "In order to properly solve this equation, the hint that it is an [Bernoulli Differential Equation](https://en.wikipedia.org/wiki/Bernoulli_differential_equation) has to be passed to the solver."
      ]
    },
    {
      "cell_type": "code",
      "execution_count": 21,
      "metadata": {
        "id": "uPU_A0j1orpW",
        "tags": []
      },
      "outputs": [],
      "source": [
        "tauSol = sp.dsolve(eq,tau(t),hint='Bernoulli')"
      ]
    },
    {
      "cell_type": "code",
      "execution_count": 22,
      "metadata": {
        "colab": {
          "base_uri": "https://localhost:8080/",
          "height": 58
        },
        "id": "9x5mQUfuorpW",
        "outputId": "9107f3a2-7a3c-4872-a532-76b846c2361d",
        "tags": []
      },
      "outputs": [
        {
          "output_type": "execute_result",
          "data": {
            "text/plain": [
              "       ⎛       ⌠                 ⎞       \n",
              "       ⎜       ⎮  G⋅t            ⎟  -G⋅t \n",
              "       ⎜       ⎮  ───            ⎟  ─────\n",
              "       ⎜       ⎮   η  d          ⎟    η  \n",
              "τ(t) = ⎜C₁ + G⋅⎮ ℯ   ⋅──(γ(t)) dt⎟⋅ℯ     \n",
              "       ⎜       ⎮      dt         ⎟       \n",
              "       ⎝       ⌡                 ⎠       "
            ],
            "text/latex": "$\\displaystyle \\tau{\\left(t \\right)} = \\left(C_{1} + G \\int e^{\\frac{G t}{\\eta}} \\frac{d}{d t} \\gamma{\\left(t \\right)}\\, dt\\right) e^{- \\frac{G t}{\\eta}}$"
          },
          "metadata": {},
          "execution_count": 22
        }
      ],
      "source": [
        "tauSol"
      ]
    },
    {
      "cell_type": "markdown",
      "metadata": {
        "id": "CLZERumVorpW"
      },
      "source": [
        "Let's consider a first example in which $\\gamma(t)$ is a [step function](https://en.wikipedia.org/wiki/Step_function) with $\\gamma = 1$ for $t<0$ and then it is imposed as $\\gamma = 0$ again for positive time."
      ]
    },
    {
      "cell_type": "code",
      "execution_count": 23,
      "metadata": {
        "id": "mbHYvo0-orpW",
        "outputId": "85a7e2bc-3ba1-455a-8002-02cde7b744c0",
        "colab": {
          "base_uri": "https://localhost:8080/",
          "height": 41
        }
      },
      "outputs": [
        {
          "output_type": "display_data",
          "data": {
            "text/plain": [
              "           -G⋅t \n",
              "           ─────\n",
              "             η  \n",
              "τ(t) = C₁⋅ℯ     "
            ],
            "text/latex": "$\\displaystyle \\tau{\\left(t \\right)} = C_{1} e^{- \\frac{G t}{\\eta}}$"
          },
          "metadata": {}
        }
      ],
      "source": [
        "tauStep = tauSol.replace(gamma(t),sp.Piecewise((1,t<0),(0,t>=0))).doit()\n",
        "display(tauStep)"
      ]
    },
    {
      "cell_type": "markdown",
      "metadata": {
        "id": "pq72IBRtorpW"
      },
      "source": [
        "That is, stress is relaxed in time according to the value of viscosity and spring constant. Note that, in general, the value of the stress is not only function of $\\gamma$ and its derivative but also, _of its history_.\n",
        "\n",
        "$G e^{-\\frac{t}{\\lambda}}$ is the _relaxation modulus_.\n",
        "\n",
        "We could also write the expression for $\\tau(t)$ in terms of $\\gamma$ instead of $\\dot\\gamma$ by integrating by parts, and then we could obtain\n",
        "\n",
        "$\\tau(t) = - \\int \\frac{\\eta}{\\lambda^2}e^{-\\frac{t}{\\lambda}} \\gamma(t) dt$\n",
        "\n",
        "and the function $M(t) = \\frac{\\eta}{\\lambda^2}e^{-\\frac{t}{\\lambda}}$ is called the _memory function_\n"
      ]
    },
    {
      "cell_type": "markdown",
      "metadata": {
        "id": "DkyMd05morpW"
      },
      "source": [
        "Let's now consider that we impose to shear an harmonic constraint\n",
        "\n",
        "$$ \\gamma(t) = a\\sin(\\omega t) $$\n",
        "\n",
        "and we can measure stress."
      ]
    },
    {
      "cell_type": "code",
      "execution_count": 24,
      "metadata": {
        "id": "Wp94N9uTorpW",
        "outputId": "20205b02-d70d-4d87-97f2-f2e2bbae74db",
        "colab": {
          "base_uri": "https://localhost:8080/",
          "height": 57
        }
      },
      "outputs": [
        {
          "output_type": "display_data",
          "data": {
            "text/plain": [
              "           -G⋅t                                          \n",
              "           ─────    2                       2  2         \n",
              "             η     G ⋅a⋅η⋅ω⋅cos(ω⋅t)   G⋅a⋅η ⋅ω ⋅sin(ω⋅t)\n",
              "τ(t) = C₁⋅ℯ      + ───────────────── + ──────────────────\n",
              "                       2    2  2            2    2  2    \n",
              "                      G  + η ⋅ω            G  + η ⋅ω     "
            ],
            "text/latex": "$\\displaystyle \\tau{\\left(t \\right)} = C_{1} e^{- \\frac{G t}{\\eta}} + \\frac{G^{2} a \\eta \\omega \\cos{\\left(\\omega t \\right)}}{G^{2} + \\eta^{2} \\omega^{2}} + \\frac{G a \\eta^{2} \\omega^{2} \\sin{\\left(\\omega t \\right)}}{G^{2} + \\eta^{2} \\omega^{2}}$"
          },
          "metadata": {}
        }
      ],
      "source": [
        "omega,a = sp.symbols('omega,a',positive=True,real=True)\n",
        "tauSin = tauSol.replace(gamma(t),a*sp.sin(omega*t)).doit()\n",
        "tauSin = tauSin.expand()\n",
        "display(tauSin)"
      ]
    },
    {
      "cell_type": "markdown",
      "metadata": {
        "id": "rh_5jwuSorpX"
      },
      "source": [
        "After a while, when relaxation time has passed, the first term, $C_1 e^{-\\frac{Gt}{\\eta}}$, can be neglected"
      ]
    },
    {
      "cell_type": "code",
      "execution_count": 25,
      "metadata": {
        "id": "FiVztJgDorpX",
        "outputId": "d73ece3a-ccda-41ee-afa7-fddec5a15236",
        "colab": {
          "base_uri": "https://localhost:8080/",
          "height": 57
        }
      },
      "outputs": [
        {
          "output_type": "display_data",
          "data": {
            "text/plain": [
              "        2                       2  2         \n",
              "       G ⋅a⋅η⋅ω⋅cos(ω⋅t)   G⋅a⋅η ⋅ω ⋅sin(ω⋅t)\n",
              "τ(t) = ───────────────── + ──────────────────\n",
              "           2    2  2            2    2  2    \n",
              "          G  + η ⋅ω            G  + η ⋅ω     "
            ],
            "text/latex": "$\\displaystyle \\tau{\\left(t \\right)} = \\frac{G^{2} a \\eta \\omega \\cos{\\left(\\omega t \\right)}}{G^{2} + \\eta^{2} \\omega^{2}} + \\frac{G a \\eta^{2} \\omega^{2} \\sin{\\left(\\omega t \\right)}}{G^{2} + \\eta^{2} \\omega^{2}}$"
          },
          "metadata": {}
        }
      ],
      "source": [
        "tauSinInf=tauSin.replace(tauSin.rhs.args[0],0)\n",
        "display(tauSinInf)"
      ]
    },
    {
      "cell_type": "markdown",
      "metadata": {
        "id": "2XE3j6GuorpX"
      },
      "source": [
        "The modulus that multiplies the sinus term is known as $G'$, the **storage modulus**, and measures the ability of the fluid to store elastic energy."
      ]
    },
    {
      "cell_type": "code",
      "execution_count": 26,
      "metadata": {
        "id": "RW5lUR4JorpX"
      },
      "outputs": [],
      "source": [
        "GPrime1,GPrime2 = sp.symbols('G\\',G\\'\\'',positive=True,real=True)"
      ]
    },
    {
      "cell_type": "code",
      "execution_count": 27,
      "metadata": {
        "id": "vS_5iJuporpX",
        "outputId": "f2c9bfca-99d1-48e8-e669-b9b2413cc837",
        "colab": {
          "base_uri": "https://localhost:8080/",
          "height": 57
        }
      },
      "outputs": [
        {
          "output_type": "display_data",
          "data": {
            "text/plain": [
              "    2  2  \n",
              " G⋅η ⋅ω   \n",
              "──────────\n",
              " 2    2  2\n",
              "G  + η ⋅ω "
            ],
            "text/latex": "$\\displaystyle \\frac{G \\eta^{2} \\omega^{2}}{G^{2} + \\eta^{2} \\omega^{2}}$"
          },
          "metadata": {}
        }
      ],
      "source": [
        "GPrime1 = tauSinInf.rhs.args[0]/(a*sp.sin(omega*t))\n",
        "display(GPrime1)"
      ]
    },
    {
      "cell_type": "markdown",
      "metadata": {
        "id": "2unvjVtForpX"
      },
      "source": [
        "The modulus that multiplies the cosinus term is known as $G''$, the **loss modulus**, and measures the ability of the fluid to lose energy through viscous dissipation."
      ]
    },
    {
      "cell_type": "code",
      "execution_count": 28,
      "metadata": {
        "id": "iIr7DGr2orpX",
        "outputId": "ffc94dba-b5fa-498f-871c-07d6db08ad84",
        "colab": {
          "base_uri": "https://localhost:8080/",
          "height": 57
        }
      },
      "outputs": [
        {
          "output_type": "display_data",
          "data": {
            "text/plain": [
              "   2      \n",
              "  G ⋅η⋅ω  \n",
              "──────────\n",
              " 2    2  2\n",
              "G  + η ⋅ω "
            ],
            "text/latex": "$\\displaystyle \\frac{G^{2} \\eta \\omega}{G^{2} + \\eta^{2} \\omega^{2}}$"
          },
          "metadata": {}
        }
      ],
      "source": [
        "GPrime2 = tauSinInf.rhs.args[1]/(a*sp.cos(omega*t))\n",
        "display(GPrime2)"
      ]
    },
    {
      "cell_type": "markdown",
      "metadata": {
        "id": "d0FYxSVBorpY"
      },
      "source": [
        "We can write this moduli in terms of characteristic time (let me use here $t_c$ since $\\lambda$ confuses python with the `lambda` function)"
      ]
    },
    {
      "cell_type": "code",
      "execution_count": 29,
      "metadata": {
        "id": "XXOxxIjeorpY",
        "outputId": "d150d97a-fe42-4c2d-ab26-d21f7698c08e",
        "colab": {
          "base_uri": "https://localhost:8080/",
          "height": 97
        }
      },
      "outputs": [
        {
          "output_type": "display_data",
          "data": {
            "text/plain": [
              "    2    2 \n",
              " G⋅ω ⋅t_c  \n",
              "───────────\n",
              " 2    2    \n",
              "ω ⋅t_c  + 1"
            ],
            "text/latex": "$\\displaystyle \\frac{G \\omega^{2} t_{c}^{2}}{\\omega^{2} t_{c}^{2} + 1}$"
          },
          "metadata": {}
        },
        {
          "output_type": "display_data",
          "data": {
            "text/plain": [
              "  G⋅ω⋅t_c  \n",
              "───────────\n",
              " 2    2    \n",
              "ω ⋅t_c  + 1"
            ],
            "text/latex": "$\\displaystyle \\frac{G \\omega t_{c}}{\\omega^{2} t_{c}^{2} + 1}$"
          },
          "metadata": {}
        }
      ],
      "source": [
        "tc = sp.symbols('t_c',positive=True,real=True)\n",
        "GPrime1 = GPrime1.subs(eta,tc*G).simplify()\n",
        "GPrime2 = GPrime2.subs(eta,tc*G).simplify()\n",
        "display(GPrime1)\n",
        "display(GPrime2)"
      ]
    },
    {
      "cell_type": "markdown",
      "metadata": {
        "id": "myhyR97TorpY"
      },
      "source": [
        "We can estimate the behavior of this two parameters as function of the frequency $\\omega$ of the experiment, using the dimensionless time $\\epsilon = \\omega t_c$"
      ]
    },
    {
      "cell_type": "code",
      "execution_count": 30,
      "metadata": {
        "id": "nkRp49SWorpY",
        "outputId": "170b701d-4653-4581-f4c0-38415b42af29",
        "colab": {
          "base_uri": "https://localhost:8080/",
          "height": 91
        }
      },
      "outputs": [
        {
          "output_type": "display_data",
          "data": {
            "text/plain": [
              "    2 \n",
              " G⋅ε  \n",
              "──────\n",
              " 2    \n",
              "ε  + 1"
            ],
            "text/latex": "$\\displaystyle \\frac{G \\epsilon^{2}}{\\epsilon^{2} + 1}$"
          },
          "metadata": {}
        },
        {
          "output_type": "display_data",
          "data": {
            "text/plain": [
              " G⋅ε  \n",
              "──────\n",
              " 2    \n",
              "ε  + 1"
            ],
            "text/latex": "$\\displaystyle \\frac{G \\epsilon}{\\epsilon^{2} + 1}$"
          },
          "metadata": {}
        }
      ],
      "source": [
        "epsilon = sp.symbols('epsilon',positive=True,real=True)\n",
        "GPrime1 = GPrime1.replace(omega,epsilon/tc)\n",
        "GPrime2 = GPrime2.replace(omega,epsilon/tc)\n",
        "display(GPrime1)\n",
        "display(GPrime2)"
      ]
    },
    {
      "cell_type": "markdown",
      "metadata": {
        "id": "llFT2HjcorpY"
      },
      "source": [
        "Let's plot it..."
      ]
    },
    {
      "cell_type": "code",
      "execution_count": 31,
      "metadata": {
        "id": "kZ2LW5oAorpY"
      },
      "outputs": [],
      "source": [
        "GPrime1_f = sp.lambdify(epsilon,GPrime1/G)\n",
        "GPrime2_f = sp.lambdify(epsilon,GPrime2/G)"
      ]
    },
    {
      "cell_type": "code",
      "execution_count": 32,
      "metadata": {
        "id": "S_Zk1e9ForpY"
      },
      "outputs": [],
      "source": [
        "tt = np.arange(0,5,0.01)"
      ]
    },
    {
      "cell_type": "code",
      "execution_count": 33,
      "metadata": {
        "id": "wjx-2jk1orpY"
      },
      "outputs": [],
      "source": [
        "GPrime1_values = GPrime1_f(tt)\n",
        "GPrime2_values = GPrime2_f(tt)"
      ]
    },
    {
      "cell_type": "code",
      "execution_count": 34,
      "metadata": {
        "id": "KbsHTpOoorpY",
        "tags": []
      },
      "outputs": [],
      "source": [
        "import matplotlib.pyplot as plt"
      ]
    },
    {
      "cell_type": "code",
      "execution_count": 35,
      "metadata": {
        "id": "EGJXe6eForpZ",
        "tags": [],
        "outputId": "e64c055f-1009-4d46-840e-bb6836155266",
        "colab": {
          "base_uri": "https://localhost:8080/",
          "height": 407
        }
      },
      "outputs": [
        {
          "output_type": "execute_result",
          "data": {
            "text/plain": [
              "<matplotlib.legend.Legend at 0x796b830b95d0>"
            ]
          },
          "metadata": {},
          "execution_count": 35
        },
        {
          "output_type": "display_data",
          "data": {
            "text/plain": [
              "<Figure size 800x400 with 1 Axes>"
            ],
            "image/png": "[encoded data removed]"
          },
          "metadata": {}
        }
      ],
      "source": [
        "fig,ax = plt.subplots(figsize=(8,4))\n",
        "ax.plot(tt,GPrime1_values,label=r'$G^\\prime$')\n",
        "ax.plot(tt,GPrime2_values,label=r'$G^{\\prime\\prime} $')\n",
        "ax.plot(tt,GPrime1_values+GPrime2_values,linewidth=3,label=r'$G^\\prime + G^{\\prime\\prime} $')\n",
        "ax.set_xlabel(r'$\\omega t_c$')\n",
        "ax.legend()"
      ]
    },
    {
      "cell_type": "markdown",
      "metadata": {
        "id": "lgV2NKMJorpZ"
      },
      "source": [
        "The value of $\\tau$ for large $\\omega$ gives $G^\\prime$, the storage modulus. The slope of the curve for small $\\omega$ allows the estimation of $G^{\\prime\\prime}$ the loss modulus and, hence, the viscous component of the fluid. That is the fundamentals of the [oscillatory rheometers](http://www.mate.tue.nl/~wyss/home/resources/publications/2007/Wyss_GIT_Lab_J_2007.pdf)"
      ]
    },
    {
      "cell_type": "markdown",
      "metadata": {
        "id": "PT4aNb32orpZ"
      },
      "source": [
        "### Voigth-Kelvin element\n",
        "\n",
        "However, Maxwell model does not explain most of the viscoelastic behavior. Another option is the  Voigth, or Kelvin, element\n",
        "\n",
        "![Image](https://github.com/rclUPC/AdvancedFluidMechanics/blob/main/2-Rheology/VoigthKelvin.png?raw=1)\n",
        "\n",
        "In this element the strain $\\gamma$ (displacement) are the same, and the stress $\\tau$ (forces) are additives\n",
        "\n",
        "$$ \\gamma_1 = \\gamma_2 = \\gamma $$\n",
        "\n",
        "$$\\tau = \\tau_1 + \\tau_2 = G\\gamma + \\eta \\dot\\gamma $$"
      ]
    },
    {
      "cell_type": "code",
      "execution_count": 36,
      "metadata": {
        "id": "nZEwME4horpZ"
      },
      "outputs": [],
      "source": [
        "%reset -f"
      ]
    },
    {
      "cell_type": "code",
      "execution_count": 37,
      "metadata": {
        "id": "IreaQ8-QorpZ",
        "tags": []
      },
      "outputs": [],
      "source": [
        "import sympy as sp\n",
        "import numpy as np"
      ]
    },
    {
      "cell_type": "code",
      "execution_count": 38,
      "metadata": {
        "id": "ow9YbQGRorpZ",
        "tags": []
      },
      "outputs": [],
      "source": [
        "t = sp.symbols('t')\n",
        "eta,G = sp.symbols('eta,G',positive=True,real=True)"
      ]
    },
    {
      "cell_type": "code",
      "execution_count": 39,
      "metadata": {
        "id": "KH_CKg8aorpZ",
        "tags": []
      },
      "outputs": [],
      "source": [
        "gamma = sp.Function('gamma')\n",
        "tau = sp.Function('tau')\n",
        "gammaDot = sp.Function('gammaDot')"
      ]
    },
    {
      "cell_type": "code",
      "execution_count": 40,
      "metadata": {
        "id": "o_bDrSS7orpa",
        "tags": [],
        "outputId": "6aa19dd4-b1b0-4b28-9b73-3f3ef4f670a8",
        "colab": {
          "base_uri": "https://localhost:8080/",
          "height": 52
        }
      },
      "outputs": [
        {
          "output_type": "display_data",
          "data": {
            "text/plain": [
              "                  d       \n",
              "τ(t) = G⋅γ(t) + η⋅──(γ(t))\n",
              "                  dt      "
            ],
            "text/latex": "$\\displaystyle \\tau{\\left(t \\right)} = G \\gamma{\\left(t \\right)} + \\eta \\frac{d}{d t} \\gamma{\\left(t \\right)}$"
          },
          "metadata": {}
        }
      ],
      "source": [
        "eq = sp.Eq(tau(t),G*gamma(t) + eta*gamma(t).diff(t))\n",
        "display(eq)"
      ]
    },
    {
      "cell_type": "code",
      "execution_count": 41,
      "metadata": {
        "id": "x54XQVBLorpa",
        "outputId": "8d1021d0-731a-42b1-a40b-030cb8aff005",
        "colab": {
          "base_uri": "https://localhost:8080/",
          "height": 88
        }
      },
      "outputs": [
        {
          "output_type": "execute_result",
          "data": {
            "text/plain": [
              "       ⎛                 0             ⎞       \n",
              "       ⎜                 ⌠             ⎟       \n",
              "       ⎜⌠                ⎮       G⋅t   ⎟       \n",
              "       ⎜⎮       G⋅t      ⎮       ───   ⎟       \n",
              "       ⎜⎮       ───      ⎮        η    ⎟       \n",
              "       ⎜⎮        η       ⎮ τ(t)⋅ℯ    dt⎟  -G⋅t \n",
              "       ⎜⎮ τ(t)⋅ℯ    dt   ⌡             ⎟  ─────\n",
              "       ⎜⌡                              ⎟    η  \n",
              "γ(t) = ⎜────────────── - ──────────────⎟⋅ℯ     \n",
              "       ⎝      η                η       ⎠       "
            ],
            "text/latex": "$\\displaystyle \\gamma{\\left(t \\right)} = \\left(\\frac{\\int \\tau{\\left(t \\right)} e^{\\frac{G t}{\\eta}}\\, dt}{\\eta} - \\frac{\\int\\limits^{0} \\tau{\\left(t \\right)} e^{\\frac{G t}{\\eta}}\\, dt}{\\eta}\\right) e^{- \\frac{G t}{\\eta}}$"
          },
          "metadata": {},
          "execution_count": 41
        }
      ],
      "source": [
        "gammaSol = sp.dsolve(eq,gamma(t),simplify=True,ics={gamma(0):0},hint='Bernoulli')\n",
        "gammaSol"
      ]
    },
    {
      "cell_type": "markdown",
      "metadata": {
        "id": "WpL4GdN9orpa"
      },
      "source": [
        "In a **creep experiment**, a constant stress is applied and then the element is released"
      ]
    },
    {
      "cell_type": "code",
      "execution_count": 42,
      "metadata": {
        "id": "4zZiswRNorpa",
        "outputId": "c43ba91c-4c3e-4f76-aff6-c591290239cb",
        "colab": {
          "base_uri": "https://localhost:8080/",
          "height": 150
        }
      },
      "outputs": [
        {
          "output_type": "display_data",
          "data": {
            "text/plain": [
              "       ⎛⎧      G⋅t                  ⎞       \n",
              "       ⎜⎪      ───                  ⎟       \n",
              "       ⎜⎪       η                   ⎟       \n",
              "       ⎜⎪η⋅τ₀⋅ℯ                     ⎟       \n",
              "       ⎜⎪─────────   for t < t₁     ⎟       \n",
              "       ⎜⎪    G                      ⎟       \n",
              "       ⎜⎨                           ⎟       \n",
              "       ⎜⎪      G⋅t₁                 ⎟       \n",
              "       ⎜⎪      ────                 ⎟       \n",
              "       ⎜⎪       η                   ⎟       \n",
              "       ⎜⎪η⋅τ₀⋅ℯ                     ⎟  -G⋅t \n",
              "       ⎜⎪──────────  otherwise      ⎟  ─────\n",
              "       ⎜⎩    G                    τ₀⎟    η  \n",
              "γ(t) = ⎜─────────────────────── - ──⎟⋅ℯ     \n",
              "       ⎝           η              G ⎠       "
            ],
            "text/latex": "$\\displaystyle \\gamma{\\left(t \\right)} = \\left(\\frac{\\begin{cases} \\frac{\\eta \\tau_{0} e^{\\frac{G t}{\\eta}}}{G} & \\text{for}\\: t < t_{1} \\\\\\frac{\\eta \\tau_{0} e^{\\frac{G t_{1}}{\\eta}}}{G} & \\text{otherwise} \\end{cases}}{\\eta} - \\frac{\\tau_{0}}{G}\\right) e^{- \\frac{G t}{\\eta}}$"
          },
          "metadata": {}
        }
      ],
      "source": [
        "t1,tau0 = sp.symbols('t_1,tau_0',positive=True)\n",
        "gammaSolTau0 = gammaSol.replace(tau(t),sp.Piecewise((tau0,t<t1),(0,t>=t1))).doit()\n",
        "display(gammaSolTau0)"
      ]
    },
    {
      "cell_type": "code",
      "execution_count": 43,
      "metadata": {
        "id": "9Nj0Xwqsorpa",
        "outputId": "49f946ee-d74f-4703-d19f-76c59b909818",
        "colab": {
          "base_uri": "https://localhost:8080/",
          "height": 90
        }
      },
      "outputs": [
        {
          "output_type": "display_data",
          "data": {
            "text/plain": [
              "       ⎧            -t                \n",
              "       ⎪            ───               \n",
              "       ⎪            t_c               \n",
              "       ⎪   τ₀   τ₀⋅ℯ                  \n",
              "       ⎪   ── - ───────     for t < t₁\n",
              "       ⎪   G       G                  \n",
              "γ(t) = ⎨                              \n",
              "       ⎪   ⎛ t₁     ⎞  -t             \n",
              "       ⎪   ⎜ ───    ⎟  ───            \n",
              "       ⎪   ⎜ t_c    ⎟  t_c            \n",
              "       ⎪τ₀⋅⎝ℯ    - 1⎠⋅ℯ               \n",
              "       ⎪──────────────────  otherwise \n",
              "       ⎩        G                     "
            ],
            "text/latex": "$\\displaystyle \\gamma{\\left(t \\right)} = \\begin{cases} \\frac{\\tau_{0}}{G} - \\frac{\\tau_{0} e^{- \\frac{t}{t_{c}}}}{G} & \\text{for}\\: t < t_{1} \\\\\\frac{\\tau_{0} \\left(e^{\\frac{t_{1}}{t_{c}}} - 1\\right) e^{- \\frac{t}{t_{c}}}}{G} & \\text{otherwise} \\end{cases}$"
          },
          "metadata": {}
        }
      ],
      "source": [
        "tc = sp.symbols('t_c',positive=True)\n",
        "gammaSolTau0 = gammaSolTau0.replace(eta,G*tc).simplify()\n",
        "display(gammaSolTau0)"
      ]
    },
    {
      "cell_type": "markdown",
      "metadata": {
        "id": "k6W0MZkworpa"
      },
      "source": [
        "$$\\xi(t) = \\gamma(t) \\frac{G}{\\tau_0}$$"
      ]
    },
    {
      "cell_type": "code",
      "execution_count": 44,
      "metadata": {
        "id": "KB__PhE1orpa",
        "outputId": "ce10d60d-f3dd-4845-950b-d7260314ea8b",
        "colab": {
          "base_uri": "https://localhost:8080/",
          "height": 72
        }
      },
      "outputs": [
        {
          "output_type": "display_data",
          "data": {
            "text/plain": [
              "       ⎧        -t                 \n",
              "       ⎪        ───                \n",
              "       ⎪        t_c                \n",
              "       ⎪   1 - ℯ         for t < t₁\n",
              "ξ(t) = ⎨                           \n",
              "       ⎪⎛ t₁     ⎞  -t             \n",
              "       ⎪⎜ ───    ⎟  ───            \n",
              "       ⎪⎜ t_c    ⎟  t_c            \n",
              "       ⎩⎝ℯ    - 1⎠⋅ℯ     otherwise "
            ],
            "text/latex": "$\\displaystyle \\xi{\\left(t \\right)} = \\begin{cases} 1 - e^{- \\frac{t}{t_{c}}} & \\text{for}\\: t < t_{1} \\\\\\left(e^{\\frac{t_{1}}{t_{c}}} - 1\\right) e^{- \\frac{t}{t_{c}}} & \\text{otherwise} \\end{cases}$"
          },
          "metadata": {}
        }
      ],
      "source": [
        "xi = sp.Function('xi')\n",
        "xiEq = sp.Eq(xi(t),gammaSolTau0.rhs.replace(tau0,G))\n",
        "display(xiEq)"
      ]
    },
    {
      "cell_type": "code",
      "execution_count": 45,
      "metadata": {
        "id": "W0rCquTKorpa",
        "outputId": "6f5b1ac1-af4c-44ef-e541-18229fea1590",
        "colab": {
          "base_uri": "https://localhost:8080/",
          "height": 68
        }
      },
      "outputs": [
        {
          "output_type": "display_data",
          "data": {
            "text/plain": [
              "       ⎧        -ε                       \n",
              "       ⎪   1 - ℯ       for ε⋅t_c < ε₁⋅t_c\n",
              "ξ(ε) = ⎨                                 \n",
              "       ⎪⎛ ε₁    ⎞  -ε                    \n",
              "       ⎩⎝ℯ   - 1⎠⋅ℯ        otherwise     "
            ],
            "text/latex": "$\\displaystyle \\xi{\\left(\\epsilon \\right)} = \\begin{cases} 1 - e^{- \\epsilon} & \\text{for}\\: \\epsilon t_{c} < \\epsilon_{1} t_{c} \\\\\\left(e^{\\epsilon_{1}} - 1\\right) e^{- \\epsilon} & \\text{otherwise} \\end{cases}$"
          },
          "metadata": {}
        }
      ],
      "source": [
        "epsilon,epsilon1 = sp.symbols('epsilon, epsilon_1',positive=True)\n",
        "xiEq = sp.Eq(xi(epsilon),xiEq.rhs.replace(t,tc*epsilon).replace(t1,tc*epsilon1))\n",
        "display(xiEq)"
      ]
    },
    {
      "cell_type": "code",
      "execution_count": 46,
      "metadata": {
        "id": "EY6u_BUWorpa"
      },
      "outputs": [],
      "source": [
        "xi_f = sp.lambdify((epsilon,epsilon1),xiEq.rhs)"
      ]
    },
    {
      "cell_type": "code",
      "execution_count": 47,
      "metadata": {
        "id": "fxTEdPo-orpb"
      },
      "outputs": [],
      "source": [
        "tt = np.arange(0,5,0.01)\n",
        "epsilon1 = 2\n",
        "xi_values = xi_f(tt,epsilon1)"
      ]
    },
    {
      "cell_type": "code",
      "execution_count": 48,
      "metadata": {
        "id": "ffzIJzaForpb",
        "tags": []
      },
      "outputs": [],
      "source": [
        "import matplotlib.pyplot as plt"
      ]
    },
    {
      "cell_type": "code",
      "execution_count": 49,
      "metadata": {
        "id": "BvUZki6Morpb",
        "tags": [],
        "outputId": "8673db0e-c8f8-46ba-ff75-85584820a875",
        "colab": {
          "base_uri": "https://localhost:8080/",
          "height": 415
        }
      },
      "outputs": [
        {
          "output_type": "execute_result",
          "data": {
            "text/plain": [
              "<matplotlib.legend.Legend at 0x796b80acf550>"
            ]
          },
          "metadata": {},
          "execution_count": 49
        },
        {
          "output_type": "display_data",
          "data": {
            "text/plain": [
              "<Figure size 800x400 with 1 Axes>"
            ],
            "image/png": "[encoded data removed]"
          },
          "metadata": {}
        }
      ],
      "source": [
        "fig,ax = plt.subplots(figsize=(8,4))\n",
        "ax.plot(tt,xi_values,label=r'$\\gamma\\frac{G}{\\tau_0}$')\n",
        "ax.set_xlabel(r'$\\frac{t}{\\lambda}$')\n",
        "ax.legend()"
      ]
    },
    {
      "cell_type": "markdown",
      "metadata": {
        "id": "t2EjaxQworpb"
      },
      "source": [
        "In this case, the characteristic time $\\lambda = \\frac{\\eta}{G}$ is called **retardation time**. This model describes the behavior of a viscoelastic solid."
      ]
    },
    {
      "cell_type": "markdown",
      "metadata": {
        "id": "XyyyrabGorpb"
      },
      "source": [
        "### Jeffreys-Burger element\n",
        "\n",
        "However, Maxwell and Voight elements are not able to describe correctly real viscoelastic materials. The are several complex combinations of this elements, and the more usual is the Jeffreys (or Burger) element that replaces in the Maxwell element the spring by a Voight element.\n",
        "\n",
        "![Image](https://github.com/rclUPC/AdvancedFluidMechanics/blob/main/2-Rheology/JeffreysBurger.png?raw=1)\n",
        "\n",
        "Stress in both parts are the same\n",
        "\n",
        "$$\n",
        "\\tau = \\eta_1 \\dot\\gamma_1\n",
        "$$\n",
        "$$\n",
        "\\tau = G_2\\gamma_2 + \\eta_2\\dot\\gamma_2\n",
        "$$\n",
        "\n",
        "and, on the other side,\n",
        "\n",
        "$$\n",
        "\\gamma = \\gamma_1 + \\gamma_2\n",
        "$$\n",
        "$$\n",
        "\\dot\\gamma = \\dot\\gamma_1 + \\dot\\gamma_2\n",
        "$$\n",
        "\n",
        "By combining these equations, we can obtain\n",
        "\n",
        "$$ \\tau + \\lambda_1\\dot\\tau = \\eta_0\\left(\\dot\\gamma + \\lambda_2\\ddot\\gamma\\right)$$\n",
        "\n",
        "with\n",
        "\n",
        "$$\n",
        "\\lambda_1 = \\frac{\\eta_1+\\eta_2}{G_2}\\\\\n",
        "\\eta_0 = \\eta_1 \\\\\n",
        "\\lambda_2 = \\frac{\\eta_2}{G_2}\n",
        "$$\n",
        "\n",
        "There is a viscosity $\\eta_0$ (or $\\eta_1$), which is known as the viscosity of the fluid part (considered newtonian) and two characteristic times, $\\lambda_1$ and $\\lambda_2$, which are the relaxation and the retardation times, respectively."
      ]
    },
    {
      "cell_type": "code",
      "execution_count": 50,
      "metadata": {
        "id": "x8gK96yJorpb"
      },
      "outputs": [],
      "source": [
        "%reset -f"
      ]
    },
    {
      "cell_type": "code",
      "execution_count": 51,
      "metadata": {
        "id": "NFKuTNn2orpb",
        "tags": []
      },
      "outputs": [],
      "source": [
        "import sympy as sp\n",
        "import numpy as np"
      ]
    },
    {
      "cell_type": "code",
      "execution_count": 52,
      "metadata": {
        "id": "v4igC8F2orpc",
        "tags": []
      },
      "outputs": [],
      "source": [
        "t = sp.symbols('t')\n",
        "eta1,eta2,G2 = sp.symbols('eta_1,eta_2,G_2',positive=True,real=True)"
      ]
    },
    {
      "cell_type": "code",
      "execution_count": 53,
      "metadata": {
        "id": "J8lzCRf4orpc",
        "tags": []
      },
      "outputs": [],
      "source": [
        "gamma = sp.Function('gamma')\n",
        "tau = sp.Function('tau')"
      ]
    },
    {
      "cell_type": "code",
      "execution_count": 54,
      "metadata": {
        "id": "5RBpK8qCorpc",
        "tags": [],
        "outputId": "ae9005f6-2d27-4088-aa46-33563c10cdac",
        "colab": {
          "base_uri": "https://localhost:8080/",
          "height": 61
        }
      },
      "outputs": [
        {
          "output_type": "display_data",
          "data": {
            "text/plain": [
              "                                              2       \n",
              "                                             d        \n",
              "                 d                        η₂⋅───(γ(t))\n",
              "       (η₁ + η₂)⋅──(τ(t))                      2      \n",
              "                 dt            d             dt       \n",
              "τ(t) + ────────────────── = η₁⋅──(γ(t)) + ────────────\n",
              "               G₂              dt              G₂     "
            ],
            "text/latex": "$\\displaystyle \\tau{\\left(t \\right)} + \\frac{\\left(\\eta_{1} + \\eta_{2}\\right) \\frac{d}{d t} \\tau{\\left(t \\right)}}{G_{2}} = \\eta_{1} \\frac{d}{d t} \\gamma{\\left(t \\right)} + \\frac{\\eta_{2} \\frac{d^{2}}{d t^{2}} \\gamma{\\left(t \\right)}}{G_{2}}$"
          },
          "metadata": {}
        }
      ],
      "source": [
        "eq = sp.Eq(tau(t)+(eta1+eta2)/G2*tau(t).diff(t),eta1*gamma(t).diff(t)+eta2/G2*gamma(t).diff(t,2))\n",
        "display(eq)"
      ]
    },
    {
      "cell_type": "code",
      "execution_count": 55,
      "metadata": {
        "id": "8DZn9kOUorpc",
        "tags": []
      },
      "outputs": [],
      "source": [
        "tauSol = sp.dsolve(eq,tau(t),hint='Bernoulli').doit()"
      ]
    },
    {
      "cell_type": "code",
      "execution_count": 56,
      "metadata": {
        "id": "tU6NtxGIorpc",
        "tags": [],
        "outputId": "79b498ad-7012-4ce7-e852-31fb8da59717",
        "colab": {
          "base_uri": "https://localhost:8080/",
          "height": 72
        }
      },
      "outputs": [
        {
          "output_type": "display_data",
          "data": {
            "text/plain": [
              "                                                       ⌠                      \n",
              "                           ⌠                           ⎮   G₂⋅t               \n",
              "                           ⎮   G₂⋅t                    ⎮  ───────  2          \n",
              "                           ⎮  ───────                  ⎮  η₁ + η₂ d           \n",
              "                           ⎮  η₁ + η₂ d             η₂⋅⎮ ℯ       ⋅───(γ(t)) dt\n",
              "           -G₂⋅t     G₂⋅η₁⋅⎮ ℯ       ⋅──(γ(t)) dt      ⎮            2         \n",
              "           ───────         ⎮          dt               ⎮          dt          \n",
              "           η₁ + η₂         ⌡                           ⌡                      \n",
              "τ(t) = C₁⋅ℯ        + ──────────────────────────── + ──────────────────────────\n",
              "                           G₂⋅t          G₂⋅t            G₂⋅t          G₂⋅t   \n",
              "                          ───────       ───────         ───────       ─────── \n",
              "                          η₁ + η₂       η₁ + η₂         η₁ + η₂       η₁ + η₂ \n",
              "                      η₁⋅ℯ        + η₂⋅ℯ            η₁⋅ℯ        + η₂⋅ℯ        "
            ],
            "text/latex": "$\\displaystyle \\tau{\\left(t \\right)} = C_{1} e^{- \\frac{G_{2} t}{\\eta_{1} + \\eta_{2}}} + \\frac{G_{2} \\eta_{1} \\int e^{\\frac{G_{2} t}{\\eta_{1} + \\eta_{2}}} \\frac{d}{d t} \\gamma{\\left(t \\right)}\\, dt}{\\eta_{1} e^{\\frac{G_{2} t}{\\eta_{1} + \\eta_{2}}} + \\eta_{2} e^{\\frac{G_{2} t}{\\eta_{1} + \\eta_{2}}}} + \\frac{\\eta_{2} \\int e^{\\frac{G_{2} t}{\\eta_{1} + \\eta_{2}}} \\frac{d^{2}}{d t^{2}} \\gamma{\\left(t \\right)}\\, dt}{\\eta_{1} e^{\\frac{G_{2} t}{\\eta_{1} + \\eta_{2}}} + \\eta_{2} e^{\\frac{G_{2} t}{\\eta_{1} + \\eta_{2}}}}$"
          },
          "metadata": {}
        }
      ],
      "source": [
        "tauSol = tauSol.expand()\n",
        "display(tauSol)"
      ]
    },
    {
      "cell_type": "markdown",
      "metadata": {
        "id": "ZbQDIBVDorpc"
      },
      "source": [
        "Again, first term can be neglected after a while"
      ]
    },
    {
      "cell_type": "code",
      "execution_count": 57,
      "metadata": {
        "id": "IWxCdlWjorpc",
        "outputId": "d5351027-e83e-42a2-eec4-72ba09d98b19",
        "colab": {
          "base_uri": "https://localhost:8080/",
          "height": 72
        }
      },
      "outputs": [
        {
          "output_type": "display_data",
          "data": {
            "text/plain": [
              "                                         ⌠                      \n",
              "             ⌠                           ⎮   G₂⋅t               \n",
              "             ⎮   G₂⋅t                    ⎮  ───────  2          \n",
              "             ⎮  ───────                  ⎮  η₁ + η₂ d           \n",
              "             ⎮  η₁ + η₂ d             η₂⋅⎮ ℯ       ⋅───(γ(t)) dt\n",
              "       G₂⋅η₁⋅⎮ ℯ       ⋅──(γ(t)) dt      ⎮            2         \n",
              "             ⎮          dt               ⎮          dt          \n",
              "             ⌡                           ⌡                      \n",
              "τ(t) = ──────────────────────────── + ──────────────────────────\n",
              "             G₂⋅t          G₂⋅t            G₂⋅t          G₂⋅t   \n",
              "            ───────       ───────         ───────       ─────── \n",
              "            η₁ + η₂       η₁ + η₂         η₁ + η₂       η₁ + η₂ \n",
              "        η₁⋅ℯ        + η₂⋅ℯ            η₁⋅ℯ        + η₂⋅ℯ        "
            ],
            "text/latex": "$\\displaystyle \\tau{\\left(t \\right)} = \\frac{G_{2} \\eta_{1} \\int e^{\\frac{G_{2} t}{\\eta_{1} + \\eta_{2}}} \\frac{d}{d t} \\gamma{\\left(t \\right)}\\, dt}{\\eta_{1} e^{\\frac{G_{2} t}{\\eta_{1} + \\eta_{2}}} + \\eta_{2} e^{\\frac{G_{2} t}{\\eta_{1} + \\eta_{2}}}} + \\frac{\\eta_{2} \\int e^{\\frac{G_{2} t}{\\eta_{1} + \\eta_{2}}} \\frac{d^{2}}{d t^{2}} \\gamma{\\left(t \\right)}\\, dt}{\\eta_{1} e^{\\frac{G_{2} t}{\\eta_{1} + \\eta_{2}}} + \\eta_{2} e^{\\frac{G_{2} t}{\\eta_{1} + \\eta_{2}}}}$"
          },
          "metadata": {}
        }
      ],
      "source": [
        "tauSolInf=tauSol.replace(tauSol.rhs.args[0],0)\n",
        "display(tauSolInf)"
      ]
    },
    {
      "cell_type": "markdown",
      "metadata": {
        "id": "J9x7ZnFRorpc"
      },
      "source": [
        "### Extension to vectorial notation\n",
        "\n",
        "Maxwell model is written, in vector and tensor notation as\n",
        "\n",
        "$$ \\boldsymbol{\\tau} + \\lambda \\stackrel{\\triangledown}{\\boldsymbol{\\tau}} = \\eta \\boldsymbol{\\dot\\gamma} = \\eta \\left(\\nabla \\boldsymbol{u} + \\nabla \\boldsymbol{u}^T \\right) $$\n",
        "\n",
        "where $\\stackrel{\\triangledown}{\\boldsymbol{\\tau}}$ is the Upper Convective Time Derivative, defined as\n",
        "\n",
        "$$ \\stackrel{\\triangledown}{\\boldsymbol{\\tau}} = \\dot{\\boldsymbol{\\tau}} - \\nabla \\boldsymbol{u}\\cdot\\boldsymbol{\\tau} - \\boldsymbol{\\tau}\\cdot \\nabla \\boldsymbol{u}^T $$\n",
        "\n",
        "In a similar way, Jeffreys model is written as\n",
        "\n",
        "$$ \\boldsymbol{\\tau} + \\lambda_1 \\stackrel{\\triangledown}{\\boldsymbol{\\tau}} = \\eta \\left( \\boldsymbol{\\dot\\gamma} + \\lambda_2 \\stackrel{\\triangledown}{\\boldsymbol{\\dot\\gamma}}\\right) $$\n",
        "\n",
        "known as the [**Oldroyd-B** model](https://en.wikipedia.org/wiki/Oldroyd-B_model)"
      ]
    },
    {
      "cell_type": "code",
      "execution_count": 58,
      "metadata": {
        "id": "bQ2lrnBFn6C7",
        "outputId": "ec09f3c8-94e8-4e21-8520-a95d001c8e8e",
        "colab": {
          "base_uri": "https://localhost:8080/"
        }
      },
      "outputs": [
        {
          "output_type": "stream",
          "name": "stdout",
          "text": [
            "Collecting watermark\n",
            "  Downloading watermark-2.5.0-py2.py3-none-any.whl.metadata (1.4 kB)\n",
            "Requirement already satisfied: ipython>=6.0 in /usr/local/lib/python3.11/dist-packages (from watermark) (7.34.0)\n",
            "Requirement already satisfied: importlib-metadata>=1.4 in /usr/local/lib/python3.11/dist-packages (from watermark) (8.6.1)\n",
            "Requirement already satisfied: setuptools in /usr/local/lib/python3.11/dist-packages (from watermark) (75.1.0)\n",
            "Requirement already satisfied: zipp>=3.20 in /usr/local/lib/python3.11/dist-packages (from importlib-metadata>=1.4->watermark) (3.21.0)\n",
            "Collecting jedi>=0.16 (from ipython>=6.0->watermark)\n",
            "  Downloading jedi-0.19.2-py2.py3-none-any.whl.metadata (22 kB)\n",
            "Requirement already satisfied: decorator in /usr/local/lib/python3.11/dist-packages (from ipython>=6.0->watermark) (4.4.2)\n",
            "Requirement already satisfied: pickleshare in /usr/local/lib/python3.11/dist-packages (from ipython>=6.0->watermark) (0.7.5)\n",
            "Requirement already satisfied: traitlets>=4.2 in /usr/local/lib/python3.11/dist-packages (from ipython>=6.0->watermark) (5.7.1)\n",
            "Requirement already satisfied: prompt-toolkit!=3.0.0,!=3.0.1,<3.1.0,>=2.0.0 in /usr/local/lib/python3.11/dist-packages (from ipython>=6.0->watermark) (3.0.50)\n",
            "Requirement already satisfied: pygments in /usr/local/lib/python3.11/dist-packages (from ipython>=6.0->watermark) (2.18.0)\n",
            "Requirement already satisfied: backcall in /usr/local/lib/python3.11/dist-packages (from ipython>=6.0->watermark) (0.2.0)\n",
            "Requirement already satisfied: matplotlib-inline in /usr/local/lib/python3.11/dist-packages (from ipython>=6.0->watermark) (0.1.7)\n",
            "Requirement already satisfied: pexpect>4.3 in /usr/local/lib/python3.11/dist-packages (from ipython>=6.0->watermark) (4.9.0)\n",
            "Requirement already satisfied: parso<0.9.0,>=0.8.4 in /usr/local/lib/python3.11/dist-packages (from jedi>=0.16->ipython>=6.0->watermark) (0.8.4)\n",
            "Requirement already satisfied: ptyprocess>=0.5 in /usr/local/lib/python3.11/dist-packages (from pexpect>4.3->ipython>=6.0->watermark) (0.7.0)\n",
            "Requirement already satisfied: wcwidth in /usr/local/lib/python3.11/dist-packages (from prompt-toolkit!=3.0.0,!=3.0.1,<3.1.0,>=2.0.0->ipython>=6.0->watermark) (0.2.13)\n",
            "Downloading watermark-2.5.0-py2.py3-none-any.whl (7.7 kB)\n",
            "Downloading jedi-0.19.2-py2.py3-none-any.whl (1.6 MB)\n",
            "\u001b[2K   \u001b[90m━━━━━━━━━━━━━━━━━━━━━━━━━━━━━━━━━━━━━━━━\u001b[0m \u001b[32m1.6/1.6 MB\u001b[0m \u001b[31m19.7 MB/s\u001b[0m eta \u001b[36m0:00:00\u001b[0m\n",
            "\u001b[?25hInstalling collected packages: jedi, watermark\n",
            "Successfully installed jedi-0.19.2 watermark-2.5.0\n"
          ]
        },
        {
          "output_type": "stream",
          "name": "stderr",
          "text": [
            "UsageError: Line magic function `%watermark` not found.\n"
          ]
        }
      ],
      "source": [
        "try:\n",
        "    %load_ext watermark\n",
        "except:\n",
        "    !pip install watermark\n",
        "%watermark -v -m -iv"
      ]
    },
    {
      "cell_type": "code",
      "source": [],
      "metadata": {
        "id": "1v2-s3p7opRA"
      },
      "execution_count": null,
      "outputs": []
    }
  ],
  "metadata": {
    "colab": {
      "name": "rheology.ipynb",
      "provenance": [],
      "include_colab_link": true
    },
    "kernelspec": {
      "display_name": "Python 3 (ipykernel)",
      "language": "python",
      "name": "python3"
    },
    "language_info": {
      "codemirror_mode": {
        "name": "ipython",
        "version": 3
      },
      "file_extension": ".py",
      "mimetype": "text/x-python",
      "name": "python",
      "nbconvert_exporter": "python",
      "pygments_lexer": "ipython3",
      "version": "3.8.13"
    },
    "toc-showtags": false,
    "widgets": {
      "application/vnd.jupyter.widget-state+json": {
        "7850406e09024beab92f228033d21dfe": {
          "model_module": "@jupyter-widgets/controls",
          "model_name": "VBoxModel",
          "model_module_version": "1.5.0",
          "state": {
            "_dom_classes": [
              "widget-interact"
            ],
            "_model_module": "@jupyter-widgets/controls",
            "_model_module_version": "1.5.0",
            "_model_name": "VBoxModel",
            "_view_count": null,
            "_view_module": "@jupyter-widgets/controls",
            "_view_module_version": "1.5.0",
            "_view_name": "VBoxView",
            "box_style": "",
            "children": [
              "IPY_MODEL_584fef9fb98a4adda3194150eacf9a31",
              "IPY_MODEL_f81c26f2f16142af918311ca69c264df"
            ],
            "layout": "IPY_MODEL_c5e310aa69e840a885cbc1c7114ab0d4"
          }
        },
        "584fef9fb98a4adda3194150eacf9a31": {
          "model_module": "@jupyter-widgets/controls",
          "model_name": "FloatSliderModel",
          "model_module_version": "1.5.0",
          "state": {
            "_dom_classes": [],
            "_model_module": "@jupyter-widgets/controls",
            "_model_module_version": "1.5.0",
            "_model_name": "FloatSliderModel",
            "_view_count": null,
            "_view_module": "@jupyter-widgets/controls",
            "_view_module_version": "1.5.0",
            "_view_name": "FloatSliderView",
            "continuous_update": true,
            "description": "n",
            "description_tooltip": null,
            "disabled": false,
            "layout": "IPY_MODEL_78f43d8a742a49aa9d6ab5e38aaf5b04",
            "max": 2,
            "min": 0.01,
            "orientation": "horizontal",
            "readout": true,
            "readout_format": ".2f",
            "step": 0.01,
            "style": "IPY_MODEL_6491e51f654c44d6a36b1247b835e336",
            "value": 0.46
          }
        },
        "f81c26f2f16142af918311ca69c264df": {
          "model_module": "@jupyter-widgets/output",
          "model_name": "OutputModel",
          "model_module_version": "1.0.0",
          "state": {
            "_dom_classes": [],
            "_model_module": "@jupyter-widgets/output",
            "_model_module_version": "1.0.0",
            "_model_name": "OutputModel",
            "_view_count": null,
            "_view_module": "@jupyter-widgets/output",
            "_view_module_version": "1.0.0",
            "_view_name": "OutputView",
            "layout": "IPY_MODEL_52296451b94747ccbd0cf6d4b18811d7",
            "msg_id": "",
            "outputs": [
              {
                "output_type": "display_data",
                "data": {
                  "text/plain": "<Figure size 640x480 with 1 Axes>",
                  "image/png": "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\n"
                },
                "metadata": {}
              }
            ]
          }
        },
        "c5e310aa69e840a885cbc1c7114ab0d4": {
          "model_module": "@jupyter-widgets/base",
          "model_name": "LayoutModel",
          "model_module_version": "1.2.0",
          "state": {
            "_model_module": "@jupyter-widgets/base",
            "_model_module_version": "1.2.0",
            "_model_name": "LayoutModel",
            "_view_count": null,
            "_view_module": "@jupyter-widgets/base",
            "_view_module_version": "1.2.0",
            "_view_name": "LayoutView",
            "align_content": null,
            "align_items": null,
            "align_self": null,
            "border": null,
            "bottom": null,
            "display": null,
            "flex": null,
            "flex_flow": null,
            "grid_area": null,
            "grid_auto_columns": null,
            "grid_auto_flow": null,
            "grid_auto_rows": null,
            "grid_column": null,
            "grid_gap": null,
            "grid_row": null,
            "grid_template_areas": null,
            "grid_template_columns": null,
            "grid_template_rows": null,
            "height": null,
            "justify_content": null,
            "justify_items": null,
            "left": null,
            "margin": null,
            "max_height": null,
            "max_width": null,
            "min_height": null,
            "min_width": null,
            "object_fit": null,
            "object_position": null,
            "order": null,
            "overflow": null,
            "overflow_x": null,
            "overflow_y": null,
            "padding": null,
            "right": null,
            "top": null,
            "visibility": null,
            "width": null
          }
        },
        "78f43d8a742a49aa9d6ab5e38aaf5b04": {
          "model_module": "@jupyter-widgets/base",
          "model_name": "LayoutModel",
          "model_module_version": "1.2.0",
          "state": {
            "_model_module": "@jupyter-widgets/base",
            "_model_module_version": "1.2.0",
            "_model_name": "LayoutModel",
            "_view_count": null,
            "_view_module": "@jupyter-widgets/base",
            "_view_module_version": "1.2.0",
            "_view_name": "LayoutView",
            "align_content": null,
            "align_items": null,
            "align_self": null,
            "border": null,
            "bottom": null,
            "display": null,
            "flex": null,
            "flex_flow": null,
            "grid_area": null,
            "grid_auto_columns": null,
            "grid_auto_flow": null,
            "grid_auto_rows": null,
            "grid_column": null,
            "grid_gap": null,
            "grid_row": null,
            "grid_template_areas": null,
            "grid_template_columns": null,
            "grid_template_rows": null,
            "height": null,
            "justify_content": null,
            "justify_items": null,
            "left": null,
            "margin": null,
            "max_height": null,
            "max_width": null,
            "min_height": null,
            "min_width": null,
            "object_fit": null,
            "object_position": null,
            "order": null,
            "overflow": null,
            "overflow_x": null,
            "overflow_y": null,
            "padding": null,
            "right": null,
            "top": null,
            "visibility": null,
            "width": null
          }
        },
        "6491e51f654c44d6a36b1247b835e336": {
          "model_module": "@jupyter-widgets/controls",
          "model_name": "SliderStyleModel",
          "model_module_version": "1.5.0",
          "state": {
            "_model_module": "@jupyter-widgets/controls",
            "_model_module_version": "1.5.0",
            "_model_name": "SliderStyleModel",
            "_view_count": null,
            "_view_module": "@jupyter-widgets/base",
            "_view_module_version": "1.2.0",
            "_view_name": "StyleView",
            "description_width": "",
            "handle_color": null
          }
        },
        "52296451b94747ccbd0cf6d4b18811d7": {
          "model_module": "@jupyter-widgets/base",
          "model_name": "LayoutModel",
          "model_module_version": "1.2.0",
          "state": {
            "_model_module": "@jupyter-widgets/base",
            "_model_module_version": "1.2.0",
            "_model_name": "LayoutModel",
            "_view_count": null,
            "_view_module": "@jupyter-widgets/base",
            "_view_module_version": "1.2.0",
            "_view_name": "LayoutView",
            "align_content": null,
            "align_items": null,
            "align_self": null,
            "border": null,
            "bottom": null,
            "display": null,
            "flex": null,
            "flex_flow": null,
            "grid_area": null,
            "grid_auto_columns": null,
            "grid_auto_flow": null,
            "grid_auto_rows": null,
            "grid_column": null,
            "grid_gap": null,
            "grid_row": null,
            "grid_template_areas": null,
            "grid_template_columns": null,
            "grid_template_rows": null,
            "height": "350px",
            "justify_content": null,
            "justify_items": null,
            "left": null,
            "margin": null,
            "max_height": null,
            "max_width": null,
            "min_height": null,
            "min_width": null,
            "object_fit": null,
            "object_position": null,
            "order": null,
            "overflow": null,
            "overflow_x": null,
            "overflow_y": null,
            "padding": null,
            "right": null,
            "top": null,
            "visibility": null,
            "width": null
          }
        }
      }
    }
  },
  "nbformat": 4,
  "nbformat_minor": 0
}